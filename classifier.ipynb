{
 "cells": [
  {
   "cell_type": "code",
   "execution_count": 1,
   "metadata": {},
   "outputs": [],
   "source": [
    "import pandas as pd \n",
    "import numpy as np"
   ]
  },
  {
   "cell_type": "code",
   "execution_count": 2,
   "metadata": {},
   "outputs": [],
   "source": [
    "import nltk\n",
    "# nltk.download('all')# download nltk files\n",
    "from nltk.corpus import stopwords\n",
    "from nltk.tokenize import RegexpTokenizer\n",
    "from nltk.stem import WordNetLemmatizer\n",
    "from nltk.stem.porter import PorterStemmer\n",
    "import string\n",
    "from nltk.tokenize import sent_tokenize, word_tokenize "
   ]
  },
  {
   "cell_type": "code",
   "execution_count": 3,
   "metadata": {},
   "outputs": [],
   "source": [
    "import os \n",
    "import glob\n",
    "import re\n",
    "import time"
   ]
  },
  {
   "cell_type": "code",
   "execution_count": 4,
   "metadata": {},
   "outputs": [],
   "source": [
    "from sklearn.feature_extraction.text import CountVectorizer"
   ]
  },
  {
   "cell_type": "code",
   "execution_count": 5,
   "metadata": {},
   "outputs": [],
   "source": [
    "from sklearn.feature_extraction.text import TfidfVectorizer\n",
    "from sklearn.feature_extraction.text import HashingVectorizer\n",
    "from sklearn.pipeline import Pipeline\n",
    "from sklearn.metrics import classification_report, confusion_matrix\n",
    "from sklearn.model_selection import train_test_split\n",
    "from sklearn.feature_selection import SelectKBest, chi2\n",
    "from sklearn.ensemble import RandomForestClassifier\n",
    "import matplotlib.pyplot as plt\n",
    "\n",
    "# %matplotlib inline\n"
   ]
  },
  {
   "cell_type": "code",
   "execution_count": 6,
   "metadata": {},
   "outputs": [],
   "source": [
    "from sklearn.svm import SVC"
   ]
  },
  {
   "cell_type": "code",
   "execution_count": 7,
   "metadata": {},
   "outputs": [],
   "source": [
    "import datetime\n",
    "import torch\n",
    "import torch.nn as nn\n",
    "import torch.nn.functional as F\n",
    "# import torchnlp.nn as nlp_nn\n",
    "import pandas as pd\n",
    "import numpy as np\n",
    "import string\n",
    "import json\n",
    "import torch.optim as optim\n",
    "import matplotlib.pyplot as plt\n",
    "import matplotlib.animation as animation\n",
    "torch.manual_seed(1)\n",
    "# from tensorflow import summary\n",
    "import random\n",
    "from torch.autograd import Variable\n",
    "# import tensorflow as tf"
   ]
  },
  {
   "cell_type": "code",
   "execution_count": 8,
   "metadata": {},
   "outputs": [],
   "source": [
    "def ap(y_pred,y_belong):\n",
    "  y_pred = np.array(y_pred)\n",
    "  y_belong = np.array(y_belong)\n",
    "  y_pred = y_pred.reshape(-1,1)\n",
    "  y_belong = y_belong.reshape(-1,1)\n",
    "  arr = np.concatenate((y_pred,y_belong),axis=1)\n",
    "  \n",
    "  arr = sorted(arr,key = lambda x:x[0],reverse=True)\n",
    "  \n",
    "  ans = 0\n",
    "  rel = 0\n",
    "  num = 0\n",
    "  for i in range(len(y_pred)):\n",
    "    if arr[i][1] == 1:\n",
    "      rel = rel+1\n",
    "      ans += rel/(i+1)\n",
    "      num = num+1\n",
    "  return ans/num"
   ]
  },
  {
   "cell_type": "code",
   "execution_count": 9,
   "metadata": {},
   "outputs": [],
   "source": [
    "def rem_stop(txt):\n",
    "  return [ c for c in txt if c not in stopwords.words(\"english\")]\n",
    "stemmer = PorterStemmer()\n",
    "def word_stemm(txt):\n",
    "  return [stemmer.stem(w) for w in txt]"
   ]
  },
  {
   "cell_type": "code",
   "execution_count": 10,
   "metadata": {},
   "outputs": [],
   "source": [
    "xl_files_train = glob.glob(\"./dataset/Task1/Train/*.xlsx\")\n",
    "xl_files_test = glob.glob(\"./dataset/Task1/Test/*.xlsx\")"
   ]
  },
  {
   "cell_type": "code",
   "execution_count": 11,
   "metadata": {},
   "outputs": [
    {
     "data": {
      "text/plain": [
       "['./dataset/Task1/Test/Loss.xlsx',\n",
       " './dataset/Task1/Test/Frustrative_Nonreward.xlsx',\n",
       " './dataset/Task1/Test/Sleep_Wakefulness.xlsx',\n",
       " './dataset/Task1/Test/Sustained_Threat.xlsx',\n",
       " './dataset/Task1/Test/Potential_Threat_Anxiety.xlsx',\n",
       " './dataset/Task1/Test/Circadian_Rhythms.xlsx',\n",
       " './dataset/Task1/Test/Arousal.xlsx',\n",
       " './dataset/Task1/Test/Acute_Threat_Fear.xlsx']"
      ]
     },
     "execution_count": 11,
     "metadata": {},
     "output_type": "execute_result"
    }
   ],
   "source": [
    "xl_files_test"
   ]
  },
  {
   "cell_type": "code",
   "execution_count": 12,
   "metadata": {},
   "outputs": [],
   "source": [
    "# create labels\n",
    "labels = {}\n",
    "revLabels = {}\n",
    "for i,xl in  enumerate(xl_files_train):\n",
    "    className = xl.split(\"/\")[-1][:-5]\n",
    "    labels[className] = i\n",
    "    revLabels[i] = className"
   ]
  },
  {
   "cell_type": "code",
   "execution_count": 13,
   "metadata": {},
   "outputs": [],
   "source": [
    "#train dataframes\n",
    "frames = []\n",
    "for xl_file in xl_files_train:\n",
    "    df1 = pd.read_excel(xl_file)\n",
    "    className = xl_file.split(\"/\")[-1][:-5]\n",
    "    df1['Y'] = labels[className]\n",
    "    frames.append(df1)\n",
    "df_train = pd.concat(frames,ignore_index = True)"
   ]
  },
  {
   "cell_type": "code",
   "execution_count": 14,
   "metadata": {},
   "outputs": [],
   "source": [
    "#test dataframes\n",
    "frames = []\n",
    "for xl_file in xl_files_test:\n",
    "    df1 = pd.read_excel(xl_file)\n",
    "    className = xl_file.split(\"/\")[-1][:-5]\n",
    "    df1['Y'] = labels[className]\n",
    "    frames.append(df1)\n",
    "df_test = pd.concat(frames,ignore_index = True)"
   ]
  },
  {
   "cell_type": "code",
   "execution_count": 15,
   "metadata": {},
   "outputs": [],
   "source": [
    "PUNC_LIST = string.punctuation + string.digits\n",
    "TOKENIZER = re.compile(r\"\\w+\")\n",
    "def clean_text(text):\n",
    "    \"\"\"\n",
    "        Removes non-alphabetic characters\n",
    "    \"\"\"\n",
    "    #remove new line and carriage with space\n",
    "    text = text.replace(\"\\n\",\" \").replace(\"\\r\",\" \")\n",
    "    tmp = str.maketrans(dict.fromkeys(PUNC_LIST,\" \"))\n",
    "    text = text.translate(tmp)\n",
    "    # replace single quote with empty \n",
    "    tmp  = str.maketrans(dict.fromkeys(\"'`\",\"\"))\n",
    "    return text.translate(tmp)\n",
    "def regexTokenize(text):\n",
    "\n",
    "    return TOKENIZER.findall(clean_text(text))"
   ]
  },
  {
   "cell_type": "code",
   "execution_count": 273,
   "metadata": {},
   "outputs": [],
   "source": [
    "# pre process the text\n",
    "stop_words = stopwords.words(\"english\")\n",
    "def stem(w):\n",
    "#     return w.lower()\n",
    "    return stemmer.stem(w)#.lower()\n",
    "cols = ['title','abstract']\n",
    "for col in cols :\n",
    "    df_train['c_'+col] = df_train[col].apply(lambda x: \" \".join([stem(i) for i in regexTokenize(x) if i not in stop_words]))\n",
    "    df_test['c_'+col] = df_test[col].apply(lambda x: \" \".join([stem(i) for i in regexTokenize(x) if i not in stop_words]))"
   ]
  },
  {
   "cell_type": "code",
   "execution_count": 274,
   "metadata": {},
   "outputs": [],
   "source": [
    "# concatenate the entire text\n",
    "df_train['inp'] =  df_train['c_title'] + df_train['c_abstract']\n",
    "df_test['inp'] = df_test['c_title']  + df_test['c_abstract']\n",
    "# c_title = df_train[['c_title','pmid']].values"
   ]
  },
  {
   "cell_type": "code",
   "execution_count": 275,
   "metadata": {},
   "outputs": [],
   "source": [
    "x_train = df_train['inp'].values"
   ]
  },
  {
   "cell_type": "code",
   "execution_count": 276,
   "metadata": {},
   "outputs": [],
   "source": [
    "tfidf = TfidfVectorizer()#, tokenizer=regexTokenize)"
   ]
  },
  {
   "cell_type": "code",
   "execution_count": 277,
   "metadata": {},
   "outputs": [
    {
     "data": {
      "text/plain": [
       "Index(['pmid', 'title', 'abstract', 'Belongs to RDoC construct?',\n",
       "       'Relevant Context', 'Y', 'c_title', 'c_abstract', 'inp', 'Belongs'],\n",
       "      dtype='object')"
      ]
     },
     "execution_count": 277,
     "metadata": {},
     "output_type": "execute_result"
    }
   ],
   "source": [
    "df_test.columns "
   ]
  },
  {
   "cell_type": "code",
   "execution_count": 278,
   "metadata": {},
   "outputs": [],
   "source": [
    "# frequency analysis\n",
    "voc = {}\n",
    "for row in x_train:\n",
    "    for w in row.split():\n",
    "        if w in voc : \n",
    "            voc[w] += 1\n",
    "        else:\n",
    "            voc[w] = 1"
   ]
  },
  {
   "cell_type": "code",
   "execution_count": 279,
   "metadata": {},
   "outputs": [
    {
     "name": "stdout",
     "output_type": "stream",
     "text": [
      "sleep 513\n"
     ]
    }
   ],
   "source": [
    "freqList = []\n",
    "v= 1000\n",
    "label = []\n",
    "for k in voc.keys():\n",
    "        freqList.append(voc[k])\n",
    "        label.append(k)\n",
    "        if voc[k] > 400:\n",
    "            print(k,voc[k])"
   ]
  },
  {
   "cell_type": "code",
   "execution_count": 280,
   "metadata": {},
   "outputs": [
    {
     "data": {
      "text/plain": [
       "[<matplotlib.lines.Line2D at 0x132f86e50>]"
      ]
     },
     "execution_count": 280,
     "metadata": {},
     "output_type": "execute_result"
    },
    {
     "data": {
      "image/png": "[encoded data removed]",
      "text/plain": [
       "<Figure size 432x288 with 1 Axes>"
      ]
     },
     "metadata": {
      "needs_background": "light"
     },
     "output_type": "display_data"
    }
   ],
   "source": [
    "plt.plot(freqList)"
   ]
  },
  {
   "cell_type": "code",
   "execution_count": 281,
   "metadata": {},
   "outputs": [],
   "source": [
    "x_train = tfidf.fit_transform(x_train).toarray()"
   ]
  },
  {
   "cell_type": "code",
   "execution_count": 282,
   "metadata": {},
   "outputs": [],
   "source": [
    "y_train = df_train['Y'].values"
   ]
  },
  {
   "cell_type": "code",
   "execution_count": 283,
   "metadata": {},
   "outputs": [],
   "source": [
    "x_test = df_test['inp'].values\n",
    "x_test = tfidf.transform(x_test).toarray()\n",
    "df_test['Belongs'] = df_test['Belongs to RDoC construct?']"
   ]
  },
  {
   "cell_type": "code",
   "execution_count": 284,
   "metadata": {},
   "outputs": [],
   "source": [
    "# gdf.groups\n",
    "gdf = df_test.groupby('Y')\n",
    "construct_test = {}\n",
    "for i in range(8):\n",
    "  construct_test[i]= df_test.iloc[gdf.groups[i]]"
   ]
  },
  {
   "cell_type": "code",
   "execution_count": 285,
   "metadata": {},
   "outputs": [],
   "source": [
    "cw = [28,21,48,18,27,47,38,39]\n",
    "ncw = [ np.exp(-(i/sum(cw))) for i in cw]\n",
    "tcw = [ np.exp((i/sum(cw))) for i in cw]\n",
    "sftmax = { i:e/ sum(ncw) for i,e in enumerate(ncw)}\n",
    "tsftmax = { i:e/ sum(tcw) for i,e in enumerate(tcw)}\n",
    "siminv={ i:e/ sum(cw) for i,e in enumerate(cw)}"
   ]
  },
  {
   "cell_type": "code",
   "execution_count": 295,
   "metadata": {},
   "outputs": [
    {
     "name": "stdout",
     "output_type": "stream",
     "text": [
      "Help on class XGBClassifier in module xgboost.sklearn:\n",
      "\n",
      "class XGBClassifier(XGBModel, sklearn.base.ClassifierMixin)\n",
      " |  XGBClassifier(max_depth=3, learning_rate=0.1, n_estimators=100, silent=True, objective='binary:logistic', booster='gbtree', n_jobs=1, nthread=None, gamma=0, min_child_weight=1, max_delta_step=0, subsample=1, colsample_bytree=1, colsample_bylevel=1, reg_alpha=0, reg_lambda=1, scale_pos_weight=1, base_score=0.5, random_state=0, seed=None, missing=None, **kwargs)\n",
      " |  \n",
      " |  Implementation of the scikit-learn API for XGBoost classification.\n",
      " |  \n",
      " |      Parameters\n",
      " |  ----------\n",
      " |  max_depth : int\n",
      " |      Maximum tree depth for base learners.\n",
      " |  learning_rate : float\n",
      " |      Boosting learning rate (xgb's \"eta\")\n",
      " |  n_estimators : int\n",
      " |      Number of boosted trees to fit.\n",
      " |  silent : boolean\n",
      " |      Whether to print messages while running boosting.\n",
      " |  objective : string or callable\n",
      " |      Specify the learning task and the corresponding learning objective or\n",
      " |      a custom objective function to be used (see note below).\n",
      " |  booster: string\n",
      " |      Specify which booster to use: gbtree, gblinear or dart.\n",
      " |  nthread : int\n",
      " |      Number of parallel threads used to run xgboost.  (Deprecated, please use n_jobs)\n",
      " |  n_jobs : int\n",
      " |      Number of parallel threads used to run xgboost.  (replaces nthread)\n",
      " |  gamma : float\n",
      " |      Minimum loss reduction required to make a further partition on a leaf node of the tree.\n",
      " |  min_child_weight : int\n",
      " |      Minimum sum of instance weight(hessian) needed in a child.\n",
      " |  max_delta_step : int\n",
      " |      Maximum delta step we allow each tree's weight estimation to be.\n",
      " |  subsample : float\n",
      " |      Subsample ratio of the training instance.\n",
      " |  colsample_bytree : float\n",
      " |      Subsample ratio of columns when constructing each tree.\n",
      " |  colsample_bylevel : float\n",
      " |      Subsample ratio of columns for each split, in each level.\n",
      " |  reg_alpha : float (xgb's alpha)\n",
      " |      L1 regularization term on weights\n",
      " |  reg_lambda : float (xgb's lambda)\n",
      " |      L2 regularization term on weights\n",
      " |  scale_pos_weight : float\n",
      " |      Balancing of positive and negative weights.\n",
      " |  base_score:\n",
      " |      The initial prediction score of all instances, global bias.\n",
      " |  seed : int\n",
      " |      Random number seed.  (Deprecated, please use random_state)\n",
      " |  random_state : int\n",
      " |      Random number seed.  (replaces seed)\n",
      " |  missing : float, optional\n",
      " |      Value in the data which needs to be present as a missing value. If\n",
      " |      None, defaults to np.nan.\n",
      " |  **kwargs : dict, optional\n",
      " |      Keyword arguments for XGBoost Booster object.  Full documentation of parameters can\n",
      " |      be found here: https://github.com/dmlc/xgboost/blob/master/doc/parameter.md.\n",
      " |      Attempting to set a parameter via the constructor args and **kwargs dict simultaneously\n",
      " |      will result in a TypeError.\n",
      " |      Note:\n",
      " |          **kwargs is unsupported by Sklearn.  We do not guarantee that parameters passed via\n",
      " |          this argument will interact properly with Sklearn.\n",
      " |  \n",
      " |  Note\n",
      " |  ----\n",
      " |  A custom objective function can be provided for the ``objective``\n",
      " |  parameter. In this case, it should have the signature\n",
      " |  ``objective(y_true, y_pred) -> grad, hess``:\n",
      " |  \n",
      " |  y_true: array_like of shape [n_samples]\n",
      " |      The target values\n",
      " |  y_pred: array_like of shape [n_samples]\n",
      " |      The predicted values\n",
      " |  \n",
      " |  grad: array_like of shape [n_samples]\n",
      " |      The value of the gradient for each sample point.\n",
      " |  hess: array_like of shape [n_samples]\n",
      " |      The value of the second derivative for each sample point\n",
      " |  \n",
      " |  Method resolution order:\n",
      " |      XGBClassifier\n",
      " |      XGBModel\n",
      " |      sklearn.base.BaseEstimator\n",
      " |      sklearn.base.ClassifierMixin\n",
      " |      builtins.object\n",
      " |  \n",
      " |  Methods defined here:\n",
      " |  \n",
      " |  __init__(self, max_depth=3, learning_rate=0.1, n_estimators=100, silent=True, objective='binary:logistic', booster='gbtree', n_jobs=1, nthread=None, gamma=0, min_child_weight=1, max_delta_step=0, subsample=1, colsample_bytree=1, colsample_bylevel=1, reg_alpha=0, reg_lambda=1, scale_pos_weight=1, base_score=0.5, random_state=0, seed=None, missing=None, **kwargs)\n",
      " |      Initialize self.  See help(type(self)) for accurate signature.\n",
      " |  \n",
      " |  evals_result(self)\n",
      " |      Return the evaluation results.\n",
      " |      \n",
      " |      If eval_set is passed to the `fit` function, you can call evals_result() to\n",
      " |      get evaluation results for all passed eval_sets. When eval_metric is also\n",
      " |      passed to the `fit` function, the evals_result will contain the eval_metrics\n",
      " |      passed to the `fit` function\n",
      " |      \n",
      " |      Returns\n",
      " |      -------\n",
      " |      evals_result : dictionary\n",
      " |      \n",
      " |      Example\n",
      " |      -------\n",
      " |      param_dist = {'objective':'binary:logistic', 'n_estimators':2}\n",
      " |      \n",
      " |      clf = xgb.XGBClassifier(**param_dist)\n",
      " |      \n",
      " |      clf.fit(X_train, y_train,\n",
      " |              eval_set=[(X_train, y_train), (X_test, y_test)],\n",
      " |              eval_metric='logloss',\n",
      " |              verbose=True)\n",
      " |      \n",
      " |      evals_result = clf.evals_result()\n",
      " |      \n",
      " |      The variable evals_result will contain:\n",
      " |      {'validation_0': {'logloss': ['0.604835', '0.531479']},\n",
      " |       'validation_1': {'logloss': ['0.41965', '0.17686']}}\n",
      " |  \n",
      " |  fit(self, X, y, sample_weight=None, eval_set=None, eval_metric=None, early_stopping_rounds=None, verbose=True, xgb_model=None)\n",
      " |      Fit gradient boosting classifier\n",
      " |      \n",
      " |      Parameters\n",
      " |      ----------\n",
      " |      X : array_like\n",
      " |          Feature matrix\n",
      " |      y : array_like\n",
      " |          Labels\n",
      " |      sample_weight : array_like\n",
      " |          Weight for each instance\n",
      " |      eval_set : list, optional\n",
      " |          A list of (X, y) pairs to use as a validation set for\n",
      " |          early-stopping\n",
      " |      eval_metric : str, callable, optional\n",
      " |          If a str, should be a built-in evaluation metric to use. See\n",
      " |          doc/parameter.md. If callable, a custom evaluation metric. The call\n",
      " |          signature is func(y_predicted, y_true) where y_true will be a\n",
      " |          DMatrix object such that you may need to call the get_label\n",
      " |          method. It must return a str, value pair where the str is a name\n",
      " |          for the evaluation and value is the value of the evaluation\n",
      " |          function. This objective is always minimized.\n",
      " |      early_stopping_rounds : int, optional\n",
      " |          Activates early stopping. Validation error needs to decrease at\n",
      " |          least every <early_stopping_rounds> round(s) to continue training.\n",
      " |          Requires at least one item in evals.  If there's more than one,\n",
      " |          will use the last. Returns the model from the last iteration\n",
      " |          (not the best one). If early stopping occurs, the model will\n",
      " |          have three additional fields: bst.best_score, bst.best_iteration\n",
      " |          and bst.best_ntree_limit.\n",
      " |          (Use bst.best_ntree_limit to get the correct value if num_parallel_tree\n",
      " |          and/or num_class appears in the parameters)\n",
      " |      verbose : bool\n",
      " |          If `verbose` and an evaluation set is used, writes the evaluation\n",
      " |          metric measured on the validation set to stderr.\n",
      " |      xgb_model : str\n",
      " |          file name of stored xgb model or 'Booster' instance Xgb model to be\n",
      " |          loaded before training (allows training continuation).\n",
      " |  \n",
      " |  predict(self, data, output_margin=False, ntree_limit=0)\n",
      " |  \n",
      " |  predict_proba(self, data, output_margin=False, ntree_limit=0)\n",
      " |  \n",
      " |  ----------------------------------------------------------------------\n",
      " |  Methods inherited from XGBModel:\n",
      " |  \n",
      " |  __setstate__(self, state)\n",
      " |  \n",
      " |  apply(self, X, ntree_limit=0)\n",
      " |      Return the predicted leaf every tree for each sample.\n",
      " |      \n",
      " |      Parameters\n",
      " |      ----------\n",
      " |      X : array_like, shape=[n_samples, n_features]\n",
      " |          Input features matrix.\n",
      " |      \n",
      " |      ntree_limit : int\n",
      " |          Limit number of trees in the prediction; defaults to 0 (use all trees).\n",
      " |      \n",
      " |      Returns\n",
      " |      -------\n",
      " |      X_leaves : array_like, shape=[n_samples, n_trees]\n",
      " |          For each datapoint x in X and for each tree, return the index of the\n",
      " |          leaf x ends up in. Leaves are numbered within\n",
      " |          ``[0; 2**(self.max_depth+1))``, possibly with gaps in the numbering.\n",
      " |  \n",
      " |  get_booster(self)\n",
      " |      Get the underlying xgboost Booster of this model.\n",
      " |      \n",
      " |      This will raise an exception when fit was not called\n",
      " |      \n",
      " |      Returns\n",
      " |      -------\n",
      " |      booster : a xgboost booster of underlying model\n",
      " |  \n",
      " |  get_params(self, deep=False)\n",
      " |      Get parameters.\n",
      " |  \n",
      " |  get_xgb_params(self)\n",
      " |      Get xgboost type parameters.\n",
      " |  \n",
      " |  ----------------------------------------------------------------------\n",
      " |  Data descriptors inherited from XGBModel:\n",
      " |  \n",
      " |  feature_importances_\n",
      " |      Returns\n",
      " |      -------\n",
      " |      feature_importances_ : array of shape = [n_features]\n",
      " |  \n",
      " |  ----------------------------------------------------------------------\n",
      " |  Methods inherited from sklearn.base.BaseEstimator:\n",
      " |  \n",
      " |  __getstate__(self)\n",
      " |  \n",
      " |  __repr__(self, N_CHAR_MAX=700)\n",
      " |      Return repr(self).\n",
      " |  \n",
      " |  set_params(self, **params)\n",
      " |      Set the parameters of this estimator.\n",
      " |      \n",
      " |      The method works on simple estimators as well as on nested objects\n",
      " |      (such as pipelines). The latter have parameters of the form\n",
      " |      ``<component>__<parameter>`` so that it's possible to update each\n",
      " |      component of a nested object.\n",
      " |      \n",
      " |      Parameters\n",
      " |      ----------\n",
      " |      **params : dict\n",
      " |          Estimator parameters.\n",
      " |      \n",
      " |      Returns\n",
      " |      -------\n",
      " |      self : object\n",
      " |          Estimator instance.\n",
      " |  \n",
      " |  ----------------------------------------------------------------------\n",
      " |  Data descriptors inherited from sklearn.base.BaseEstimator:\n",
      " |  \n",
      " |  __dict__\n",
      " |      dictionary for instance variables (if defined)\n",
      " |  \n",
      " |  __weakref__\n",
      " |      list of weak references to the object (if defined)\n",
      " |  \n",
      " |  ----------------------------------------------------------------------\n",
      " |  Methods inherited from sklearn.base.ClassifierMixin:\n",
      " |  \n",
      " |  score(self, X, y, sample_weight=None)\n",
      " |      Return the mean accuracy on the given test data and labels.\n",
      " |      \n",
      " |      In multi-label classification, this is the subset accuracy\n",
      " |      which is a harsh metric since you require for each sample that\n",
      " |      each label set be correctly predicted.\n",
      " |      \n",
      " |      Parameters\n",
      " |      ----------\n",
      " |      X : array-like of shape (n_samples, n_features)\n",
      " |          Test samples.\n",
      " |      \n",
      " |      y : array-like of shape (n_samples,) or (n_samples, n_outputs)\n",
      " |          True labels for X.\n",
      " |      \n",
      " |      sample_weight : array-like of shape (n_samples,), default=None\n",
      " |          Sample weights.\n",
      " |      \n",
      " |      Returns\n",
      " |      -------\n",
      " |      score : float\n",
      " |          Mean accuracy of self.predict(X) wrt. y.\n",
      "\n"
     ]
    }
   ],
   "source": [
    "help(XGBClassifier)"
   ]
  },
  {
   "cell_type": "code",
   "execution_count": 296,
   "metadata": {},
   "outputs": [],
   "source": []
  },
  {
   "cell_type": "code",
   "execution_count": 297,
   "metadata": {},
   "outputs": [
    {
     "data": {
      "text/plain": [
       "XGBClassifier(base_score=0.5, booster='gbtree', colsample_bylevel=1,\n",
       "              colsample_bytree=1, gamma=0, learning_rate=0.1, max_delta_step=0,\n",
       "              max_depth=3, min_child_weight=1, missing=None, n_estimator=200,\n",
       "              n_estimators=100, n_jobs=1, nthread=None,\n",
       "              objective='multi:softprob', random_state=0, reg_alpha=0,\n",
       "              reg_lambda=1, scale_pos_weight=1, seed=None, silent=True,\n",
       "              subsample=1)"
      ]
     },
     "execution_count": 297,
     "metadata": {},
     "output_type": "execute_result"
    }
   ],
   "source": [
    "xgb.fit(x_train, y_train)"
   ]
  },
  {
   "cell_type": "code",
   "execution_count": null,
   "metadata": {},
   "outputs": [],
   "source": []
  },
  {
   "cell_type": "code",
   "execution_count": 286,
   "metadata": {},
   "outputs": [],
   "source": [
    "# # USING RANDOM FOREST CLASSIFIER\n",
    "# from sklearn.ensemble import RandomForestClassifier\n",
    "# rfc = RandomForestClassifier(bootstrap=True,n_estimators=200,criterion=\"gini\",random_state = 47,max_depth = 3,class_weight=siminv)\n",
    "# svmc = SVC(gamma = 0.01,C= 0.25,probability = True,shrinking =True,class_weight=tsftmax,break_ties=True, kernel=\"rbf\"  ,decision_function_shape = 'ovr',random_state = 47)"
   ]
  },
  {
   "cell_type": "code",
   "execution_count": 302,
   "metadata": {},
   "outputs": [
    {
     "name": "stdout",
     "output_type": "stream",
     "text": [
      "RandomForestClassifier(bootstrap=True, ccp_alpha=0.0,\n",
      "                       class_weight={0: 0.10526315789473684,\n",
      "                                     1: 0.07894736842105263,\n",
      "                                     2: 0.18045112781954886,\n",
      "                                     3: 0.06766917293233082,\n",
      "                                     4: 0.10150375939849623,\n",
      "                                     5: 0.17669172932330826,\n",
      "                                     6: 0.14285714285714285,\n",
      "                                     7: 0.14661654135338345},\n",
      "                       criterion='gini', max_depth=3, max_features='auto',\n",
      "                       max_leaf_nodes=None, max_samples=None,\n",
      "                       min_impurity_decrease=0.0, min_impurity_split=None,\n",
      "                       min_samples_leaf=1, min_samples_split=2,\n",
      "                       min_weight_fraction_leaf=0.0, n_estimators=200,\n",
      "                       n_jobs=None, oob_score=True, random_state=47, verbose=0,\n",
      "                       warm_start=False)\n",
      "SVC(C=0.25, break_ties=True, cache_size=200,\n",
      "    class_weight={0: 0.12245841926955647, 1: 0.11927786227100165,\n",
      "                  2: 0.1320208028812522, 3: 0.11794018071899233,\n",
      "                  4: 0.12199891354605118, 5: 0.13152541583553046,\n",
      "                  6: 0.1271497496322185, 7: 0.12762865584539734},\n",
      "    coef0=0.0, decision_function_shape='ovr', degree=3, gamma=0.1512,\n",
      "    kernel='rbf', max_iter=-1, probability=True, random_state=47,\n",
      "    shrinking=True, tol=0.001, verbose=False)\n",
      "XGBClassifier(base_score=0.5, booster='gbtree', colsample_bylevel=1,\n",
      "              colsample_bytree=1, gamma=0, learning_rate=0.1, max_delta_step=0,\n",
      "              max_depth=3, min_child_weight=1, missing=None, n_estimator=200,\n",
      "              n_estimators=100, n_jobs=1, nthread=None,\n",
      "              objective='multi:softprob', random_state=0, reg_alpha=0,\n",
      "              reg_lambda=1, scale_pos_weight=1, seed=None, silent=True,\n",
      "              subsample=1)\n",
      "=====\n",
      "=====\n",
      "=====\n",
      "MAP [0.83, 0.85, 0.81]\n",
      "Class Name\t\t\t0\t\t1\t\t2\n",
      "Loss\t\t\t\t0.66\t\t0.75\t\t0.7\n",
      "Frustrative_Nonreward\t\t0.69\t\t0.67\t\t0.7\n",
      "Sleep_Wakefulness\t\t1.0\t\t1.0\t\t1.0\n",
      "Sustained_Threat\t\t0.59\t\t0.64\t\t0.57\n",
      "Potential_Threat_Anxiety\t0.95\t\t0.97\t\t0.96\n",
      "Circadian_Rhythms\t\t1.0\t\t1.0\t\t1.0\n",
      "Arousal\t\t\t\t0.94\t\t0.95\t\t0.96\n",
      "Acute_Threat_Fear\t\t0.79\t\t0.82\t\t0.62\n"
     ]
    }
   ],
   "source": [
    "# USING RANDOM FOREST CLASSIFIER\n",
    "from sklearn.ensemble import RandomForestClassifier\n",
    "from xgboost import XGBClassifier\n",
    "xgb = XGBClassifier(n_estimator=200)\n",
    "rfc = RandomForestClassifier(bootstrap=True,oob_score = True,n_estimators=200,criterion=\"gini\",random_state = 47,max_depth = 3,class_weight=siminv)\n",
    "svmc = SVC(gamma = 0.1512,C= 0.25,probability = True,shrinking =True,class_weight=tsftmax,break_ties=True, kernel=\"rbf\"  ,decision_function_shape = 'ovr',random_state = 47)\n",
    "map_list = []\n",
    "estimators = [rfc,svmc,xgb]\n",
    "for model in estimators:\n",
    "    print(model.fit(x_train, y_train))\n",
    "class_count = {}\n",
    "err = {}\n",
    "for i,model in enumerate(estimators):\n",
    "  aps = 0\n",
    "  err[i] = {}\n",
    "  for cl_ in construct_test.keys():\n",
    "    X_test = tfidf.transform(construct_test[cl_]['inp']).toarray()\n",
    "    y_pred = model.predict_proba(X_test)[:,cl_]\n",
    "    y_belongs = np.array(construct_test[cl_]['Belongs'].values).reshape(len(X_test),1)\n",
    "    t = ap(y_pred,y_belongs)\n",
    "    err[i][cl_] = round( t, 2)\n",
    "    aps += t\n",
    "  print(\"=====\")\n",
    "  map_list.append(round(aps/8,2))\n",
    "print(\"MAP\",list(map(lambda x:round(x,5),map_list)))\n",
    "st = \"Class Name\\t\\t\\t\"+ \"\\t\\t\".join([str(i) for i  in range(len(err.keys()))])\n",
    "print(st)\n",
    "for cl_ in construct_test.keys():\n",
    "    padd = \"\\t\\t\"\n",
    "    if len(revLabels[cl_]) < 15:\n",
    "        padd += \"\\t\\t\"\n",
    "    if len(revLabels[cl_]) > 22:\n",
    "        padd = \"\\t\"\n",
    "    st = revLabels[cl_]+padd+\"\\t\\t\".join([ str(round(err[j][cl_],4)) for j in range(len(err.keys()))])\n",
    "    print(st)\n",
    "        "
   ]
  },
  {
   "cell_type": "code",
   "execution_count": null,
   "metadata": {},
   "outputs": [],
   "source": []
  }
 ],
 "metadata": {
  "file_extension": ".py",
  "kernelspec": {
   "display_name": "Python 3.7.4 64-bit",
   "language": "python",
   "name": "python37464bit39b187e956f148688106743f51c2bd62"
  },
  "language_info": {
   "codemirror_mode": {
    "name": "ipython",
    "version": 3
   },
   "file_extension": ".py",
   "mimetype": "text/x-python",
   "name": "python",
   "nbconvert_exporter": "python",
   "pygments_lexer": "ipython3",
   "version": "3.7.4"
  },
  "mimetype": "text/x-python",
  "name": "python",
  "npconvert_exporter": "python",
  "pygments_lexer": "ipython3",
  "version": 3
 },
 "nbformat": 4,
 "nbformat_minor": 2
}