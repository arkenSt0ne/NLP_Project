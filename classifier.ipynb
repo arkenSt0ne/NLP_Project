{
 "nbformat": 4,
 "nbformat_minor": 2,
 "metadata": {
  "language_info": {
   "name": "python",
   "codemirror_mode": {
    "name": "ipython",
    "version": 3
   },
   "version": "3.7.4-final"
  },
  "orig_nbformat": 2,
  "file_extension": ".py",
  "mimetype": "text/x-python",
  "name": "python",
  "npconvert_exporter": "python",
  "pygments_lexer": "ipython3",
  "version": 3,
  "kernelspec": {
   "name": "python37464bit39b187e956f148688106743f51c2bd62",
   "display_name": "Python 3.7.4 64-bit"
  }
 },
 "cells": [
  {
   "cell_type": "code",
   "execution_count": 1,
   "metadata": {},
   "outputs": [],
   "source": [
    "import pandas as pd \n",
    "import numpy as np"
   ]
  },
  {
   "cell_type": "code",
   "execution_count": 2,
   "metadata": {},
   "outputs": [],
   "source": [
    "import nltk\n",
    "# nltk.download('all')# download nltk files\n",
    "from nltk.corpus import stopwords\n",
    "from nltk.tokenize import RegexpTokenizer\n",
    "from nltk.stem import WordNetLemmatizer\n",
    "from nltk.stem.porter import PorterStemmer\n",
    "import string\n",
    "from nltk.tokenize import sent_tokenize, word_tokenize "
   ]
  },
  {
   "cell_type": "code",
   "execution_count": 3,
   "metadata": {},
   "outputs": [],
   "source": [
    "import os \n",
    "import glob\n",
    "import re\n",
    "import time"
   ]
  },
  {
   "cell_type": "code",
   "execution_count": 4,
   "metadata": {},
   "outputs": [],
   "source": [
    "from sklearn.feature_extraction.text import CountVectorizer"
   ]
  },
  {
   "cell_type": "code",
   "execution_count": 5,
   "metadata": {},
   "outputs": [],
   "source": [
    "from sklearn.feature_extraction.text import TfidfVectorizer\n",
    "from sklearn.feature_extraction.text import HashingVectorizer\n",
    "from sklearn.pipeline import Pipeline\n",
    "from sklearn.metrics import classification_report, confusion_matrix\n",
    "from sklearn.model_selection import train_test_split\n",
    "from sklearn.feature_selection import SelectKBest, chi2\n",
    "from sklearn.ensemble import RandomForestClassifier\n",
    "import matplotlib.pyplot as plt\n",
    "\n",
    "# %matplotlib inline\n",
    ""
   ]
  },
  {
   "cell_type": "code",
   "execution_count": 6,
   "metadata": {},
   "outputs": [],
   "source": [
    "import datetime\n",
    "import torch\n",
    "import torch.nn as nn\n",
    "import torch.nn.functional as F\n",
    "# import torchnlp.nn as nlp_nn\n",
    "import pandas as pd\n",
    "import numpy as np\n",
    "import string\n",
    "import json\n",
    "import torch.optim as optim\n",
    "import matplotlib.pyplot as plt\n",
    "import matplotlib.animation as animation\n",
    "torch.manual_seed(1)\n",
    "# from tensorflow import summary\n",
    "import random\n",
    "from torch.autograd import Variable\n",
    "# import tensorflow as tf"
   ]
  },
  {
   "cell_type": "code",
   "execution_count": 7,
   "metadata": {},
   "outputs": [],
   "source": [
    "device = torch.device(\"cuda:0\" if torch.cuda.is_available() else \"cpu\")"
   ]
  },
  {
   "cell_type": "code",
   "execution_count": 100,
   "metadata": {},
   "outputs": [],
   "source": [
    "def ap(y_pred,y_belong):\n",
    "  y_pred = np.array(y_pred)\n",
    "  y_belong = np.array(y_belong)\n",
    "  y_pred = y_pred.reshape(-1,1)\n",
    "  y_belong = y_belong.reshape(-1,1)\n",
    "  arr = np.concatenate((y_pred,y_belong),axis=1)\n",
    "  \n",
    "  arr = sorted(arr,key = lambda x:x[0],reverse=True)\n",
    "  \n",
    "  ans = 0\n",
    "  rel = 0\n",
    "  num = 0\n",
    "  for i in range(len(y_pred)):\n",
    "    if arr[i][1] == 1:\n",
    "      rel = rel+1\n",
    "      ans += rel/(i+1)\n",
    "      num = num+1\n",
    "  return ans/num"
   ]
  },
  {
   "cell_type": "code",
   "execution_count": 8,
   "metadata": {},
   "outputs": [],
   "source": [
    "class MyModel(nn.Module):\n",
    "    def __init__(self, embedding_dim, vocab_size, class_numbers):\n",
    "        super(MyModel, self).__init__()\n",
    "        self.H = 1\n",
    "        self.K = class_numbers\n",
    "        self.word_embeddings = nn.Embedding(vocab_size, embedding_dim)\n",
    "        self.lstm = nn.LSTM(embedding_dim, self.H)\n",
    "        self.fc = nn.Linear(self.H,1)\n",
    "    def forward(self, sentence):\n",
    "        embeds = self.word_embeddings(sentence)\n",
    "        lstm_out,_ = self.lstm(embeds.view(len(sentence),1,-1))\n",
    "        return lstm_out\n",
    "\n",
    "        \n",
    "    def init_hidden(self,batch_size):\n",
    "        device = \"cuda\" if torch.cuda.is_available() else \"cpu\"\n",
    "        weights = next(self.parameters()).data\n",
    "        h = (weights.new(1, batch_size, self.hidden_dim).zero_().to(device),\n",
    "             weights.new(1, batch_size, self.hidden_dim).zero_().to(device))\n",
    "        return h"
   ]
  },
  {
   "cell_type": "code",
   "execution_count": 8,
   "metadata": {},
   "outputs": [],
   "source": [
    "model1 = MyModel(32,100,4)"
   ]
  },
  {
   "cell_type": "code",
   "execution_count": null,
   "metadata": {},
   "outputs": [],
   "source": []
  },
  {
   "cell_type": "code",
   "execution_count": 9,
   "metadata": {},
   "outputs": [],
   "source": [
    "class LSTM_TE(nn.Module):\n",
    "    def __init__(self, embedding_dim,hidden_dim, vocab_size, class_numbers):\n",
    "        super(LSTM_TE, self).__init__()\n",
    "        self.H = hidden_dim\n",
    "        self.K = class_numbers\n",
    "        self.word_embeddings = nn.Embedding(vocab_size, embedding_dim)\n",
    "        self.lstm = nn.LSTM(embedding_dim, self.H)\n",
    "        self.att = nn.Linear(self.H, self.K,bias = True)\n",
    "        self.att_norm = nn.Softmax(dim = 0)\n",
    "        self.act = nn.Sigmoid()\n",
    "        self.fin_ = nn.Softmax(dim = 0)\n",
    "        self.fcs = [ nn.Linear(self.H,1) for _ in range(self.K)]\n",
    "        self.c_prob = [ nn.Sigmoid() for _ in range(self.K)]\n",
    "    def forward(self, sentence):\n",
    "        embeds = self.word_embeddings(sentence)\n",
    "        lstm_out, _ = self.lstm(embeds.view(len(sentence), 1, -1))\n",
    "        lstm_out = lstm_out.view(len(sentence),self.H)\n",
    "        att_denorm = self.att(lstm_out.view(len(sentence), -1)) # a_t = W_att * h_t + b_att\n",
    "        att_denorm = self.act(att_denorm)       # a_t = sigmoid(a_t)\n",
    "        As = self.att_norm(att_denorm) # A = softmax_row({a_1,..,a_d}^T)\n",
    "        As = As.view(len(sentence),self.K) # A = D*K\n",
    "        T = torch.zeros((self.H,self.K))\n",
    "        for i in range(self.H):\n",
    "          T[i] = torch.mul(torch.transpose(As,0,1),torch.transpose(lstm_out,0,1)[i]).sum(dim=1)\n",
    "        # tag_scores  = torch.mul(As,lstm_out) # produce T = {T1,..,TK} \n",
    "        # tag_scores = self.fin_(tag_scores.sum(dim = 0)) \n",
    "        T = torch.transpose(T,0,1)\n",
    "\n",
    "        rt = torch.zeros((self.K,1)).to(device)\n",
    "        for i in range(self.K):\n",
    "          rt[i] = self.fcs[i](T[i])\n",
    "          rt[i] = self.c_prob[i](rt[i])\n",
    "        return  rt\n",
    "    def init_hidden(self,batch_size):\n",
    "        device = \"cuda\" if torch.cuda.is_available() else \"cpu\"\n",
    "        weights = next(self.parameters()).data\n",
    "        h = (weights.new(1, batch_size, self.hidden_dim).zero_().to(device),\n",
    "             weights.new(1, batch_size, self.hidden_dim).zero_().to(device))\n",
    "        return h"
   ]
  },
  {
   "cell_type": "code",
   "execution_count": 10,
   "metadata": {},
   "outputs": [],
   "source": [
    "def rem_stop(txt):\n",
    "  return [ c for c in txt if c not in stopwords.words(\"english\")]\n",
    "stemmer = PorterStemmer()\n",
    "def word_stemm(txt):\n",
    "  return [stemmer.stem(w) for w in txt]"
   ]
  },
  {
   "cell_type": "code",
   "execution_count": 11,
   "metadata": {},
   "outputs": [],
   "source": [
    "xl_files_train = glob.glob(\"./dataset/Task1/Train/*.xlsx\")\n",
    "xl_files_test = glob.glob(\"./dataset/Task1/Test/*.xlsx\")"
   ]
  },
  {
   "cell_type": "code",
   "execution_count": 12,
   "metadata": {},
   "outputs": [
    {
     "output_type": "execute_result",
     "data": {
      "text/plain": "['./dataset/Task1/Test/Loss.xlsx',\n './dataset/Task1/Test/Frustrative_Nonreward.xlsx',\n './dataset/Task1/Test/Sleep_Wakefulness.xlsx',\n './dataset/Task1/Test/Sustained_Threat.xlsx',\n './dataset/Task1/Test/Potential_Threat_Anxiety.xlsx',\n './dataset/Task1/Test/Circadian_Rhythms.xlsx',\n './dataset/Task1/Test/Arousal.xlsx',\n './dataset/Task1/Test/Acute_Threat_Fear.xlsx']"
     },
     "metadata": {},
     "execution_count": 12
    }
   ],
   "source": [
    "xl_files_test"
   ]
  },
  {
   "cell_type": "code",
   "execution_count": 13,
   "metadata": {},
   "outputs": [],
   "source": [
    "# create labels\n",
    "labels = {}\n",
    "revLabels = {}\n",
    "for i,xl in  enumerate(xl_files_train):\n",
    "    className = xl.split(\"/\")[-1][:-5]\n",
    "    labels[className] = i\n",
    "    revLabels[i] = className"
   ]
  },
  {
   "cell_type": "code",
   "execution_count": 14,
   "metadata": {},
   "outputs": [],
   "source": [
    "#train dataframes\n",
    "frames = []\n",
    "for xl_file in xl_files_train:\n",
    "    df1 = pd.read_excel(xl_file)\n",
    "    className = xl_file.split(\"/\")[-1][:-5]\n",
    "    df1['Y'] = labels[className]\n",
    "    frames.append(df1)\n",
    "df_train = pd.concat(frames,ignore_index = True)"
   ]
  },
  {
   "cell_type": "code",
   "execution_count": 15,
   "metadata": {},
   "outputs": [],
   "source": [
    "#test dataframes\n",
    "frames = []\n",
    "for xl_file in xl_files_test:\n",
    "    df1 = pd.read_excel(xl_file)\n",
    "    className = xl_file.split(\"/\")[-1][:-5]\n",
    "    df1['Y'] = labels[className]\n",
    "    frames.append(df1)\n",
    "df_test = pd.concat(frames,ignore_index = True)"
   ]
  },
  {
   "cell_type": "code",
   "execution_count": 34,
   "metadata": {},
   "outputs": [],
   "source": [
    "PUNC_LIST = string.punctuation + string.digits\n",
    "TOKENIZER = re.compile(r\"\\w+\")\n",
    "def clean_text(text):\n",
    "    \"\"\"\n",
    "        Removes non-alphabetic characters\n",
    "    \"\"\"\n",
    "    #remove new line and carriage with space\n",
    "    text = text.replace(\"\\n\",\" \").replace(\"\\r\",\" \")\n",
    "    tmp = str.maketrans(dict.fromkeys(PUNC_LIST,\" \"))\n",
    "    text = text.translate(tmp)\n",
    "    # replace single quote with empty \n",
    "    tmp  = str.maketrans(dict.fromkeys(\"'`\",\"\"))\n",
    "    return text.translate(tmp)\n",
    "def regexTokenize(text):\n",
    "\n",
    "    return TOKENIZER.findall(clean_text(text)"
   ]
  },
  {
   "cell_type": "code",
   "execution_count": 36,
   "metadata": {},
   "outputs": [],
   "source": [
    "# pre process the text\n",
    "stop_words = stopwords.words(\"english\")\n",
    "cols = ['title','abstract']\n",
    "for col in cols :\n",
    "    df_train['c_'+col] = df_train[col].apply(lambda x: \" \".join([stemmer.stem(i) for i in regexTokenize(x) if i not in stop_words]))\n",
    "    df_test['c_'+col] = df_test[col].apply(lambda x: \" \".join([stemmer.stem(i) for i in regexTokenize(x) if i not in stop_words]))"
   ]
  },
  {
   "cell_type": "code",
   "execution_count": 17,
   "metadata": {},
   "outputs": [],
   "source": [
    "def toTensor(inp):\n",
    "  return torch.tensor(inp,dtype = torch.long)"
   ]
  },
  {
   "cell_type": "code",
   "execution_count": 50,
   "metadata": {},
   "outputs": [],
   "source": [
    "# concatenate the entire text\n",
    "df_train['inp'] =  df_train['c_title'] + df_train['c_abstract']\n",
    "c_title = df_train[['c_title','pmid']].values"
   ]
  },
  {
   "cell_type": "code",
   "execution_count": 22,
   "metadata": {},
   "outputs": [],
   "source": [
    "VOCAB_SIZE = len(vectorizer.vocabulary_.keys()) + 1\n",
    "CLASS_SIZE = 8\n",
    "EMBED_DIM = 1\n",
    "HIDDEN_DIM = 1"
   ]
  },
  {
   "cell_type": "code",
   "execution_count": 39,
   "metadata": {},
   "outputs": [],
   "source": [
    "x_train = df_train['inp'].values"
   ]
  },
  {
   "cell_type": "code",
   "execution_count": 40,
   "metadata": {},
   "outputs": [],
   "source": [
    "xs = df_train['inp'].values"
   ]
  },
  {
   "cell_type": "code",
   "execution_count": 75,
   "metadata": {},
   "outputs": [],
   "source": [
    "tfidf = TfidfVectorizer(lowercase=False)#, tokenizer=regexTokenize)"
   ]
  },
  {
   "cell_type": "code",
   "execution_count": 91,
   "metadata": {},
   "outputs": [
    {
     "output_type": "execute_result",
     "data": {
      "text/plain": "Index(['pmid', 'title', 'abstract', 'Belongs to RDoC construct?',\n       'Relevant Context', 'Y', 'c_title', 'c_abstract'],\n      dtype='object')"
     },
     "metadata": {},
     "execution_count": 91
    }
   ],
   "source": [
    "df_test.columns "
   ]
  },
  {
   "cell_type": "code",
   "execution_count": 53,
   "metadata": {},
   "outputs": [],
   "source": [
    "# frequency analysis\n",
    "voc = {}\n",
    "for row in xs:\n",
    "    for w in row.split():\n",
    "        if w in voc : \n",
    "            voc[w] += 1\n",
    "        else:\n",
    "            voc[w] = 1"
   ]
  },
  {
   "cell_type": "code",
   "execution_count": 67,
   "metadata": {
    "tags": [
     "outputPrepend",
     "outputPrepend",
     "outputPrepend",
     "outputPrepend",
     "outputPrepend"
    ]
   },
   "outputs": [
    {
     "output_type": "stream",
     "name": "stdout",
     "text": "sleep 513\n"
    }
   ],
   "source": [
    "freqList = []\n",
    "v= 1000\n",
    "label = []\n",
    "for k in voc.keys():\n",
    "        freqList.append(voc[k])\n",
    "        label.append(k)\n",
    "        if voc[k] > 400:\n",
    "            print(k,voc[k])"
   ]
  },
  {
   "cell_type": "code",
   "execution_count": 58,
   "metadata": {},
   "outputs": [
    {
     "output_type": "execute_result",
     "data": {
      "text/plain": "[<matplotlib.lines.Line2D at 0x13a7ed610>]"
     },
     "metadata": {},
     "execution_count": 58
    },
    {
     "output_type": "display_data",
     "data": {
      "text/plain": "<Figure size 432x288 with 1 Axes>",
      "image/svg+xml": "<?xml version=\"1.0\" encoding=\"utf-8\" standalone=\"no\"?>\n<!DOCTYPE svg PUBLIC \"-//W3C//DTD SVG 1.1//EN\"\n  \"http://www.w3.org/Graphics/SVG/1.1/DTD/svg11.dtd\">\n<!-- Created with matplotlib (https://matplotlib.org/) -->\n<svg height=\"248.518125pt\" version=\"1.1\" viewBox=\"0 0 375.2875 248.518125\" width=\"375.2875pt\" xmlns=\"http://www.w3.org/2000/svg\" xmlns:xlink=\"http://www.w3.org/1999/xlink\">\n <defs>\n  <style type=\"text/css\">\n*{stroke-linecap:butt;stroke-linejoin:round;}\n  </style>\n </defs>\n <g id=\"figure_1\">\n  <g id=\"patch_1\">\n   <path d=\"M 0 248.518125 \nL 375.2875 248.518125 \nL 375.2875 0 \nL 0 0 \nz\n\" style=\"fill:none;\"/>\n  </g>\n  <g id=\"axes_1\">\n   <g id=\"patch_2\">\n    <path d=\"M 33.2875 224.64 \nL 368.0875 224.64 \nL 368.0875 7.2 \nL 33.2875 7.2 \nz\n\" style=\"fill:#ffffff;\"/>\n   </g>\n   <g id=\"matplotlib.axis_1\">\n    <g id=\"xtick_1\">\n     <g id=\"line2d_1\">\n      <defs>\n       <path d=\"M 0 0 \nL 0 3.5 \n\" id=\"m91a98fb00b\" style=\"stroke:#000000;stroke-width:0.8;\"/>\n      </defs>\n      <g>\n       <use style=\"stroke:#000000;stroke-width:0.8;\" x=\"48.505682\" xlink:href=\"#m91a98fb00b\" y=\"224.64\"/>\n      </g>\n     </g>\n     <g id=\"text_1\">\n      <!-- 0 -->\n      <defs>\n       <path d=\"M 31.78125 66.40625 \nQ 24.171875 66.40625 20.328125 58.90625 \nQ 16.5 51.421875 16.5 36.375 \nQ 16.5 21.390625 20.328125 13.890625 \nQ 24.171875 6.390625 31.78125 6.390625 \nQ 39.453125 6.390625 43.28125 13.890625 \nQ 47.125 21.390625 47.125 36.375 \nQ 47.125 51.421875 43.28125 58.90625 \nQ 39.453125 66.40625 31.78125 66.40625 \nz\nM 31.78125 74.21875 \nQ 44.046875 74.21875 50.515625 64.515625 \nQ 56.984375 54.828125 56.984375 36.375 \nQ 56.984375 17.96875 50.515625 8.265625 \nQ 44.046875 -1.421875 31.78125 -1.421875 \nQ 19.53125 -1.421875 13.0625 8.265625 \nQ 6.59375 17.96875 6.59375 36.375 \nQ 6.59375 54.828125 13.0625 64.515625 \nQ 19.53125 74.21875 31.78125 74.21875 \nz\n\" id=\"DejaVuSans-48\"/>\n      </defs>\n      <g transform=\"translate(45.324432 239.238437)scale(0.1 -0.1)\">\n       <use xlink:href=\"#DejaVuSans-48\"/>\n      </g>\n     </g>\n    </g>\n    <g id=\"xtick_2\">\n     <g id=\"line2d_2\">\n      <g>\n       <use style=\"stroke:#000000;stroke-width:0.8;\" x=\"113.388145\" xlink:href=\"#m91a98fb00b\" y=\"224.64\"/>\n      </g>\n     </g>\n     <g id=\"text_2\">\n      <!-- 1000 -->\n      <defs>\n       <path d=\"M 12.40625 8.296875 \nL 28.515625 8.296875 \nL 28.515625 63.921875 \nL 10.984375 60.40625 \nL 10.984375 69.390625 \nL 28.421875 72.90625 \nL 38.28125 72.90625 \nL 38.28125 8.296875 \nL 54.390625 8.296875 \nL 54.390625 0 \nL 12.40625 0 \nz\n\" id=\"DejaVuSans-49\"/>\n      </defs>\n      <g transform=\"translate(100.663145 239.238437)scale(0.1 -0.1)\">\n       <use xlink:href=\"#DejaVuSans-49\"/>\n       <use x=\"63.623047\" xlink:href=\"#DejaVuSans-48\"/>\n       <use x=\"127.246094\" xlink:href=\"#DejaVuSans-48\"/>\n       <use x=\"190.869141\" xlink:href=\"#DejaVuSans-48\"/>\n      </g>\n     </g>\n    </g>\n    <g id=\"xtick_3\">\n     <g id=\"line2d_3\">\n      <g>\n       <use style=\"stroke:#000000;stroke-width:0.8;\" x=\"178.270609\" xlink:href=\"#m91a98fb00b\" y=\"224.64\"/>\n      </g>\n     </g>\n     <g id=\"text_3\">\n      <!-- 2000 -->\n      <defs>\n       <path d=\"M 19.1875 8.296875 \nL 53.609375 8.296875 \nL 53.609375 0 \nL 7.328125 0 \nL 7.328125 8.296875 \nQ 12.9375 14.109375 22.625 23.890625 \nQ 32.328125 33.6875 34.8125 36.53125 \nQ 39.546875 41.84375 41.421875 45.53125 \nQ 43.3125 49.21875 43.3125 52.78125 \nQ 43.3125 58.59375 39.234375 62.25 \nQ 35.15625 65.921875 28.609375 65.921875 \nQ 23.96875 65.921875 18.8125 64.3125 \nQ 13.671875 62.703125 7.8125 59.421875 \nL 7.8125 69.390625 \nQ 13.765625 71.78125 18.9375 73 \nQ 24.125 74.21875 28.421875 74.21875 \nQ 39.75 74.21875 46.484375 68.546875 \nQ 53.21875 62.890625 53.21875 53.421875 \nQ 53.21875 48.921875 51.53125 44.890625 \nQ 49.859375 40.875 45.40625 35.40625 \nQ 44.1875 33.984375 37.640625 27.21875 \nQ 31.109375 20.453125 19.1875 8.296875 \nz\n\" id=\"DejaVuSans-50\"/>\n      </defs>\n      <g transform=\"translate(165.545609 239.238437)scale(0.1 -0.1)\">\n       <use xlink:href=\"#DejaVuSans-50\"/>\n       <use x=\"63.623047\" xlink:href=\"#DejaVuSans-48\"/>\n       <use x=\"127.246094\" xlink:href=\"#DejaVuSans-48\"/>\n       <use x=\"190.869141\" xlink:href=\"#DejaVuSans-48\"/>\n      </g>\n     </g>\n    </g>\n    <g id=\"xtick_4\">\n     <g id=\"line2d_4\">\n      <g>\n       <use style=\"stroke:#000000;stroke-width:0.8;\" x=\"243.153072\" xlink:href=\"#m91a98fb00b\" y=\"224.64\"/>\n      </g>\n     </g>\n     <g id=\"text_4\">\n      <!-- 3000 -->\n      <defs>\n       <path d=\"M 40.578125 39.3125 \nQ 47.65625 37.796875 51.625 33 \nQ 55.609375 28.21875 55.609375 21.1875 \nQ 55.609375 10.40625 48.1875 4.484375 \nQ 40.765625 -1.421875 27.09375 -1.421875 \nQ 22.515625 -1.421875 17.65625 -0.515625 \nQ 12.796875 0.390625 7.625 2.203125 \nL 7.625 11.71875 \nQ 11.71875 9.328125 16.59375 8.109375 \nQ 21.484375 6.890625 26.8125 6.890625 \nQ 36.078125 6.890625 40.9375 10.546875 \nQ 45.796875 14.203125 45.796875 21.1875 \nQ 45.796875 27.640625 41.28125 31.265625 \nQ 36.765625 34.90625 28.71875 34.90625 \nL 20.21875 34.90625 \nL 20.21875 43.015625 \nL 29.109375 43.015625 \nQ 36.375 43.015625 40.234375 45.921875 \nQ 44.09375 48.828125 44.09375 54.296875 \nQ 44.09375 59.90625 40.109375 62.90625 \nQ 36.140625 65.921875 28.71875 65.921875 \nQ 24.65625 65.921875 20.015625 65.03125 \nQ 15.375 64.15625 9.8125 62.3125 \nL 9.8125 71.09375 \nQ 15.4375 72.65625 20.34375 73.4375 \nQ 25.25 74.21875 29.59375 74.21875 \nQ 40.828125 74.21875 47.359375 69.109375 \nQ 53.90625 64.015625 53.90625 55.328125 \nQ 53.90625 49.265625 50.4375 45.09375 \nQ 46.96875 40.921875 40.578125 39.3125 \nz\n\" id=\"DejaVuSans-51\"/>\n      </defs>\n      <g transform=\"translate(230.428072 239.238437)scale(0.1 -0.1)\">\n       <use xlink:href=\"#DejaVuSans-51\"/>\n       <use x=\"63.623047\" xlink:href=\"#DejaVuSans-48\"/>\n       <use x=\"127.246094\" xlink:href=\"#DejaVuSans-48\"/>\n       <use x=\"190.869141\" xlink:href=\"#DejaVuSans-48\"/>\n      </g>\n     </g>\n    </g>\n    <g id=\"xtick_5\">\n     <g id=\"line2d_5\">\n      <g>\n       <use style=\"stroke:#000000;stroke-width:0.8;\" x=\"308.035536\" xlink:href=\"#m91a98fb00b\" y=\"224.64\"/>\n      </g>\n     </g>\n     <g id=\"text_5\">\n      <!-- 4000 -->\n      <defs>\n       <path d=\"M 37.796875 64.3125 \nL 12.890625 25.390625 \nL 37.796875 25.390625 \nz\nM 35.203125 72.90625 \nL 47.609375 72.90625 \nL 47.609375 25.390625 \nL 58.015625 25.390625 \nL 58.015625 17.1875 \nL 47.609375 17.1875 \nL 47.609375 0 \nL 37.796875 0 \nL 37.796875 17.1875 \nL 4.890625 17.1875 \nL 4.890625 26.703125 \nz\n\" id=\"DejaVuSans-52\"/>\n      </defs>\n      <g transform=\"translate(295.310536 239.238437)scale(0.1 -0.1)\">\n       <use xlink:href=\"#DejaVuSans-52\"/>\n       <use x=\"63.623047\" xlink:href=\"#DejaVuSans-48\"/>\n       <use x=\"127.246094\" xlink:href=\"#DejaVuSans-48\"/>\n       <use x=\"190.869141\" xlink:href=\"#DejaVuSans-48\"/>\n      </g>\n     </g>\n    </g>\n   </g>\n   <g id=\"matplotlib.axis_2\">\n    <g id=\"ytick_1\">\n     <g id=\"line2d_6\">\n      <defs>\n       <path d=\"M 0 0 \nL -3.5 0 \n\" id=\"mfe044643d5\" style=\"stroke:#000000;stroke-width:0.8;\"/>\n      </defs>\n      <g>\n       <use style=\"stroke:#000000;stroke-width:0.8;\" x=\"33.2875\" xlink:href=\"#mfe044643d5\" y=\"215.142443\"/>\n      </g>\n     </g>\n     <g id=\"text_6\">\n      <!-- 0 -->\n      <g transform=\"translate(19.925 218.941662)scale(0.1 -0.1)\">\n       <use xlink:href=\"#DejaVuSans-48\"/>\n      </g>\n     </g>\n    </g>\n    <g id=\"ytick_2\">\n     <g id=\"line2d_7\">\n      <g>\n       <use style=\"stroke:#000000;stroke-width:0.8;\" x=\"33.2875\" xlink:href=\"#mfe044643d5\" y=\"176.534489\"/>\n      </g>\n     </g>\n     <g id=\"text_7\">\n      <!-- 100 -->\n      <g transform=\"translate(7.2 180.333707)scale(0.1 -0.1)\">\n       <use xlink:href=\"#DejaVuSans-49\"/>\n       <use x=\"63.623047\" xlink:href=\"#DejaVuSans-48\"/>\n       <use x=\"127.246094\" xlink:href=\"#DejaVuSans-48\"/>\n      </g>\n     </g>\n    </g>\n    <g id=\"ytick_3\">\n     <g id=\"line2d_8\">\n      <g>\n       <use style=\"stroke:#000000;stroke-width:0.8;\" x=\"33.2875\" xlink:href=\"#mfe044643d5\" y=\"137.926534\"/>\n      </g>\n     </g>\n     <g id=\"text_8\">\n      <!-- 200 -->\n      <g transform=\"translate(7.2 141.725753)scale(0.1 -0.1)\">\n       <use xlink:href=\"#DejaVuSans-50\"/>\n       <use x=\"63.623047\" xlink:href=\"#DejaVuSans-48\"/>\n       <use x=\"127.246094\" xlink:href=\"#DejaVuSans-48\"/>\n      </g>\n     </g>\n    </g>\n    <g id=\"ytick_4\">\n     <g id=\"line2d_9\">\n      <g>\n       <use style=\"stroke:#000000;stroke-width:0.8;\" x=\"33.2875\" xlink:href=\"#mfe044643d5\" y=\"99.31858\"/>\n      </g>\n     </g>\n     <g id=\"text_9\">\n      <!-- 300 -->\n      <g transform=\"translate(7.2 103.117798)scale(0.1 -0.1)\">\n       <use xlink:href=\"#DejaVuSans-51\"/>\n       <use x=\"63.623047\" xlink:href=\"#DejaVuSans-48\"/>\n       <use x=\"127.246094\" xlink:href=\"#DejaVuSans-48\"/>\n      </g>\n     </g>\n    </g>\n    <g id=\"ytick_5\">\n     <g id=\"line2d_10\">\n      <g>\n       <use style=\"stroke:#000000;stroke-width:0.8;\" x=\"33.2875\" xlink:href=\"#mfe044643d5\" y=\"60.710625\"/>\n      </g>\n     </g>\n     <g id=\"text_10\">\n      <!-- 400 -->\n      <g transform=\"translate(7.2 64.509844)scale(0.1 -0.1)\">\n       <use xlink:href=\"#DejaVuSans-52\"/>\n       <use x=\"63.623047\" xlink:href=\"#DejaVuSans-48\"/>\n       <use x=\"127.246094\" xlink:href=\"#DejaVuSans-48\"/>\n      </g>\n     </g>\n    </g>\n    <g id=\"ytick_6\">\n     <g id=\"line2d_11\">\n      <g>\n       <use style=\"stroke:#000000;stroke-width:0.8;\" x=\"33.2875\" xlink:href=\"#mfe044643d5\" y=\"22.10267\"/>\n      </g>\n     </g>\n     <g id=\"text_11\">\n      <!-- 500 -->\n      <defs>\n       <path d=\"M 10.796875 72.90625 \nL 49.515625 72.90625 \nL 49.515625 64.59375 \nL 19.828125 64.59375 \nL 19.828125 46.734375 \nQ 21.96875 47.46875 24.109375 47.828125 \nQ 26.265625 48.1875 28.421875 48.1875 \nQ 40.625 48.1875 47.75 41.5 \nQ 54.890625 34.8125 54.890625 23.390625 \nQ 54.890625 11.625 47.5625 5.09375 \nQ 40.234375 -1.421875 26.90625 -1.421875 \nQ 22.3125 -1.421875 17.546875 -0.640625 \nQ 12.796875 0.140625 7.71875 1.703125 \nL 7.71875 11.625 \nQ 12.109375 9.234375 16.796875 8.0625 \nQ 21.484375 6.890625 26.703125 6.890625 \nQ 35.15625 6.890625 40.078125 11.328125 \nQ 45.015625 15.765625 45.015625 23.390625 \nQ 45.015625 31 40.078125 35.4375 \nQ 35.15625 39.890625 26.703125 39.890625 \nQ 22.75 39.890625 18.8125 39.015625 \nQ 14.890625 38.140625 10.796875 36.28125 \nz\n\" id=\"DejaVuSans-53\"/>\n      </defs>\n      <g transform=\"translate(7.2 25.901889)scale(0.1 -0.1)\">\n       <use xlink:href=\"#DejaVuSans-53\"/>\n       <use x=\"63.623047\" xlink:href=\"#DejaVuSans-48\"/>\n       <use x=\"127.246094\" xlink:href=\"#DejaVuSans-48\"/>\n      </g>\n     </g>\n    </g>\n   </g>\n   <g id=\"line2d_12\">\n    <path clip-path=\"url(#p0f195bf08c)\" d=\"M 48.505682 181.167443 \nL 48.570564 186.186477 \nL 48.635447 175.76233 \nL 48.830094 214.370284 \nL 48.894977 213.984205 \nL 48.959859 180.395284 \nL 49.089624 214.756364 \nL 49.154506 73.06517 \nL 49.284271 208.579091 \nL 49.349154 210.123409 \nL 49.414036 114.761761 \nL 49.478919 210.123409 \nL 49.543801 204.718295 \nL 49.608684 193.521989 \nL 49.738449 211.281648 \nL 49.803331 207.420852 \nL 49.868214 84.647557 \nL 49.997978 212.825966 \nL 50.062861 211.281648 \nL 50.127743 186.186477 \nL 50.192626 202.787898 \nL 50.257508 193.908068 \nL 50.322391 214.756364 \nL 50.452156 179.623125 \nL 50.581921 213.598125 \nL 50.646803 213.212045 \nL 50.711686 214.756364 \nL 50.776568 214.370284 \nL 50.906333 95.457784 \nL 50.971215 120.552955 \nL 51.10098 213.212045 \nL 51.165863 213.212045 \nL 51.230745 210.509489 \nL 51.36051 171.129375 \nL 51.425393 175.76233 \nL 51.62004 204.332216 \nL 51.684923 101.248977 \nL 51.749805 193.135909 \nL 51.814687 168.812898 \nL 51.944452 213.598125 \nL 52.009335 214.756364 \nL 52.074217 208.193011 \nL 52.1391 209.73733 \nL 52.203982 212.825966 \nL 52.268865 211.281648 \nL 52.463512 214.756364 \nL 52.593277 165.338182 \nL 52.658159 214.756364 \nL 52.723042 210.123409 \nL 52.787924 170.357216 \nL 52.852807 193.908068 \nL 52.917689 213.212045 \nL 52.982572 202.015739 \nL 53.047454 214.756364 \nL 53.112337 166.8825 \nL 53.306984 214.756364 \nL 53.436749 207.806932 \nL 53.501632 214.370284 \nL 53.566514 207.420852 \nL 53.631396 214.756364 \nL 53.696279 212.053807 \nL 53.761161 214.370284 \nL 53.826044 212.825966 \nL 53.955809 193.521989 \nL 54.020691 211.667727 \nL 54.085574 210.123409 \nL 54.150456 180.395284 \nL 54.215339 195.066307 \nL 54.280221 176.534489 \nL 54.345104 210.509489 \nL 54.409986 200.8575 \nL 54.604633 125.185909 \nL 54.734398 212.053807 \nL 54.799281 191.591591 \nL 54.864163 212.053807 \nL 54.929046 197.382784 \nL 54.993928 208.579091 \nL 55.058811 200.8575 \nL 55.188576 157.230511 \nL 55.31834 208.579091 \nL 55.383223 204.332216 \nL 55.448105 87.736193 \nL 55.512988 128.274545 \nL 55.642753 212.439886 \nL 55.707635 145.648125 \nL 55.772518 176.148409 \nL 55.8374 211.667727 \nL 55.902283 192.74983 \nL 56.032048 213.984205 \nL 56.09693 214.370284 \nL 56.161813 213.598125 \nL 56.226695 214.756364 \nL 56.291577 195.066307 \nL 56.35646 214.370284 \nL 56.486225 166.8825 \nL 56.551107 212.825966 \nL 56.61599 211.281648 \nL 56.680872 214.756364 \nL 56.810637 162.635625 \nL 56.87552 212.439886 \nL 56.940402 211.281648 \nL 57.005285 209.35125 \nL 57.070167 213.212045 \nL 57.135049 212.439886 \nL 57.199932 198.927102 \nL 57.264814 213.212045 \nL 57.329697 208.96517 \nL 57.394579 206.262614 \nL 57.459462 210.509489 \nL 57.524344 172.673693 \nL 57.589227 204.332216 \nL 57.654109 153.755795 \nL 57.718992 199.699261 \nL 57.783874 163.407784 \nL 57.913639 208.193011 \nL 57.978521 214.370284 \nL 58.043404 139.856932 \nL 58.173169 203.946136 \nL 58.238051 213.598125 \nL 58.302934 155.300114 \nL 58.367816 206.648693 \nL 58.432699 204.332216 \nL 58.562464 213.598125 \nL 58.627346 174.99017 \nL 58.692229 181.167443 \nL 58.757111 214.756364 \nL 58.821994 213.598125 \nL 58.886876 212.439886 \nL 58.951758 151.053239 \nL 59.016641 189.275114 \nL 59.146406 212.825966 \nL 59.211288 214.756364 \nL 59.276171 207.806932 \nL 59.341053 212.439886 \nL 59.470818 214.756364 \nL 59.730348 148.736761 \nL 59.924995 210.123409 \nL 59.989878 210.895568 \nL 60.119643 195.066307 \nL 60.249408 214.756364 \nL 60.31429 207.034773 \nL 60.379173 212.439886 \nL 60.444055 205.876534 \nL 60.508938 157.616591 \nL 60.57382 202.015739 \nL 60.638702 183.097841 \nL 60.768467 213.598125 \nL 60.83335 179.623125 \nL 60.898232 214.370284 \nL 60.963115 211.281648 \nL 61.027997 170.357216 \nL 61.09288 173.445852 \nL 61.222645 212.053807 \nL 61.287527 200.47142 \nL 61.35241 208.579091 \nL 61.417292 156.072273 \nL 61.482175 210.509489 \nL 61.547057 208.193011 \nL 61.611939 203.173977 \nL 61.676822 212.825966 \nL 61.741704 207.806932 \nL 61.871469 213.984205 \nL 61.936352 194.294148 \nL 62.001234 213.984205 \nL 62.066117 183.48392 \nL 62.130999 210.509489 \nL 62.195882 169.971136 \nL 62.390529 214.756364 \nL 62.585176 212.439886 \nL 62.650059 214.756364 \nL 62.714941 213.598125 \nL 62.844706 196.224545 \nL 62.909589 205.104375 \nL 63.039354 186.572557 \nL 63.169119 207.420852 \nL 63.234001 193.135909 \nL 63.298884 210.123409 \nL 63.363766 196.996705 \nL 63.428648 213.984205 \nL 63.493531 212.053807 \nL 63.558413 208.96517 \nL 63.623296 183.097841 \nL 63.688178 197.768864 \nL 63.817943 214.370284 \nL 63.882826 199.313182 \nL 63.947708 213.598125 \nL 64.012591 208.96517 \nL 64.142356 214.756364 \nL 64.207238 212.825966 \nL 64.27212 214.756364 \nL 64.337003 211.667727 \nL 64.401885 214.756364 \nL 64.466768 214.370284 \nL 64.53165 203.173977 \nL 64.596533 209.73733 \nL 64.661415 213.984205 \nL 64.726298 159.160909 \nL 64.79118 214.756364 \nL 64.856063 192.74983 \nL 64.920945 206.262614 \nL 64.985828 136.382216 \nL 65.115592 211.281648 \nL 65.180475 212.439886 \nL 65.245357 208.96517 \nL 65.31024 210.123409 \nL 65.375122 214.756364 \nL 65.440005 214.370284 \nL 65.504887 212.825966 \nL 65.56977 214.756364 \nL 65.634652 206.648693 \nL 65.699535 212.825966 \nL 65.894182 150.28108 \nL 65.959065 214.756364 \nL 66.023947 190.047273 \nL 66.088829 213.598125 \nL 66.153712 137.926534 \nL 66.283477 214.756364 \nL 66.348359 214.756364 \nL 66.413242 213.984205 \nL 66.543007 190.047273 \nL 66.607889 195.838466 \nL 66.672772 151.053239 \nL 66.737654 214.370284 \nL 66.802537 213.212045 \nL 66.867419 212.053807 \nL 66.932301 214.370284 \nL 66.997184 204.718295 \nL 67.062066 214.370284 \nL 67.126949 209.35125 \nL 67.191831 209.73733 \nL 67.256714 196.996705 \nL 67.321596 213.984205 \nL 67.451361 189.275114 \nL 67.646009 214.756364 \nL 67.710891 212.825966 \nL 67.970421 183.87 \nL 68.100186 212.439886 \nL 68.165068 174.99017 \nL 68.229951 214.756364 \nL 68.294833 214.370284 \nL 68.359716 213.984205 \nL 68.489481 211.667727 \nL 68.554363 214.756364 \nL 68.619246 213.212045 \nL 68.684128 210.509489 \nL 68.74901 213.212045 \nL 68.813893 208.579091 \nL 68.878775 212.439886 \nL 68.943658 212.053807 \nL 69.00854 210.123409 \nL 69.138305 214.756364 \nL 69.203188 211.667727 \nL 69.26807 214.370284 \nL 69.397835 206.648693 \nL 69.462718 211.667727 \nL 69.5276 201.24358 \nL 69.592482 213.598125 \nL 69.657365 206.262614 \nL 69.722247 214.756364 \nL 69.78713 176.534489 \nL 69.852012 195.452386 \nL 69.981777 212.825966 \nL 70.04666 193.521989 \nL 70.111542 206.648693 \nL 70.176425 214.756364 \nL 70.241307 214.370284 \nL 70.30619 214.370284 \nL 70.435954 198.154943 \nL 70.500837 214.370284 \nL 70.565719 212.825966 \nL 70.760367 204.718295 \nL 70.825249 197.768864 \nL 70.890132 214.756364 \nL 70.955014 213.212045 \nL 71.084779 186.186477 \nL 71.149662 211.667727 \nL 71.214544 201.24358 \nL 71.279427 182.711761 \nL 71.474074 212.053807 \nL 71.538956 198.541023 \nL 71.668721 214.370284 \nL 71.798486 184.642159 \nL 71.928251 209.73733 \nL 71.993134 207.806932 \nL 72.058016 214.370284 \nL 72.187781 175.76233 \nL 72.317546 214.756364 \nL 72.382428 208.579091 \nL 72.447311 142.173409 \nL 72.512193 207.034773 \nL 72.577076 206.262614 \nL 72.706841 214.370284 \nL 72.771723 208.193011 \nL 72.836606 214.756364 \nL 72.901488 214.370284 \nL 73.031253 214.756364 \nL 73.290783 214.756364 \nL 73.355665 212.825966 \nL 73.420548 214.756364 \nL 73.615195 199.313182 \nL 73.74496 214.756364 \nL 73.874725 214.756364 \nL 73.939608 199.699261 \nL 74.00449 214.756364 \nL 74.069372 185.800398 \nL 74.134255 212.053807 \nL 74.199137 210.123409 \nL 74.26402 210.123409 \nL 74.328902 191.591591 \nL 74.393785 198.927102 \nL 74.52355 214.370284 \nL 74.588432 207.806932 \nL 74.653315 213.984205 \nL 74.718197 200.8575 \nL 74.78308 214.370284 \nL 74.847962 206.262614 \nL 74.912844 213.598125 \nL 74.977727 212.825966 \nL 75.107492 204.332216 \nL 75.172374 213.598125 \nL 75.237257 98.160341 \nL 75.367022 211.667727 \nL 75.496787 212.439886 \nL 75.561669 209.73733 \nL 75.626552 214.370284 \nL 75.691434 213.984205 \nL 75.756316 214.756364 \nL 75.886081 209.73733 \nL 75.950964 201.24358 \nL 76.015846 214.756364 \nL 76.080729 213.984205 \nL 76.145611 214.756364 \nL 76.210494 192.36375 \nL 76.275376 210.895568 \nL 76.340259 209.35125 \nL 76.405141 214.756364 \nL 76.470024 181.167443 \nL 76.534906 213.984205 \nL 76.599789 213.212045 \nL 76.664671 206.648693 \nL 76.729553 180.395284 \nL 76.794436 214.756364 \nL 76.859318 210.895568 \nL 76.924201 214.756364 \nL 76.989083 214.370284 \nL 77.053966 214.756364 \nL 77.118848 210.509489 \nL 77.183731 214.370284 \nL 77.248613 213.598125 \nL 77.313496 211.667727 \nL 77.443261 189.661193 \nL 77.508143 214.756364 \nL 77.573025 202.401818 \nL 77.70279 214.756364 \nL 77.767673 213.598125 \nL 77.832555 207.420852 \nL 77.96232 214.756364 \nL 78.092085 208.96517 \nL 78.156968 211.281648 \nL 78.286733 206.262614 \nL 78.351615 181.939602 \nL 78.48138 204.332216 \nL 78.546262 198.927102 \nL 78.74091 214.370284 \nL 78.870675 212.825966 \nL 78.935557 192.36375 \nL 79.065322 213.984205 \nL 79.130205 186.572557 \nL 79.195087 198.541023 \nL 79.25997 212.439886 \nL 79.324852 209.35125 \nL 79.389734 214.756364 \nL 79.454617 210.509489 \nL 79.649264 214.756364 \nL 79.714147 214.370284 \nL 79.779029 207.806932 \nL 79.843912 213.984205 \nL 79.908794 200.085341 \nL 79.973677 202.787898 \nL 80.168324 213.984205 \nL 80.233206 214.370284 \nL 80.298089 213.598125 \nL 80.427854 208.579091 \nL 80.557619 213.984205 \nL 80.752266 193.135909 \nL 80.817149 207.806932 \nL 80.882031 205.490455 \nL 80.946914 203.560057 \nL 81.011796 211.667727 \nL 81.076679 210.123409 \nL 81.141561 210.509489 \nL 81.271326 197.768864 \nL 81.336208 214.370284 \nL 81.401091 166.8825 \nL 81.465973 212.439886 \nL 81.530856 210.509489 \nL 81.595738 206.262614 \nL 81.660621 213.984205 \nL 81.725503 207.034773 \nL 81.790386 207.806932 \nL 81.855268 214.370284 \nL 81.985033 193.135909 \nL 82.049915 212.053807 \nL 82.114798 208.96517 \nL 82.244563 212.825966 \nL 82.309445 212.053807 \nL 82.374328 213.598125 \nL 82.43921 198.541023 \nL 82.568975 213.984205 \nL 82.633858 213.984205 \nL 82.69874 214.756364 \nL 82.763623 214.370284 \nL 82.828505 214.370284 \nL 82.893387 166.8825 \nL 83.023152 206.648693 \nL 83.152917 214.756364 \nL 83.2178 213.212045 \nL 83.282682 213.984205 \nL 83.347565 214.756364 \nL 83.412447 212.825966 \nL 83.47733 203.946136 \nL 83.542212 214.756364 \nL 83.607095 214.370284 \nL 83.73686 205.104375 \nL 83.801742 214.756364 \nL 83.931507 186.958636 \nL 84.061272 213.212045 \nL 84.191037 201.629659 \nL 84.385684 213.598125 \nL 84.450567 214.756364 \nL 84.515449 17.083636 \nL 84.580332 212.053807 \nL 84.645214 202.015739 \nL 84.710096 212.439886 \nL 84.774979 200.8575 \nL 84.839861 214.756364 \nL 84.904744 208.579091 \nL 85.099391 213.598125 \nL 85.164274 213.598125 \nL 85.229156 178.850966 \nL 85.294039 203.173977 \nL 85.358921 206.262614 \nL 85.423804 190.047273 \nL 85.488686 212.439886 \nL 85.553568 185.028239 \nL 85.618451 214.370284 \nL 85.683333 213.598125 \nL 85.813098 214.370284 \nL 85.877981 212.439886 \nL 85.942863 212.825966 \nL 86.007746 198.927102 \nL 86.072628 206.648693 \nL 86.137511 206.648693 \nL 86.332158 214.756364 \nL 86.526805 213.598125 \nL 86.591688 166.110341 \nL 86.65657 194.680227 \nL 86.786335 208.96517 \nL 86.851218 207.420852 \nL 86.980983 213.984205 \nL 87.240513 203.173977 \nL 87.305395 213.212045 \nL 87.370277 200.47142 \nL 87.43516 206.262614 \nL 87.629807 214.370284 \nL 87.69469 210.123409 \nL 87.824455 192.36375 \nL 87.889337 214.756364 \nL 87.95422 201.629659 \nL 88.019102 206.262614 \nL 88.083985 181.167443 \nL 88.148867 214.756364 \nL 88.213749 213.984205 \nL 88.278632 202.401818 \nL 88.343514 203.560057 \nL 88.408397 202.787898 \nL 88.538162 213.984205 \nL 88.603044 214.370284 \nL 88.797692 207.420852 \nL 88.862574 184.25608 \nL 88.927457 214.370284 \nL 88.992339 210.509489 \nL 89.122104 214.756364 \nL 89.186986 214.370284 \nL 89.251869 212.825966 \nL 89.316751 214.756364 \nL 89.446516 207.034773 \nL 89.511399 211.667727 \nL 89.576281 208.579091 \nL 89.641164 210.509489 \nL 89.706046 209.35125 \nL 89.770929 210.509489 \nL 89.835811 203.173977 \nL 89.965576 213.984205 \nL 90.030458 213.212045 \nL 90.095341 214.370284 \nL 90.160223 213.598125 \nL 90.225106 213.598125 \nL 90.289988 214.756364 \nL 90.354871 213.984205 \nL 90.419753 213.598125 \nL 90.484636 214.756364 \nL 90.549518 207.806932 \nL 90.614401 212.053807 \nL 90.679283 214.756364 \nL 90.744166 212.439886 \nL 90.87393 214.756364 \nL 90.938813 214.756364 \nL 91.003695 213.212045 \nL 91.068578 205.876534 \nL 91.13346 213.984205 \nL 91.198343 198.541023 \nL 91.328108 213.212045 \nL 91.39299 201.24358 \nL 91.457873 202.015739 \nL 91.587638 214.756364 \nL 91.65252 213.984205 \nL 91.717403 214.370284 \nL 91.847167 212.825966 \nL 92.041815 214.756364 \nL 92.106697 214.756364 \nL 92.17158 208.579091 \nL 92.236462 211.281648 \nL 92.301345 214.370284 \nL 92.366227 213.212045 \nL 92.43111 200.8575 \nL 92.495992 208.96517 \nL 92.560875 213.212045 \nL 92.625757 208.579091 \nL 92.690639 214.756364 \nL 92.820404 194.680227 \nL 92.885287 198.154943 \nL 92.950169 212.825966 \nL 93.015052 210.123409 \nL 93.079934 210.509489 \nL 93.144817 208.193011 \nL 93.274582 214.756364 \nL 93.339464 214.756364 \nL 93.469229 212.825966 \nL 93.534111 204.332216 \nL 93.598994 214.756364 \nL 93.663876 212.825966 \nL 93.728759 214.756364 \nL 93.793641 213.212045 \nL 93.923406 214.756364 \nL 94.053171 194.680227 \nL 94.118054 211.667727 \nL 94.182936 209.73733 \nL 94.247819 193.521989 \nL 94.312701 214.370284 \nL 94.377584 212.825966 \nL 94.572231 214.756364 \nL 94.637113 200.47142 \nL 94.701996 214.756364 \nL 94.766878 187.344716 \nL 94.896643 212.825966 \nL 94.961526 210.509489 \nL 95.026408 214.756364 \nL 95.091291 208.96517 \nL 95.156173 214.370284 \nL 95.221056 211.281648 \nL 95.285938 213.212045 \nL 95.35082 207.806932 \nL 95.415703 214.756364 \nL 95.480585 213.984205 \nL 95.545468 214.756364 \nL 95.740115 187.730795 \nL 95.804998 210.509489 \nL 95.86988 209.35125 \nL 95.934763 205.490455 \nL 95.999645 210.895568 \nL 96.064528 209.35125 \nL 96.12941 208.96517 \nL 96.194293 209.35125 \nL 96.324057 214.756364 \nL 96.453822 212.439886 \nL 96.518705 200.085341 \nL 96.64847 214.756364 \nL 96.713352 212.825966 \nL 96.778235 214.756364 \nL 96.843117 210.509489 \nL 96.972882 214.756364 \nL 97.037765 212.439886 \nL 97.102647 214.756364 \nL 97.167529 214.370284 \nL 97.232412 208.579091 \nL 97.297294 213.212045 \nL 97.362177 193.521989 \nL 97.427059 200.085341 \nL 97.491942 214.756364 \nL 97.556824 203.560057 \nL 97.621707 210.895568 \nL 97.751472 195.066307 \nL 97.816354 214.756364 \nL 97.881237 208.96517 \nL 97.946119 209.73733 \nL 98.011001 212.825966 \nL 98.075884 211.281648 \nL 98.270531 214.756364 \nL 98.335414 214.756364 \nL 98.400296 211.281648 \nL 98.465179 212.053807 \nL 98.530061 212.439886 \nL 98.659826 214.756364 \nL 98.854474 214.756364 \nL 98.919356 213.984205 \nL 98.984238 214.370284 \nL 99.049121 214.370284 \nL 99.114003 213.984205 \nL 99.243768 202.787898 \nL 99.308651 214.756364 \nL 99.373533 210.509489 \nL 99.503298 214.756364 \nL 99.568181 194.680227 \nL 99.762828 214.756364 \nL 99.82771 214.756364 \nL 99.892593 213.212045 \nL 99.957475 214.756364 \nL 100.022358 214.370284 \nL 100.152123 208.193011 \nL 100.217005 214.370284 \nL 100.281888 208.96517 \nL 100.34677 212.053807 \nL 100.411653 213.212045 \nL 100.476535 210.509489 \nL 100.541418 214.756364 \nL 100.6063 208.96517 \nL 100.671182 214.756364 \nL 100.736065 212.825966 \nL 100.800947 211.667727 \nL 100.995595 214.756364 \nL 101.060477 204.718295 \nL 101.12536 213.598125 \nL 101.190242 205.876534 \nL 101.255125 213.598125 \nL 101.320007 209.35125 \nL 101.38489 207.806932 \nL 101.514655 196.224545 \nL 101.644419 214.756364 \nL 101.709302 214.756364 \nL 101.774184 213.598125 \nL 101.839067 214.370284 \nL 101.903949 214.370284 \nL 101.968832 203.173977 \nL 102.033714 204.332216 \nL 102.163479 211.281648 \nL 102.228362 206.648693 \nL 102.293244 209.73733 \nL 102.358127 208.193011 \nL 102.423009 213.984205 \nL 102.487891 210.509489 \nL 102.617656 213.984205 \nL 102.682539 195.838466 \nL 102.747421 213.212045 \nL 102.812304 210.895568 \nL 102.877186 213.598125 \nL 102.942069 213.212045 \nL 103.006951 210.123409 \nL 103.136716 214.370284 \nL 103.201599 212.053807 \nL 103.266481 213.598125 \nL 103.331363 214.370284 \nL 103.396246 206.648693 \nL 103.461128 214.756364 \nL 103.655776 203.946136 \nL 103.785541 213.984205 \nL 103.850423 214.756364 \nL 103.980188 207.034773 \nL 104.045071 214.756364 \nL 104.109953 208.579091 \nL 104.174836 214.756364 \nL 104.239718 214.370284 \nL 104.3046 214.370284 \nL 104.369483 212.053807 \nL 104.434365 212.825966 \nL 104.499248 198.927102 \nL 104.56413 210.509489 \nL 104.629013 208.96517 \nL 104.693895 212.825966 \nL 104.758778 198.927102 \nL 104.82366 214.370284 \nL 104.888543 212.053807 \nL 104.953425 213.598125 \nL 105.018308 197.768864 \nL 105.08319 208.579091 \nL 105.148072 214.756364 \nL 105.212955 211.667727 \nL 105.277837 213.984205 \nL 105.34272 205.104375 \nL 105.472485 214.756364 \nL 105.537367 212.825966 \nL 105.60225 214.370284 \nL 105.667132 213.984205 \nL 105.732015 214.370284 \nL 105.86178 211.281648 \nL 105.926662 214.370284 \nL 105.991544 210.509489 \nL 106.056427 211.281648 \nL 106.121309 211.667727 \nL 106.251074 214.370284 \nL 106.315957 214.370284 \nL 106.380839 212.439886 \nL 106.445722 213.598125 \nL 106.575487 209.73733 \nL 106.640369 204.718295 \nL 106.770134 214.370284 \nL 106.835017 214.370284 \nL 106.899899 198.154943 \nL 106.964781 205.490455 \nL 107.029664 214.370284 \nL 107.094546 213.212045 \nL 107.159429 214.756364 \nL 107.224311 204.332216 \nL 107.289194 214.756364 \nL 107.354076 212.825966 \nL 107.418959 214.756364 \nL 107.483841 212.439886 \nL 107.548724 214.370284 \nL 107.613606 213.212045 \nL 107.743371 214.756364 \nL 107.808253 214.370284 \nL 107.873136 213.212045 \nL 107.938018 203.560057 \nL 108.067783 213.984205 \nL 108.132666 214.756364 \nL 108.197548 214.370284 \nL 108.262431 210.509489 \nL 108.392196 214.756364 \nL 108.521961 212.825966 \nL 108.586843 213.984205 \nL 108.651725 212.825966 \nL 108.716608 191.97767 \nL 108.846373 214.370284 \nL 108.976138 214.756364 \nL 109.04102 208.579091 \nL 109.105903 213.984205 \nL 109.170785 212.053807 \nL 109.235668 214.370284 \nL 109.30055 213.212045 \nL 109.365433 213.984205 \nL 109.430315 203.560057 \nL 109.495198 211.667727 \nL 109.56008 201.629659 \nL 109.624962 213.984205 \nL 109.689845 205.490455 \nL 109.81961 214.370284 \nL 109.884492 212.439886 \nL 109.949375 210.895568 \nL 110.07914 214.756364 \nL 110.144022 208.193011 \nL 110.208905 213.984205 \nL 110.273787 210.895568 \nL 110.33867 213.598125 \nL 110.403552 210.895568 \nL 110.468434 213.212045 \nL 110.533317 209.35125 \nL 110.598199 212.053807 \nL 110.663082 214.370284 \nL 110.727964 212.053807 \nL 110.792847 213.598125 \nL 110.857729 214.756364 \nL 110.922612 213.598125 \nL 110.987494 206.648693 \nL 111.117259 214.370284 \nL 111.182142 212.439886 \nL 111.247024 214.370284 \nL 111.376789 209.73733 \nL 111.506554 214.756364 \nL 111.636319 214.370284 \nL 111.701201 207.034773 \nL 111.830966 213.984205 \nL 112.025614 202.401818 \nL 112.155379 214.756364 \nL 112.220261 210.895568 \nL 112.285143 214.756364 \nL 112.350026 214.370284 \nL 112.414908 214.370284 \nL 112.544673 212.439886 \nL 112.674438 214.370284 \nL 112.739321 214.756364 \nL 112.869086 205.490455 \nL 112.933968 213.212045 \nL 112.998851 207.420852 \nL 113.063733 214.370284 \nL 113.128615 212.825966 \nL 113.25838 185.028239 \nL 113.323263 213.598125 \nL 113.388145 213.212045 \nL 113.453028 210.123409 \nL 113.51791 214.370284 \nL 113.582793 209.35125 \nL 113.647675 214.756364 \nL 113.712558 213.984205 \nL 113.77744 214.370284 \nL 113.842323 213.984205 \nL 113.907205 214.756364 \nL 113.972088 214.370284 \nL 114.03697 214.756364 \nL 114.166735 209.35125 \nL 114.231617 213.598125 \nL 114.2965 207.034773 \nL 114.361382 210.895568 \nL 114.55603 214.756364 \nL 114.620912 212.825966 \nL 114.685795 187.344716 \nL 114.81556 214.756364 \nL 114.880442 214.756364 \nL 114.945324 212.053807 \nL 115.075089 214.756364 \nL 115.139972 214.370284 \nL 115.269737 208.193011 \nL 115.334619 208.579091 \nL 115.399502 214.756364 \nL 115.464384 213.984205 \nL 115.529267 213.598125 \nL 115.594149 196.224545 \nL 115.723914 213.598125 \nL 115.788796 213.212045 \nL 115.853679 214.370284 \nL 115.918561 210.509489 \nL 115.983444 212.439886 \nL 116.048326 214.756364 \nL 116.113209 214.370284 \nL 116.307856 207.806932 \nL 116.437621 214.370284 \nL 116.502504 213.598125 \nL 116.632269 214.756364 \nL 116.697151 213.984205 \nL 116.762033 214.370284 \nL 116.891798 214.370284 \nL 117.021563 212.439886 \nL 117.086446 213.598125 \nL 117.151328 208.579091 \nL 117.216211 213.598125 \nL 117.281093 213.212045 \nL 117.345976 211.667727 \nL 117.410858 201.629659 \nL 117.540623 214.370284 \nL 117.605505 213.598125 \nL 117.670388 214.756364 \nL 117.73527 214.370284 \nL 117.865035 207.420852 \nL 117.9948 213.984205 \nL 118.059683 213.598125 \nL 118.124565 214.370284 \nL 118.189448 205.490455 \nL 118.25433 210.123409 \nL 118.319213 212.439886 \nL 118.384095 199.699261 \nL 118.448977 213.598125 \nL 118.51386 212.825966 \nL 118.643625 214.756364 \nL 118.708507 214.370284 \nL 118.77339 214.756364 \nL 118.903155 197.382784 \nL 119.03292 214.756364 \nL 119.097802 214.370284 \nL 119.162685 213.212045 \nL 119.227567 214.756364 \nL 119.357332 212.825966 \nL 119.422214 212.825966 \nL 119.487097 210.123409 \nL 119.616862 213.984205 \nL 119.681744 213.984205 \nL 119.746627 213.212045 \nL 119.876392 214.756364 \nL 119.941274 214.370284 \nL 120.006157 205.876534 \nL 120.071039 214.756364 \nL 120.135922 210.509489 \nL 120.200804 173.445852 \nL 120.330569 213.598125 \nL 120.395451 214.756364 \nL 120.460334 214.370284 \nL 120.525216 213.984205 \nL 120.590099 205.490455 \nL 120.719864 213.212045 \nL 120.784746 205.490455 \nL 120.914511 214.756364 \nL 120.979394 200.47142 \nL 121.044276 214.756364 \nL 121.109158 213.212045 \nL 121.174041 214.756364 \nL 121.238923 201.629659 \nL 121.303806 214.756364 \nL 121.368688 212.825966 \nL 121.433571 214.756364 \nL 121.498453 207.034773 \nL 121.628218 214.756364 \nL 121.693101 211.667727 \nL 121.757983 212.825966 \nL 121.822866 214.756364 \nL 121.887748 213.212045 \nL 121.952631 213.598125 \nL 122.017513 213.212045 \nL 122.082395 214.370284 \nL 122.147278 212.825966 \nL 122.21216 196.610625 \nL 122.341925 213.984205 \nL 122.536573 208.579091 \nL 122.601455 214.756364 \nL 122.666338 213.984205 \nL 122.73122 214.756364 \nL 122.796103 197.768864 \nL 122.860985 213.598125 \nL 122.925867 213.212045 \nL 122.99075 214.370284 \nL 123.055632 188.889034 \nL 123.120515 203.173977 \nL 123.185397 214.370284 \nL 123.25028 213.984205 \nL 123.380045 203.946136 \nL 123.444927 214.370284 \nL 123.50981 213.212045 \nL 123.574692 202.787898 \nL 123.704457 214.370284 \nL 123.899104 213.212045 \nL 124.028869 214.756364 \nL 124.158634 214.370284 \nL 124.223517 214.756364 \nL 124.353282 212.825966 \nL 124.418164 213.598125 \nL 124.483047 211.667727 \nL 124.547929 213.598125 \nL 124.612812 207.806932 \nL 124.742576 214.756364 \nL 124.937224 213.212045 \nL 125.066989 214.756364 \nL 125.131871 214.756364 \nL 125.196754 209.35125 \nL 125.261636 212.825966 \nL 125.326519 214.370284 \nL 125.391401 213.984205 \nL 125.456284 205.490455 \nL 125.521166 213.984205 \nL 125.586048 211.667727 \nL 125.650931 212.053807 \nL 125.780696 214.756364 \nL 125.910461 210.895568 \nL 125.975343 201.24358 \nL 126.105108 214.370284 \nL 126.169991 214.370284 \nL 126.299756 213.984205 \nL 126.364638 212.439886 \nL 126.429521 213.984205 \nL 126.494403 197.382784 \nL 126.559285 213.212045 \nL 126.624168 195.452386 \nL 126.68905 212.053807 \nL 126.753933 210.895568 \nL 126.818815 207.806932 \nL 126.883698 214.756364 \nL 126.94858 212.439886 \nL 127.013463 208.579091 \nL 127.143228 213.984205 \nL 127.272993 214.756364 \nL 127.337875 213.212045 \nL 127.402757 214.756364 \nL 127.46764 214.370284 \nL 127.532522 212.825966 \nL 127.597405 214.370284 \nL 127.662287 212.825966 \nL 127.72717 214.756364 \nL 127.792052 212.439886 \nL 127.856935 214.756364 \nL 127.921817 192.36375 \nL 127.9867 208.579091 \nL 128.051582 205.876534 \nL 128.116465 205.104375 \nL 128.181347 160.705227 \nL 128.246229 214.756364 \nL 128.311112 211.281648 \nL 128.375994 214.756364 \nL 128.440877 213.598125 \nL 128.505759 212.825966 \nL 128.635524 213.984205 \nL 128.765289 212.439886 \nL 128.830172 213.598125 \nL 129.089702 176.920568 \nL 129.154584 61.096705 \nL 129.284349 213.598125 \nL 129.349231 214.756364 \nL 129.414114 214.370284 \nL 129.478996 210.509489 \nL 129.543879 185.800398 \nL 129.673644 213.984205 \nL 129.738526 213.984205 \nL 129.803409 204.718295 \nL 129.868291 214.370284 \nL 129.933174 210.895568 \nL 129.998056 212.439886 \nL 130.062938 207.420852 \nL 130.127821 213.598125 \nL 130.192703 212.439886 \nL 130.322468 190.433352 \nL 130.452233 213.984205 \nL 130.517116 208.579091 \nL 130.581998 214.756364 \nL 130.646881 209.35125 \nL 130.711763 210.509489 \nL 130.841528 207.806932 \nL 130.90641 197.382784 \nL 130.971293 212.439886 \nL 131.036175 211.667727 \nL 131.101058 210.509489 \nL 131.230823 214.370284 \nL 131.295705 201.629659 \nL 131.360588 209.35125 \nL 131.490353 214.370284 \nL 131.555235 213.598125 \nL 131.620118 207.034773 \nL 131.685 214.756364 \nL 131.749883 193.135909 \nL 131.814765 214.756364 \nL 131.879647 214.370284 \nL 131.94453 213.984205 \nL 132.139177 205.876534 \nL 132.20406 207.034773 \nL 132.333825 214.756364 \nL 132.398707 212.439886 \nL 132.46359 212.439886 \nL 132.528472 212.053807 \nL 132.723119 214.756364 \nL 132.788002 214.756364 \nL 132.917767 208.96517 \nL 133.047532 214.756364 \nL 133.177297 146.034205 \nL 133.242179 213.212045 \nL 133.307062 194.680227 \nL 133.436827 213.598125 \nL 133.501709 195.838466 \nL 133.566591 214.756364 \nL 133.631474 213.984205 \nL 133.696356 214.756364 \nL 133.761239 214.370284 \nL 133.826121 214.756364 \nL 133.891004 212.825966 \nL 133.955886 213.984205 \nL 134.020769 213.984205 \nL 134.085651 212.825966 \nL 134.150534 213.598125 \nL 134.215416 213.598125 \nL 134.280299 212.825966 \nL 134.410064 214.756364 \nL 134.474946 207.806932 \nL 134.539828 214.756364 \nL 134.604711 214.370284 \nL 134.669593 213.212045 \nL 134.734476 214.370284 \nL 134.799358 213.984205 \nL 134.864241 213.598125 \nL 134.929123 214.756364 \nL 134.994006 205.104375 \nL 135.123771 214.756364 \nL 135.253536 214.756364 \nL 135.318418 212.439886 \nL 135.448183 214.370284 \nL 135.577948 214.756364 \nL 135.64283 214.756364 \nL 135.707713 213.212045 \nL 135.90236 214.756364 \nL 135.967243 212.825966 \nL 136.032125 214.370284 \nL 136.16189 212.053807 \nL 136.226772 213.984205 \nL 136.291655 210.895568 \nL 136.356537 126.730227 \nL 136.486302 205.104375 \nL 136.616067 214.756364 \nL 136.68095 214.756364 \nL 136.745832 208.193011 \nL 136.810715 212.825966 \nL 136.875597 214.756364 \nL 136.94048 213.598125 \nL 137.005362 211.281648 \nL 137.070245 211.667727 \nL 137.135127 211.667727 \nL 137.200009 214.370284 \nL 137.264892 205.876534 \nL 137.329774 211.281648 \nL 137.459539 214.370284 \nL 137.524422 213.598125 \nL 137.654187 214.756364 \nL 137.783952 211.281648 \nL 137.913717 214.756364 \nL 138.043481 212.053807 \nL 138.108364 214.756364 \nL 138.173246 212.439886 \nL 138.238129 213.984205 \nL 138.367894 214.756364 \nL 138.562541 207.034773 \nL 138.692306 213.212045 \nL 138.757189 206.648693 \nL 138.822071 214.370284 \nL 138.886953 212.825966 \nL 138.951836 214.756364 \nL 139.016718 213.598125 \nL 139.081601 212.825966 \nL 139.211366 207.034773 \nL 139.341131 212.825966 \nL 139.406013 207.806932 \nL 139.470896 214.756364 \nL 139.535778 208.579091 \nL 139.600661 212.053807 \nL 139.665543 214.756364 \nL 139.730426 206.648693 \nL 139.795308 214.370284 \nL 139.86019 212.439886 \nL 139.925073 207.806932 \nL 140.054838 213.212045 \nL 140.184603 214.756364 \nL 140.249485 213.598125 \nL 140.37925 214.756364 \nL 140.509015 214.370284 \nL 140.63878 214.756364 \nL 140.703662 214.756364 \nL 140.768545 210.509489 \nL 140.833427 214.756364 \nL 140.89831 212.825966 \nL 141.028075 214.756364 \nL 141.092957 206.648693 \nL 141.15784 213.598125 \nL 141.222722 212.053807 \nL 141.287605 212.439886 \nL 141.352487 212.053807 \nL 141.41737 204.718295 \nL 141.482252 213.212045 \nL 141.547135 210.123409 \nL 141.612017 213.984205 \nL 141.676899 212.825966 \nL 141.741782 201.24358 \nL 141.806664 214.756364 \nL 141.871547 212.825966 \nL 141.936429 214.756364 \nL 142.066194 210.123409 \nL 142.195959 214.756364 \nL 142.260842 212.825966 \nL 142.325724 213.212045 \nL 142.390607 202.787898 \nL 142.455489 203.173977 \nL 142.520371 212.053807 \nL 142.585254 209.35125 \nL 142.650136 214.370284 \nL 142.715019 213.984205 \nL 142.779901 213.212045 \nL 142.844784 214.756364 \nL 142.909666 211.667727 \nL 142.974549 214.370284 \nL 143.039431 208.579091 \nL 143.104314 210.123409 \nL 143.169196 213.598125 \nL 143.234079 212.053807 \nL 143.298961 210.895568 \nL 143.428726 214.756364 \nL 143.493608 200.47142 \nL 143.558491 213.212045 \nL 143.623373 211.281648 \nL 143.688256 214.370284 \nL 143.753138 212.439886 \nL 143.882903 209.73733 \nL 144.012668 214.756364 \nL 144.142433 211.667727 \nL 144.207316 214.756364 \nL 144.401963 210.509489 \nL 144.466845 214.756364 \nL 144.531728 205.876534 \nL 144.661493 214.756364 \nL 144.85614 214.756364 \nL 144.921023 212.053807 \nL 144.985905 214.756364 \nL 145.050788 213.984205 \nL 145.245435 214.756364 \nL 145.310317 213.598125 \nL 145.3752 213.984205 \nL 145.504965 214.756364 \nL 145.569847 206.262614 \nL 145.63473 214.756364 \nL 145.699612 211.667727 \nL 145.764495 214.756364 \nL 145.829377 208.96517 \nL 145.89426 212.439886 \nL 145.959142 214.756364 \nL 146.024024 210.509489 \nL 146.088907 210.895568 \nL 146.153789 214.756364 \nL 146.218672 213.984205 \nL 146.283554 213.984205 \nL 146.348437 211.281648 \nL 146.413319 214.756364 \nL 146.607967 206.262614 \nL 146.737732 214.756364 \nL 146.802614 214.756364 \nL 146.867497 205.104375 \nL 146.932379 214.756364 \nL 146.997261 207.806932 \nL 147.062144 214.756364 \nL 147.127026 210.123409 \nL 147.191909 214.756364 \nL 147.256791 211.281648 \nL 147.386556 214.756364 \nL 147.451439 210.509489 \nL 147.516321 211.667727 \nL 147.581204 214.756364 \nL 147.646086 214.370284 \nL 147.775851 209.35125 \nL 147.905616 214.370284 \nL 148.035381 212.439886 \nL 148.100263 206.648693 \nL 148.230028 214.756364 \nL 148.294911 212.825966 \nL 148.359793 201.24358 \nL 148.424676 213.598125 \nL 148.489558 208.96517 \nL 148.619323 214.756364 \nL 148.684205 213.598125 \nL 148.81397 214.756364 \nL 148.878853 214.756364 \nL 148.943735 213.598125 \nL 149.008618 206.648693 \nL 149.138383 214.756364 \nL 149.203265 214.370284 \nL 149.33303 209.35125 \nL 149.462795 214.756364 \nL 149.527678 213.598125 \nL 149.59256 213.212045 \nL 149.657442 214.756364 \nL 149.722325 211.281648 \nL 149.85209 214.756364 \nL 149.916972 214.756364 \nL 150.11162 203.946136 \nL 150.176502 214.756364 \nL 150.241385 212.053807 \nL 150.37115 213.984205 \nL 150.436032 208.96517 \nL 150.565797 214.756364 \nL 150.630679 214.370284 \nL 150.695562 209.73733 \nL 150.760444 213.984205 \nL 150.825327 213.598125 \nL 150.890209 214.756364 \nL 150.955092 213.984205 \nL 151.019974 213.984205 \nL 151.084857 214.756364 \nL 151.149739 209.35125 \nL 151.214622 212.825966 \nL 151.279504 208.193011 \nL 151.344386 214.370284 \nL 151.409269 212.053807 \nL 151.474151 192.36375 \nL 151.603916 212.439886 \nL 151.668799 212.439886 \nL 151.733681 208.193011 \nL 151.798564 214.756364 \nL 151.863446 206.648693 \nL 151.928329 208.579091 \nL 151.993211 213.598125 \nL 152.058094 210.123409 \nL 152.122976 214.756364 \nL 152.187859 212.825966 \nL 152.252741 213.212045 \nL 152.317623 211.667727 \nL 152.447388 214.370284 \nL 152.577153 208.96517 \nL 152.706918 214.756364 \nL 152.771801 209.73733 \nL 152.836683 214.756364 \nL 152.901566 207.806932 \nL 153.031331 214.756364 \nL 153.096213 214.370284 \nL 153.225978 214.756364 \nL 153.29086 213.984205 \nL 153.420625 214.756364 \nL 153.485508 213.984205 \nL 153.55039 211.667727 \nL 153.615273 212.439886 \nL 153.745038 214.756364 \nL 153.874803 214.756364 \nL 154.004567 213.598125 \nL 154.06945 214.370284 \nL 154.134332 206.648693 \nL 154.199215 209.73733 \nL 154.264097 206.262614 \nL 154.32898 214.756364 \nL 154.393862 213.598125 \nL 154.58851 206.648693 \nL 154.718275 214.756364 \nL 154.783157 214.756364 \nL 154.84804 213.598125 \nL 154.912922 214.370284 \nL 155.107569 212.825966 \nL 155.172452 214.756364 \nL 155.302217 200.8575 \nL 155.496864 214.756364 \nL 155.626629 213.598125 \nL 155.691512 214.756364 \nL 155.756394 208.579091 \nL 155.821276 211.667727 \nL 155.886159 214.756364 \nL 155.951041 210.895568 \nL 156.080806 214.756364 \nL 156.145689 212.439886 \nL 156.210571 213.212045 \nL 156.275454 213.212045 \nL 156.340336 210.123409 \nL 156.470101 214.756364 \nL 156.534984 209.73733 \nL 156.664749 214.756364 \nL 156.729631 214.370284 \nL 156.794513 214.756364 \nL 156.859396 210.509489 \nL 156.924278 212.053807 \nL 157.118926 214.756364 \nL 157.183808 214.756364 \nL 157.248691 212.053807 \nL 157.313573 213.212045 \nL 157.378456 214.756364 \nL 157.443338 212.053807 \nL 157.573103 214.756364 \nL 157.637985 213.212045 \nL 157.76775 214.756364 \nL 158.28681 214.756364 \nL 158.351693 212.825966 \nL 158.416575 214.756364 \nL 158.481457 212.825966 \nL 158.611222 214.756364 \nL 158.870752 213.212045 \nL 158.935635 210.509489 \nL 159.000517 214.756364 \nL 159.0654 214.370284 \nL 159.130282 213.984205 \nL 159.260047 214.756364 \nL 159.389812 212.053807 \nL 159.454694 213.212045 \nL 159.519577 214.756364 \nL 159.584459 214.370284 \nL 159.714224 214.756364 \nL 159.779107 209.73733 \nL 159.908872 214.756364 \nL 160.038637 212.439886 \nL 160.103519 119.394716 \nL 160.233284 214.756364 \nL 160.298166 214.370284 \nL 160.363049 214.756364 \nL 160.427931 212.825966 \nL 160.492814 213.212045 \nL 160.557696 213.598125 \nL 160.687461 209.73733 \nL 160.752344 212.053807 \nL 160.817226 214.756364 \nL 160.882109 213.212045 \nL 161.011874 210.123409 \nL 161.076756 214.756364 \nL 161.141638 211.281648 \nL 161.271403 214.756364 \nL 161.336286 214.370284 \nL 161.466051 214.756364 \nL 161.660698 213.984205 \nL 161.725581 214.370284 \nL 161.790463 213.984205 \nL 161.855346 214.756364 \nL 161.920228 214.370284 \nL 161.985111 214.370284 \nL 162.114875 214.756364 \nL 162.24464 209.73733 \nL 162.374405 214.370284 \nL 162.439288 206.648693 \nL 162.50417 214.756364 \nL 162.569053 213.984205 \nL 162.633935 212.053807 \nL 162.7637 214.756364 \nL 162.828583 214.370284 \nL 162.893465 83.875398 \nL 163.02323 214.370284 \nL 163.088112 188.116875 \nL 163.152995 200.085341 \nL 163.217877 186.958636 \nL 163.28276 212.825966 \nL 163.347642 204.718295 \nL 163.477407 214.756364 \nL 163.54229 214.756364 \nL 163.607172 208.579091 \nL 163.672055 214.370284 \nL 163.736937 212.053807 \nL 163.801819 210.895568 \nL 163.866702 71.520852 \nL 163.996467 213.984205 \nL 164.061349 213.598125 \nL 164.126232 205.490455 \nL 164.255997 214.756364 \nL 164.320879 211.281648 \nL 164.385762 195.838466 \nL 164.515527 213.598125 \nL 164.580409 214.756364 \nL 164.645292 212.439886 \nL 164.710174 202.401818 \nL 164.839939 213.212045 \nL 164.904821 213.212045 \nL 165.034586 214.756364 \nL 165.099469 214.370284 \nL 165.164351 214.756364 \nL 165.229234 210.895568 \nL 165.358999 214.756364 \nL 165.423881 171.515455 \nL 165.553646 214.756364 \nL 165.618528 181.167443 \nL 165.683411 186.572557 \nL 165.748293 214.756364 \nL 165.813176 213.212045 \nL 165.878058 212.053807 \nL 165.942941 213.212045 \nL 166.007823 211.281648 \nL 166.072706 169.198977 \nL 166.202471 213.598125 \nL 166.267353 199.699261 \nL 166.397118 214.756364 \nL 166.462 202.787898 \nL 166.656648 214.756364 \nL 166.72153 195.066307 \nL 166.851295 214.370284 \nL 166.916178 214.370284 \nL 166.98106 211.667727 \nL 167.110825 214.756364 \nL 167.175708 213.984205 \nL 167.305473 214.756364 \nL 167.370355 214.756364 \nL 167.629885 207.034773 \nL 167.75965 213.598125 \nL 167.889415 213.984205 \nL 167.954297 212.439886 \nL 168.01918 213.984205 \nL 168.084062 212.053807 \nL 168.148945 212.439886 \nL 168.213827 213.984205 \nL 168.278709 203.173977 \nL 168.343592 213.212045 \nL 168.408474 211.281648 \nL 168.538239 213.598125 \nL 168.668004 211.281648 \nL 168.732887 213.212045 \nL 168.862652 209.73733 \nL 168.927534 212.825966 \nL 168.992417 188.502955 \nL 169.122181 214.756364 \nL 169.187064 214.756364 \nL 169.251946 192.74983 \nL 169.316829 211.667727 \nL 169.381711 207.806932 \nL 169.446594 208.193011 \nL 169.576359 213.212045 \nL 169.706124 194.294148 \nL 169.835889 214.370284 \nL 169.900771 214.370284 \nL 169.965654 202.015739 \nL 170.030536 207.420852 \nL 170.225183 212.053807 \nL 170.290066 211.667727 \nL 170.354948 186.572557 \nL 170.484713 214.756364 \nL 170.549596 205.104375 \nL 170.614478 214.370284 \nL 170.679361 213.598125 \nL 170.744243 209.35125 \nL 170.809126 213.212045 \nL 170.93889 203.560057 \nL 171.003773 211.281648 \nL 171.068655 203.946136 \nL 171.19842 211.281648 \nL 171.263303 210.895568 \nL 171.328185 209.35125 \nL 171.393068 213.984205 \nL 171.45795 213.212045 \nL 171.522833 213.598125 \nL 171.587715 214.756364 \nL 171.652598 203.560057 \nL 171.71748 214.370284 \nL 171.782363 208.193011 \nL 171.847245 213.598125 \nL 171.912127 210.509489 \nL 171.97701 214.756364 \nL 172.041892 211.281648 \nL 172.106775 212.439886 \nL 172.23654 214.370284 \nL 172.366305 213.598125 \nL 172.431187 209.73733 \nL 172.49607 214.370284 \nL 172.560952 213.598125 \nL 172.625835 214.370284 \nL 172.690717 213.598125 \nL 172.820482 208.193011 \nL 173.015129 213.984205 \nL 173.080012 203.560057 \nL 173.144894 214.370284 \nL 173.209777 213.984205 \nL 173.274659 210.123409 \nL 173.404424 214.756364 \nL 173.534189 214.756364 \nL 173.728836 212.439886 \nL 173.793719 214.370284 \nL 173.858601 213.598125 \nL 173.988366 214.370284 \nL 174.118131 214.370284 \nL 174.247896 200.47142 \nL 174.312779 204.332216 \nL 174.442544 212.439886 \nL 174.637191 214.756364 \nL 174.702073 209.35125 \nL 174.766956 214.756364 \nL 174.831838 197.768864 \nL 174.896721 213.984205 \nL 174.961603 212.439886 \nL 175.026486 214.756364 \nL 175.156251 212.825966 \nL 175.221133 213.984205 \nL 175.286016 213.212045 \nL 175.350898 210.895568 \nL 175.41578 214.756364 \nL 175.480663 214.370284 \nL 175.545545 214.756364 \nL 175.610428 211.281648 \nL 175.67531 214.370284 \nL 175.740193 211.281648 \nL 175.805075 213.212045 \nL 175.869958 212.053807 \nL 175.999723 214.756364 \nL 176.064605 214.756364 \nL 176.129488 214.370284 \nL 176.19437 214.756364 \nL 176.259252 214.370284 \nL 176.324135 211.667727 \nL 176.389017 213.212045 \nL 176.4539 214.370284 \nL 176.518782 207.420852 \nL 176.648547 214.370284 \nL 176.71343 212.053807 \nL 176.778312 214.756364 \nL 176.843195 213.984205 \nL 176.908077 214.756364 \nL 177.037842 197.382784 \nL 177.167607 214.370284 \nL 177.232489 213.598125 \nL 177.362254 210.123409 \nL 177.427137 212.053807 \nL 177.492019 206.262614 \nL 177.556902 213.984205 \nL 177.621784 210.509489 \nL 177.686667 210.895568 \nL 177.751549 214.756364 \nL 177.816432 208.579091 \nL 177.881314 212.825966 \nL 177.946197 212.053807 \nL 178.140844 214.370284 \nL 178.205726 208.96517 \nL 178.270609 210.509489 \nL 178.335491 211.281648 \nL 178.465256 214.756364 \nL 178.530139 212.825966 \nL 178.595021 214.370284 \nL 178.659904 212.439886 \nL 178.724786 214.756364 \nL 178.789669 213.984205 \nL 178.854551 213.598125 \nL 179.049198 214.756364 \nL 179.114081 214.370284 \nL 179.178963 207.806932 \nL 179.243846 213.984205 \nL 179.308728 213.598125 \nL 179.373611 213.984205 \nL 179.633141 210.123409 \nL 179.698023 214.370284 \nL 179.762906 211.667727 \nL 179.827788 211.667727 \nL 179.957553 214.756364 \nL 180.022435 214.370284 \nL 180.217083 207.420852 \nL 180.281965 212.053807 \nL 180.346848 211.281648 \nL 180.541495 214.370284 \nL 180.606378 196.224545 \nL 180.736142 214.756364 \nL 180.93079 212.053807 \nL 180.995672 214.370284 \nL 181.060555 213.598125 \nL 181.125437 213.598125 \nL 181.320085 214.756364 \nL 181.44985 214.756364 \nL 181.579614 212.439886 \nL 181.644497 214.370284 \nL 181.709379 212.439886 \nL 181.774262 213.598125 \nL 181.839144 214.756364 \nL 181.904027 213.984205 \nL 181.968909 214.370284 \nL 182.033792 213.598125 \nL 182.098674 208.96517 \nL 182.228439 214.756364 \nL 182.293322 212.053807 \nL 182.358204 213.212045 \nL 182.487969 212.825966 \nL 182.552851 214.370284 \nL 182.682616 209.73733 \nL 182.812381 214.756364 \nL 182.877264 214.756364 \nL 182.942146 209.35125 \nL 183.007029 213.984205 \nL 183.071911 206.262614 \nL 183.201676 214.756364 \nL 183.266559 214.756364 \nL 183.331441 213.212045 \nL 183.396323 214.756364 \nL 183.461206 214.370284 \nL 183.526088 212.053807 \nL 183.590971 214.756364 \nL 183.655853 210.895568 \nL 183.720736 213.212045 \nL 183.785618 214.756364 \nL 183.850501 213.598125 \nL 183.915383 207.420852 \nL 184.045148 214.756364 \nL 184.110031 214.756364 \nL 184.174913 214.370284 \nL 184.239795 214.756364 \nL 184.36956 212.439886 \nL 184.499325 214.370284 \nL 184.564208 214.756364 \nL 184.62909 214.370284 \nL 184.693973 212.053807 \nL 184.758855 214.756364 \nL 184.823738 212.825966 \nL 184.953503 214.756364 \nL 185.083268 214.756364 \nL 185.14815 210.895568 \nL 185.213032 214.756364 \nL 185.277915 213.598125 \nL 185.472562 212.439886 \nL 185.66721 214.370284 \nL 185.732092 213.598125 \nL 185.796975 214.756364 \nL 185.861857 209.73733 \nL 185.92674 214.756364 \nL 185.991622 212.053807 \nL 186.056504 212.053807 \nL 186.186269 214.756364 \nL 186.380917 210.123409 \nL 186.445799 214.370284 \nL 186.510682 212.439886 \nL 186.640447 214.370284 \nL 186.705329 214.370284 \nL 186.770212 210.509489 \nL 186.835094 213.984205 \nL 186.899977 209.73733 \nL 186.964859 214.756364 \nL 187.029741 210.509489 \nL 187.159506 214.370284 \nL 187.354154 212.053807 \nL 187.419036 206.262614 \nL 187.483919 214.756364 \nL 187.548801 212.825966 \nL 187.613684 213.212045 \nL 187.678566 204.718295 \nL 187.808331 214.756364 \nL 187.873213 214.756364 \nL 188.002978 210.895568 \nL 188.067861 213.984205 \nL 188.132743 213.212045 \nL 188.262508 214.756364 \nL 188.327391 213.984205 \nL 188.392273 208.96517 \nL 188.457156 214.756364 \nL 188.522038 209.73733 \nL 188.651803 214.756364 \nL 188.716685 214.370284 \nL 188.84645 210.509489 \nL 188.976215 214.370284 \nL 189.041098 214.756364 \nL 189.10598 212.439886 \nL 189.170863 213.212045 \nL 189.235745 213.598125 \nL 189.430393 208.579091 \nL 189.495275 214.370284 \nL 189.560158 213.984205 \nL 189.62504 214.756364 \nL 189.689922 214.370284 \nL 189.819687 214.756364 \nL 189.88457 212.439886 \nL 189.949452 213.598125 \nL 190.014335 213.598125 \nL 190.079217 214.756364 \nL 190.1441 210.123409 \nL 190.273865 214.756364 \nL 190.338747 213.598125 \nL 190.40363 214.370284 \nL 190.468512 213.984205 \nL 190.533394 207.806932 \nL 190.663159 214.756364 \nL 190.728042 214.756364 \nL 190.792924 212.825966 \nL 190.922689 214.756364 \nL 191.052454 211.667727 \nL 191.182219 214.756364 \nL 191.247102 213.598125 \nL 191.311984 206.262614 \nL 191.441749 214.756364 \nL 191.571514 211.281648 \nL 191.701279 213.212045 \nL 191.766161 209.35125 \nL 191.895926 214.370284 \nL 192.025691 214.370284 \nL 192.155456 214.756364 \nL 192.220339 214.370284 \nL 192.285221 214.756364 \nL 192.414986 212.825966 \nL 192.479868 214.756364 \nL 192.609633 210.895568 \nL 192.804281 214.756364 \nL 192.934046 207.420852 \nL 193.063811 214.370284 \nL 193.128693 214.370284 \nL 193.193575 214.756364 \nL 193.32334 210.509489 \nL 193.453105 214.756364 \nL 193.647753 213.598125 \nL 193.712635 214.756364 \nL 193.777518 212.439886 \nL 193.907283 214.756364 \nL 193.972165 213.984205 \nL 194.10193 214.756364 \nL 194.296577 212.053807 \nL 194.426342 214.370284 \nL 194.491225 213.984205 \nL 194.62099 214.756364 \nL 194.685872 211.667727 \nL 194.750755 214.756364 \nL 194.815637 214.370284 \nL 194.945402 214.756364 \nL 195.010284 214.756364 \nL 195.075167 214.370284 \nL 195.140049 214.756364 \nL 195.269814 213.984205 \nL 195.334697 214.370284 \nL 195.529344 209.35125 \nL 195.659109 214.756364 \nL 195.723992 212.825966 \nL 195.788874 206.648693 \nL 195.853756 213.598125 \nL 195.918639 212.439886 \nL 196.113286 214.756364 \nL 196.178169 214.756364 \nL 196.243051 214.370284 \nL 196.372816 214.756364 \nL 196.437699 212.439886 \nL 196.502581 214.756364 \nL 196.567464 213.984205 \nL 196.632346 214.370284 \nL 196.697228 213.598125 \nL 196.891876 214.756364 \nL 197.021641 214.756364 \nL 197.086523 212.439886 \nL 197.151406 213.984205 \nL 197.216288 213.598125 \nL 197.346053 213.984205 \nL 197.410936 213.984205 \nL 197.475818 212.825966 \nL 197.540701 213.598125 \nL 197.670465 214.756364 \nL 197.735348 212.439886 \nL 197.80023 213.598125 \nL 197.865113 212.053807 \nL 197.994878 214.756364 \nL 198.05976 214.370284 \nL 198.189525 214.756364 \nL 198.254408 212.053807 \nL 198.384173 214.756364 \nL 198.57882 214.756364 \nL 198.643702 213.212045 \nL 198.773467 214.756364 \nL 198.83835 211.281648 \nL 198.903232 212.439886 \nL 199.09788 214.756364 \nL 199.227645 214.756364 \nL 199.422292 210.123409 \nL 199.552057 214.756364 \nL 200.330646 214.756364 \nL 200.395529 213.212045 \nL 200.460411 213.984205 \nL 200.525294 213.984205 \nL 200.590176 210.123409 \nL 200.719941 214.370284 \nL 200.849706 212.439886 \nL 200.914589 214.756364 \nL 200.979471 212.825966 \nL 201.044354 214.370284 \nL 201.109236 213.984205 \nL 201.239001 214.756364 \nL 201.303883 213.598125 \nL 201.368766 213.984205 \nL 201.433648 214.756364 \nL 201.498531 214.370284 \nL 201.563413 212.439886 \nL 201.628296 204.718295 \nL 201.693178 214.370284 \nL 201.758061 209.73733 \nL 201.822943 209.73733 \nL 201.887826 214.756364 \nL 201.952708 213.984205 \nL 202.017591 214.756364 \nL 202.082473 214.370284 \nL 202.212238 214.756364 \nL 202.27712 214.756364 \nL 202.342003 214.370284 \nL 202.406885 214.756364 \nL 202.471768 213.212045 \nL 202.53665 208.579091 \nL 202.601533 214.756364 \nL 202.666415 213.598125 \nL 202.731298 212.053807 \nL 202.79618 214.756364 \nL 202.861063 192.74983 \nL 202.990827 214.756364 \nL 203.05571 214.370284 \nL 203.120592 214.756364 \nL 203.250357 211.281648 \nL 203.380122 214.756364 \nL 203.445005 214.756364 \nL 203.509887 213.598125 \nL 203.57477 214.370284 \nL 203.639652 214.370284 \nL 203.704535 214.756364 \nL 203.834299 213.598125 \nL 203.899182 212.439886 \nL 203.964064 214.756364 \nL 204.093829 211.667727 \nL 204.223594 214.756364 \nL 204.612889 214.756364 \nL 204.677772 214.370284 \nL 204.807536 214.756364 \nL 204.937301 214.756364 \nL 205.002184 214.370284 \nL 205.131949 214.756364 \nL 205.196831 214.756364 \nL 205.391479 209.35125 \nL 205.521244 214.756364 \nL 205.586126 213.984205 \nL 205.651008 214.756364 \nL 205.715891 213.212045 \nL 205.780773 213.598125 \nL 205.845656 214.370284 \nL 205.910538 208.193011 \nL 205.975421 213.984205 \nL 206.040303 212.439886 \nL 206.105186 214.756364 \nL 206.170068 211.667727 \nL 206.299833 214.756364 \nL 206.559363 211.667727 \nL 206.689128 214.756364 \nL 206.75401 214.370284 \nL 206.818893 214.756364 \nL 206.948658 213.598125 \nL 207.01354 214.756364 \nL 207.078423 213.212045 \nL 207.143305 214.756364 \nL 207.208188 214.370284 \nL 207.402835 209.35125 \nL 207.467717 202.401818 \nL 207.5326 177.692727 \nL 207.662365 214.756364 \nL 207.727247 214.756364 \nL 207.79213 214.370284 \nL 207.857012 214.756364 \nL 207.986777 211.281648 \nL 208.116542 214.370284 \nL 208.181425 213.984205 \nL 208.246307 214.756364 \nL 208.311189 214.370284 \nL 208.376072 210.895568 \nL 208.505837 214.756364 \nL 208.570719 214.756364 \nL 208.700484 213.984205 \nL 208.830249 213.984205 \nL 208.960014 214.756364 \nL 209.024897 213.984205 \nL 209.154661 214.756364 \nL 209.219544 214.756364 \nL 209.284426 210.895568 \nL 209.349309 214.370284 \nL 209.414191 212.053807 \nL 209.479074 212.053807 \nL 209.543956 209.73733 \nL 209.673721 214.756364 \nL 209.738604 209.35125 \nL 209.803486 214.756364 \nL 209.868369 213.598125 \nL 210.063016 214.756364 \nL 210.127898 214.756364 \nL 210.257663 213.598125 \nL 210.387428 214.756364 \nL 210.452311 214.370284 \nL 210.517193 213.212045 \nL 210.582076 213.598125 \nL 210.711841 213.984205 \nL 210.776723 213.598125 \nL 210.841606 214.756364 \nL 210.906488 214.370284 \nL 210.97137 214.756364 \nL 211.036253 213.598125 \nL 211.101135 214.756364 \nL 211.295783 208.579091 \nL 211.425548 214.756364 \nL 211.49043 213.598125 \nL 211.555313 214.756364 \nL 211.620195 206.262614 \nL 211.74996 214.756364 \nL 211.814842 212.439886 \nL 211.879725 214.756364 \nL 211.944607 214.370284 \nL 212.00949 214.756364 \nL 212.074372 214.370284 \nL 212.139255 213.212045 \nL 212.204137 214.756364 \nL 212.26902 213.984205 \nL 212.333902 213.984205 \nL 212.398785 211.667727 \nL 212.463667 214.756364 \nL 212.52855 212.439886 \nL 212.593432 213.984205 \nL 212.723197 214.756364 \nL 212.788079 212.053807 \nL 212.917844 214.756364 \nL 212.982727 214.756364 \nL 213.047609 214.370284 \nL 213.112492 213.212045 \nL 213.177374 214.756364 \nL 213.307139 210.895568 \nL 213.436904 213.598125 \nL 213.501787 210.509489 \nL 213.566669 214.370284 \nL 213.631551 211.281648 \nL 213.761316 214.370284 \nL 213.891081 214.756364 \nL 214.085729 214.756364 \nL 214.150611 213.984205 \nL 214.280376 214.756364 \nL 214.410141 214.756364 \nL 214.539906 211.667727 \nL 214.604788 214.756364 \nL 214.669671 209.35125 \nL 214.734553 210.509489 \nL 214.864318 214.756364 \nL 214.929201 212.439886 \nL 214.994083 213.984205 \nL 215.123848 214.756364 \nL 215.188731 213.212045 \nL 215.383378 214.756364 \nL 215.44826 213.598125 \nL 215.513143 214.370284 \nL 215.578025 214.370284 \nL 215.70779 214.756364 \nL 215.772673 214.756364 \nL 215.902438 213.984205 \nL 216.032203 214.756364 \nL 216.097085 207.034773 \nL 216.161968 214.370284 \nL 216.22685 213.984205 \nL 216.356615 213.984205 \nL 216.48638 213.598125 \nL 216.616145 214.756364 \nL 216.681027 213.212045 \nL 216.810792 214.756364 \nL 216.875675 213.598125 \nL 216.940557 214.756364 \nL 217.00544 214.370284 \nL 217.070322 214.370284 \nL 217.135205 214.756364 \nL 217.200087 214.370284 \nL 217.394734 212.439886 \nL 217.524499 213.984205 \nL 217.589382 213.984205 \nL 217.719147 214.370284 \nL 217.784029 213.598125 \nL 217.913794 214.756364 \nL 217.978677 213.984205 \nL 218.043559 207.420852 \nL 218.173324 214.756364 \nL 218.238206 214.756364 \nL 218.303089 213.598125 \nL 218.367971 213.984205 \nL 218.497736 214.756364 \nL 218.562619 214.370284 \nL 218.692384 214.756364 \nL 219.016796 214.756364 \nL 219.081678 214.370284 \nL 219.146561 209.73733 \nL 219.211443 212.053807 \nL 219.276326 214.756364 \nL 219.341208 213.984205 \nL 219.406091 210.895568 \nL 219.470973 214.756364 \nL 219.535856 205.104375 \nL 219.600738 214.370284 \nL 219.665621 212.825966 \nL 219.795386 214.756364 \nL 219.860268 214.756364 \nL 219.92515 212.825966 \nL 220.054915 214.756364 \nL 220.119798 211.667727 \nL 220.249563 214.756364 \nL 220.314445 213.598125 \nL 220.379328 213.984205 \nL 220.44421 213.598125 \nL 220.573975 214.756364 \nL 220.638858 211.667727 \nL 220.768622 214.756364 \nL 221.028152 214.756364 \nL 221.287682 213.598125 \nL 221.417447 214.756364 \nL 221.48233 213.984205 \nL 221.547212 214.756364 \nL 221.612094 212.439886 \nL 221.741859 214.756364 \nL 221.871624 213.598125 \nL 221.936507 211.667727 \nL 222.001389 214.756364 \nL 222.066272 214.370284 \nL 222.131154 214.370284 \nL 222.196037 210.895568 \nL 222.260919 214.370284 \nL 222.325802 213.984205 \nL 222.390684 214.370284 \nL 222.455567 213.984205 \nL 222.520449 208.193011 \nL 222.650214 213.984205 \nL 222.779979 214.756364 \nL 222.844861 214.756364 \nL 222.974626 214.370284 \nL 223.039509 212.053807 \nL 223.104391 214.370284 \nL 223.169274 213.984205 \nL 223.234156 213.212045 \nL 223.363921 214.370284 \nL 223.428803 210.509489 \nL 223.558568 214.756364 \nL 223.753216 213.598125 \nL 223.818098 214.756364 \nL 223.882981 212.053807 \nL 223.947863 214.756364 \nL 224.012746 213.598125 \nL 224.142511 214.756364 \nL 224.596688 214.756364 \nL 224.66157 212.053807 \nL 224.726453 214.756364 \nL 224.791335 213.598125 \nL 224.856218 209.73733 \nL 224.985983 214.756364 \nL 225.115748 214.756364 \nL 225.18063 214.370284 \nL 225.310395 208.193011 \nL 225.44016 214.756364 \nL 225.505042 214.756364 \nL 225.569925 214.370284 \nL 225.634807 211.667727 \nL 225.69969 212.825966 \nL 225.764572 213.984205 \nL 225.894337 212.825966 \nL 226.024102 214.756364 \nL 226.088984 211.281648 \nL 226.153867 213.212045 \nL 226.218749 214.370284 \nL 226.283632 213.212045 \nL 226.478279 214.756364 \nL 226.543162 212.825966 \nL 226.608044 213.212045 \nL 226.672927 214.370284 \nL 226.802692 209.35125 \nL 226.932456 214.756364 \nL 226.997339 212.439886 \nL 227.127104 214.756364 \nL 227.256869 213.984205 \nL 227.321751 213.984205 \nL 227.386634 214.370284 \nL 227.581281 211.281648 \nL 227.646164 214.756364 \nL 227.711046 214.370284 \nL 227.775929 213.598125 \nL 227.840811 210.895568 \nL 227.970576 214.756364 \nL 228.035458 214.756364 \nL 228.100341 213.984205 \nL 228.230106 214.756364 \nL 228.294988 214.756364 \nL 228.359871 204.332216 \nL 228.424753 208.193011 \nL 228.554518 214.370284 \nL 228.684283 211.667727 \nL 228.814048 214.756364 \nL 228.87893 213.598125 \nL 228.943813 214.370284 \nL 229.008695 214.370284 \nL 229.073578 214.756364 \nL 229.13846 193.135909 \nL 229.203343 214.370284 \nL 229.268225 213.984205 \nL 229.39799 214.756364 \nL 229.462873 213.598125 \nL 229.527755 214.756364 \nL 229.592637 212.053807 \nL 229.65752 212.825966 \nL 229.852167 214.756364 \nL 229.91705 214.756364 \nL 229.981932 211.667727 \nL 230.111697 214.756364 \nL 230.241462 214.370284 \nL 230.306345 214.756364 \nL 230.371227 212.439886 \nL 230.500992 214.756364 \nL 230.630757 213.984205 \nL 230.695639 213.984205 \nL 230.760522 214.756364 \nL 230.825404 212.825966 \nL 230.890287 214.756364 \nL 230.955169 211.667727 \nL 231.020052 214.756364 \nL 231.084934 214.370284 \nL 231.149817 214.756364 \nL 231.214699 213.984205 \nL 231.344464 214.756364 \nL 231.409346 214.756364 \nL 231.474229 206.262614 \nL 231.539111 179.623125 \nL 231.668876 210.123409 \nL 231.733759 210.509489 \nL 231.798641 214.756364 \nL 231.928406 199.313182 \nL 232.058171 208.193011 \nL 232.123054 203.560057 \nL 232.252819 214.756364 \nL 232.317701 209.35125 \nL 232.382583 212.825966 \nL 232.447466 214.756364 \nL 232.512348 214.370284 \nL 232.577231 214.756364 \nL 232.642113 213.598125 \nL 232.706996 214.756364 \nL 232.771878 210.123409 \nL 232.836761 211.281648 \nL 232.901643 214.756364 \nL 233.031408 203.560057 \nL 233.161173 214.756364 \nL 233.226055 213.598125 \nL 233.290938 214.756364 \nL 233.35582 213.212045 \nL 233.420703 208.96517 \nL 233.485585 213.984205 \nL 233.550468 207.806932 \nL 233.61535 210.895568 \nL 233.680233 207.420852 \nL 233.809998 214.756364 \nL 233.87488 214.756364 \nL 233.939763 212.439886 \nL 234.004645 213.598125 \nL 234.13441 213.984205 \nL 234.199292 213.984205 \nL 234.264175 214.756364 \nL 234.329057 211.281648 \nL 234.39394 214.370284 \nL 234.458822 213.984205 \nL 234.523705 213.984205 \nL 234.588587 214.756364 \nL 234.65347 214.370284 \nL 234.718352 212.439886 \nL 234.848117 214.756364 \nL 234.913 214.370284 \nL 235.042764 214.756364 \nL 235.302294 214.756364 \nL 235.367177 213.598125 \nL 235.432059 213.984205 \nL 235.496942 214.756364 \nL 235.561824 206.648693 \nL 235.626707 208.193011 \nL 235.691589 214.756364 \nL 235.821354 192.74983 \nL 235.886236 214.756364 \nL 235.951119 211.281648 \nL 236.016001 207.806932 \nL 236.080884 214.756364 \nL 236.145766 213.212045 \nL 236.210649 208.193011 \nL 236.340414 214.756364 \nL 236.535061 213.984205 \nL 236.599944 213.984205 \nL 236.729708 214.756364 \nL 236.794591 214.756364 \nL 236.859473 214.370284 \nL 236.989238 212.439886 \nL 237.119003 214.756364 \nL 237.248768 214.756364 \nL 237.313651 211.667727 \nL 237.443416 214.756364 \nL 237.508298 212.825966 \nL 237.638063 214.756364 \nL 237.767828 213.598125 \nL 237.897593 214.756364 \nL 238.027358 214.756364 \nL 238.09224 211.667727 \nL 238.157123 214.756364 \nL 238.222005 214.370284 \nL 238.35177 211.281648 \nL 238.416653 212.053807 \nL 238.546417 214.756364 \nL 238.676182 212.825966 \nL 238.741065 213.984205 \nL 238.805947 212.825966 \nL 238.87083 213.212045 \nL 238.935712 214.370284 \nL 239.000595 213.598125 \nL 239.065477 213.984205 \nL 239.260125 212.825966 \nL 239.325007 213.212045 \nL 239.389889 214.756364 \nL 239.454772 214.370284 \nL 239.584537 211.667727 \nL 239.779184 214.756364 \nL 239.844067 213.598125 \nL 239.973832 214.756364 \nL 240.038714 213.598125 \nL 240.168479 214.756364 \nL 240.298244 213.984205 \nL 240.363126 214.756364 \nL 240.428009 213.212045 \nL 240.557774 214.756364 \nL 240.622656 213.598125 \nL 240.687539 214.370284 \nL 240.817304 214.756364 \nL 240.882186 213.212045 \nL 240.947069 214.756364 \nL 241.076834 205.490455 \nL 241.206598 214.756364 \nL 241.271481 214.370284 \nL 241.336363 211.667727 \nL 241.531011 214.370284 \nL 241.725658 211.667727 \nL 241.855423 214.370284 \nL 241.920306 214.370284 \nL 241.985188 213.984205 \nL 242.114953 214.370284 \nL 242.179835 213.598125 \nL 242.244718 214.370284 \nL 242.3096 182.325682 \nL 242.374483 195.066307 \nL 242.504248 214.756364 \nL 242.56913 213.598125 \nL 242.634013 214.370284 \nL 242.698895 213.984205 \nL 242.763778 214.756364 \nL 242.82866 213.984205 \nL 242.893543 210.895568 \nL 242.958425 214.370284 \nL 243.023307 211.667727 \nL 243.153072 214.756364 \nL 243.282837 211.667727 \nL 243.412602 214.756364 \nL 243.477485 214.370284 \nL 243.542367 214.756364 \nL 243.60725 213.984205 \nL 243.672132 214.370284 \nL 243.737015 213.984205 \nL 243.801897 214.756364 \nL 243.931662 209.35125 \nL 243.996544 210.123409 \nL 244.126309 214.756364 \nL 244.256074 211.667727 \nL 244.320957 214.756364 \nL 244.385839 214.370284 \nL 244.515604 214.756364 \nL 244.710251 214.756364 \nL 244.775134 212.825966 \nL 244.840016 214.756364 \nL 244.904899 214.370284 \nL 244.969781 213.984205 \nL 245.034664 214.756364 \nL 245.099546 214.370284 \nL 245.164429 214.756364 \nL 245.229311 213.598125 \nL 245.294194 213.984205 \nL 245.359076 214.756364 \nL 245.423959 213.598125 \nL 245.488841 214.756364 \nL 245.553724 213.212045 \nL 245.618606 214.756364 \nL 245.683488 212.053807 \nL 245.813253 214.756364 \nL 245.878136 214.756364 \nL 245.943018 213.984205 \nL 246.072783 214.756364 \nL 246.267431 214.756364 \nL 246.332313 212.053807 \nL 246.397196 214.370284 \nL 246.462078 196.996705 \nL 246.591843 214.756364 \nL 246.656725 209.73733 \nL 246.851373 214.756364 \nL 247.04602 214.756364 \nL 247.175785 213.212045 \nL 247.30555 214.756364 \nL 247.370433 214.756364 \nL 247.435315 213.984205 \nL 247.56508 214.756364 \nL 247.694845 214.756364 \nL 247.759727 214.370284 \nL 247.82461 212.825966 \nL 247.954375 214.756364 \nL 248.019257 212.053807 \nL 248.149022 214.756364 \nL 248.278787 213.984205 \nL 248.343669 214.756364 \nL 248.473434 213.598125 \nL 248.538317 214.370284 \nL 248.603199 213.598125 \nL 248.732964 214.756364 \nL 248.862729 214.370284 \nL 248.927612 212.053807 \nL 248.992494 213.212045 \nL 249.122259 214.756364 \nL 249.316906 213.598125 \nL 249.381789 209.73733 \nL 249.446671 212.439886 \nL 249.511554 214.370284 \nL 249.576436 213.598125 \nL 249.771084 214.756364 \nL 249.900849 214.756364 \nL 249.965731 213.598125 \nL 250.030614 214.756364 \nL 250.095496 213.984205 \nL 250.225261 214.756364 \nL 250.290143 211.667727 \nL 250.419908 214.756364 \nL 250.614556 212.439886 \nL 250.744321 214.756364 \nL 250.809203 212.053807 \nL 250.874086 214.756364 \nL 250.938968 214.370284 \nL 251.068733 214.756364 \nL 251.133615 213.212045 \nL 251.328263 214.756364 \nL 251.717558 214.756364 \nL 251.78244 213.598125 \nL 251.912205 214.756364 \nL 251.977087 213.598125 \nL 252.04197 214.756364 \nL 252.106852 213.984205 \nL 252.171735 213.212045 \nL 252.236617 214.756364 \nL 252.3015 214.370284 \nL 252.431265 214.756364 \nL 252.496147 214.756364 \nL 252.625912 213.598125 \nL 252.690795 214.756364 \nL 252.820559 213.212045 \nL 252.950324 213.984205 \nL 253.015207 213.598125 \nL 253.080089 214.756364 \nL 253.144972 213.212045 \nL 253.209854 214.756364 \nL 253.274737 212.439886 \nL 253.404502 214.756364 \nL 253.534267 212.825966 \nL 253.664031 214.370284 \nL 253.793796 213.598125 \nL 253.923561 214.756364 \nL 254.053326 214.370284 \nL 254.118209 214.370284 \nL 254.247974 214.756364 \nL 254.312856 213.984205 \nL 254.442621 214.756364 \nL 254.507503 210.895568 \nL 254.572386 214.756364 \nL 254.637268 213.212045 \nL 254.702151 210.509489 \nL 254.767033 214.756364 \nL 254.831916 213.598125 \nL 254.896798 214.370284 \nL 254.961681 213.984205 \nL 255.091446 214.756364 \nL 255.156328 214.370284 \nL 255.221211 214.756364 \nL 255.286093 214.370284 \nL 255.350976 212.439886 \nL 255.48074 214.756364 \nL 255.675388 214.756364 \nL 255.74027 212.825966 \nL 255.805153 205.490455 \nL 255.870035 214.756364 \nL 255.934918 208.193011 \nL 256.064683 214.756364 \nL 256.194448 214.756364 \nL 256.25933 213.598125 \nL 256.324212 214.370284 \nL 256.453977 213.984205 \nL 256.583742 214.756364 \nL 256.648625 214.370284 \nL 256.713507 209.73733 \nL 256.843272 214.756364 \nL 256.908155 213.598125 \nL 256.973037 214.370284 \nL 257.03792 214.756364 \nL 257.102802 214.370284 \nL 257.232567 214.756364 \nL 257.297449 214.756364 \nL 257.427214 214.370284 \nL 257.556979 214.756364 \nL 257.621862 214.370284 \nL 257.751627 214.756364 \nL 257.881392 213.598125 \nL 258.076039 214.756364 \nL 258.140921 214.756364 \nL 258.205804 213.984205 \nL 258.335569 214.756364 \nL 258.400451 214.756364 \nL 258.595099 213.984205 \nL 258.659981 213.984205 \nL 258.724864 214.370284 \nL 258.789746 211.281648 \nL 258.919511 214.756364 \nL 258.984393 214.370284 \nL 259.114158 214.756364 \nL 259.179041 214.370284 \nL 259.243923 212.825966 \nL 259.373688 214.756364 \nL 259.438571 214.756364 \nL 259.503453 211.667727 \nL 259.633218 214.756364 \nL 259.698101 214.756364 \nL 259.762983 212.053807 \nL 259.827865 214.756364 \nL 259.892748 213.212045 \nL 259.95763 212.825966 \nL 260.087395 214.756364 \nL 260.152278 214.756364 \nL 260.21716 214.370284 \nL 260.282043 212.439886 \nL 260.411808 214.756364 \nL 260.47669 214.756364 \nL 260.541573 211.281648 \nL 260.606455 213.212045 \nL 260.73622 214.756364 \nL 260.865985 213.598125 \nL 260.930867 213.598125 \nL 261.060632 214.756364 \nL 261.190397 214.756364 \nL 261.320162 213.212045 \nL 261.385045 214.756364 \nL 261.449927 214.370284 \nL 261.51481 213.598125 \nL 261.579692 214.756364 \nL 261.644574 214.370284 \nL 261.709457 214.756364 \nL 261.774339 212.439886 \nL 261.904104 214.756364 \nL 262.098752 214.756364 \nL 262.228517 214.370284 \nL 262.358282 212.825966 \nL 262.488047 214.756364 \nL 262.552929 211.281648 \nL 262.682694 214.756364 \nL 262.747576 212.825966 \nL 262.877341 214.370284 \nL 263.007106 214.756364 \nL 263.071989 214.756364 \nL 263.136871 213.212045 \nL 263.201754 214.756364 \nL 263.266636 212.439886 \nL 263.396401 214.756364 \nL 263.461283 214.370284 \nL 263.591048 214.756364 \nL 263.655931 213.984205 \nL 263.720813 214.370284 \nL 263.785696 214.756364 \nL 263.850578 214.370284 \nL 263.915461 214.756364 \nL 264.045226 213.984205 \nL 264.174991 214.756364 \nL 264.304755 213.984205 \nL 264.369638 214.370284 \nL 264.43452 213.984205 \nL 264.564285 214.756364 \nL 264.629168 214.370284 \nL 264.69405 214.756364 \nL 264.888698 202.401818 \nL 265.018463 213.212045 \nL 265.083345 211.281648 \nL 265.148228 214.370284 \nL 265.21311 212.439886 \nL 265.277992 212.439886 \nL 265.342875 211.667727 \nL 265.407757 214.370284 \nL 265.47264 208.96517 \nL 265.537522 214.756364 \nL 265.602405 209.35125 \nL 265.667287 212.825966 \nL 265.73217 209.35125 \nL 265.861935 214.756364 \nL 265.926817 214.370284 \nL 265.9917 210.123409 \nL 266.056582 196.224545 \nL 266.121464 214.756364 \nL 266.186347 214.370284 \nL 266.251229 213.598125 \nL 266.316112 214.756364 \nL 266.380994 213.598125 \nL 266.510759 214.756364 \nL 266.640524 214.756364 \nL 266.770289 210.123409 \nL 266.900054 214.756364 \nL 266.964936 214.370284 \nL 267.029819 214.756364 \nL 267.224466 213.598125 \nL 267.289349 214.370284 \nL 267.354231 213.984205 \nL 267.419114 212.439886 \nL 267.483996 214.756364 \nL 267.548879 214.370284 \nL 267.613761 211.667727 \nL 267.743526 214.370284 \nL 267.808409 213.598125 \nL 267.938173 214.756364 \nL 268.003056 213.598125 \nL 268.067938 194.680227 \nL 268.197703 214.756364 \nL 268.262586 213.598125 \nL 268.327468 214.370284 \nL 268.392351 214.756364 \nL 268.457233 213.212045 \nL 268.586998 214.756364 \nL 268.651881 212.825966 \nL 268.781645 214.756364 \nL 268.846528 213.984205 \nL 268.976293 214.756364 \nL 269.106058 214.756364 \nL 269.17094 211.667727 \nL 269.300705 214.756364 \nL 269.43047 214.756364 \nL 269.560235 214.370284 \nL 269.625117 212.053807 \nL 269.754882 214.756364 \nL 269.819765 214.756364 \nL 269.884647 209.73733 \nL 269.94953 214.370284 \nL 270.014412 213.984205 \nL 270.144177 214.756364 \nL 270.20906 213.984205 \nL 270.273942 208.96517 \nL 270.338825 212.053807 \nL 270.533472 214.756364 \nL 270.598354 213.984205 \nL 270.663237 213.598125 \nL 270.728119 214.756364 \nL 270.793002 213.984205 \nL 270.922767 214.756364 \nL 270.987649 213.984205 \nL 271.117414 214.756364 \nL 271.182297 214.370284 \nL 271.247179 210.509489 \nL 271.312062 214.756364 \nL 271.376944 214.370284 \nL 271.441826 214.756364 \nL 271.571591 214.370284 \nL 271.636474 214.370284 \nL 271.701356 213.212045 \nL 271.831121 214.756364 \nL 271.896004 213.984205 \nL 271.960886 214.756364 \nL 272.025769 213.984205 \nL 272.090651 214.756364 \nL 272.155534 214.370284 \nL 272.220416 214.370284 \nL 272.285298 213.984205 \nL 272.350181 214.370284 \nL 272.415063 212.439886 \nL 272.479946 214.370284 \nL 272.544828 211.281648 \nL 272.609711 213.984205 \nL 272.674593 212.053807 \nL 272.869241 214.370284 \nL 272.934123 214.370284 \nL 272.999006 214.756364 \nL 273.063888 212.825966 \nL 273.193653 214.756364 \nL 273.323418 213.598125 \nL 273.453183 214.756364 \nL 273.518065 213.984205 \nL 273.582948 214.756364 \nL 273.64783 213.984205 \nL 273.712713 214.370284 \nL 273.777595 214.756364 \nL 273.90736 213.984205 \nL 274.037125 214.756364 \nL 274.102007 213.984205 \nL 274.16689 214.756364 \nL 274.231772 213.212045 \nL 274.296655 214.756364 \nL 274.361537 213.212045 \nL 274.42642 214.756364 \nL 274.491302 213.984205 \nL 274.556185 212.825966 \nL 274.621067 214.370284 \nL 274.68595 213.984205 \nL 274.815715 214.756364 \nL 275.010362 214.756364 \nL 275.140127 213.598125 \nL 275.205009 214.756364 \nL 275.269892 214.370284 \nL 275.334774 214.370284 \nL 275.399657 214.756364 \nL 275.464539 214.370284 \nL 275.529422 214.756364 \nL 275.594304 214.370284 \nL 275.659187 213.212045 \nL 275.788952 214.756364 \nL 275.853834 212.825966 \nL 275.983599 214.756364 \nL 276.178246 213.212045 \nL 276.437776 214.756364 \nL 276.502659 213.598125 \nL 276.567541 214.756364 \nL 276.632424 210.509489 \nL 276.762188 214.756364 \nL 277.021718 214.756364 \nL 277.086601 214.370284 \nL 277.151483 205.876534 \nL 277.281248 213.984205 \nL 277.346131 213.598125 \nL 277.475896 214.756364 \nL 277.540778 214.756364 \nL 277.605661 213.984205 \nL 277.670543 214.756364 \nL 277.800308 213.212045 \nL 277.930073 214.756364 \nL 278.059838 214.756364 \nL 278.189603 214.370284 \nL 278.254485 214.370284 \nL 278.38425 214.756364 \nL 278.64378 214.756364 \nL 278.708662 213.984205 \nL 278.773545 214.370284 \nL 278.838427 213.984205 \nL 278.90331 214.756364 \nL 278.968192 212.053807 \nL 279.097957 214.756364 \nL 279.227722 214.756364 \nL 279.357487 213.984205 \nL 279.422369 214.370284 \nL 279.487252 213.984205 \nL 279.552134 214.756364 \nL 279.617017 214.370284 \nL 279.681899 214.756364 \nL 279.876547 213.598125 \nL 279.941429 214.756364 \nL 280.006312 213.984205 \nL 280.071194 214.756364 \nL 280.136077 214.370284 \nL 280.200959 214.370284 \nL 280.330724 214.756364 \nL 280.395606 214.756364 \nL 280.525371 213.598125 \nL 280.590254 214.756364 \nL 280.655136 210.123409 \nL 280.720019 214.370284 \nL 280.784901 213.984205 \nL 280.914666 214.756364 \nL 281.109314 212.825966 \nL 281.239078 214.756364 \nL 281.303961 212.825966 \nL 281.368843 214.756364 \nL 281.433726 213.598125 \nL 281.498608 213.984205 \nL 281.563491 210.895568 \nL 281.628373 214.756364 \nL 281.693256 214.370284 \nL 281.758138 214.756364 \nL 281.823021 214.370284 \nL 281.887903 214.756364 \nL 281.952786 213.598125 \nL 282.017668 214.756364 \nL 282.08255 211.667727 \nL 282.212315 214.756364 \nL 282.277198 214.756364 \nL 282.406963 212.825966 \nL 282.536728 214.756364 \nL 282.60161 214.370284 \nL 282.731375 214.756364 \nL 282.796258 211.281648 \nL 282.926023 214.756364 \nL 283.055787 213.984205 \nL 283.12067 214.756364 \nL 283.185552 213.212045 \nL 283.250435 214.756364 \nL 283.315317 214.370284 \nL 283.3802 214.370284 \nL 283.445082 208.96517 \nL 283.574847 214.756364 \nL 283.63973 214.370284 \nL 283.704612 214.756364 \nL 283.769495 214.370284 \nL 283.899259 214.756364 \nL 283.964142 214.756364 \nL 284.029024 211.667727 \nL 284.158789 214.756364 \nL 284.548084 214.756364 \nL 284.612967 213.212045 \nL 284.677849 213.598125 \nL 284.807614 214.756364 \nL 284.872496 214.370284 \nL 284.937379 214.370284 \nL 285.067144 214.756364 \nL 285.196909 214.756364 \nL 285.261791 214.370284 \nL 285.391556 214.756364 \nL 285.910616 214.756364 \nL 285.975498 213.598125 \nL 286.105263 214.756364 \nL 286.170146 213.212045 \nL 286.299911 214.756364 \nL 286.364793 214.370284 \nL 286.494558 214.756364 \nL 286.624323 213.984205 \nL 286.81897 214.756364 \nL 286.948735 214.756364 \nL 287.013618 213.984205 \nL 287.143383 214.756364 \nL 287.208265 214.370284 \nL 287.273148 210.123409 \nL 287.402912 214.756364 \nL 287.467795 213.984205 \nL 287.59756 214.756364 \nL 287.727325 214.756364 \nL 287.792207 213.984205 \nL 287.85709 214.756364 \nL 287.921972 214.370284 \nL 287.986855 214.370284 \nL 288.051737 214.756364 \nL 288.11662 214.370284 \nL 288.246385 214.756364 \nL 288.311267 214.370284 \nL 288.376149 212.439886 \nL 288.441032 213.212045 \nL 288.570797 214.756364 \nL 288.635679 214.756364 \nL 288.700562 214.370284 \nL 288.830327 214.756364 \nL 288.895209 214.756364 \nL 288.960092 212.053807 \nL 289.089857 214.756364 \nL 289.349386 214.756364 \nL 289.414269 213.598125 \nL 289.479151 213.984205 \nL 289.608916 214.756364 \nL 289.673799 214.370284 \nL 289.738681 214.756364 \nL 289.803564 212.825966 \nL 289.868446 213.212045 \nL 290.063093 214.756364 \nL 290.387506 214.756364 \nL 290.517271 213.984205 \nL 290.582153 214.756364 \nL 290.647036 214.370284 \nL 290.776801 214.756364 \nL 290.906566 214.756364 \nL 291.03633 213.984205 \nL 291.101213 213.984205 \nL 291.230978 214.756364 \nL 291.360743 214.756364 \nL 291.425625 214.370284 \nL 291.490508 214.756364 \nL 291.55539 214.370284 \nL 291.685155 214.756364 \nL 291.750038 214.756364 \nL 291.81492 213.598125 \nL 291.944685 214.756364 \nL 292.204215 214.756364 \nL 292.33398 214.370284 \nL 292.398862 214.370284 \nL 292.463745 214.756364 \nL 292.528627 213.598125 \nL 292.658392 214.756364 \nL 292.723275 214.370284 \nL 292.788157 214.756364 \nL 292.853039 213.212045 \nL 292.917922 214.756364 \nL 292.982804 213.984205 \nL 293.047687 213.984205 \nL 293.177452 214.370284 \nL 293.307217 214.370284 \nL 293.372099 213.212045 \nL 293.436982 214.370284 \nL 293.501864 209.35125 \nL 293.631629 214.756364 \nL 293.696511 213.598125 \nL 293.761394 214.370284 \nL 293.826276 214.756364 \nL 293.956041 213.984205 \nL 294.085806 214.756364 \nL 294.734631 214.756364 \nL 294.799513 213.984205 \nL 294.864396 214.756364 \nL 294.929278 213.984205 \nL 295.059043 214.756364 \nL 295.123926 214.370284 \nL 295.253691 214.756364 \nL 295.902515 214.756364 \nL 295.967398 213.598125 \nL 296.03228 214.756364 \nL 296.097163 214.370284 \nL 296.162045 213.984205 \nL 296.226928 214.756364 \nL 296.29181 212.825966 \nL 296.356692 214.756364 \nL 296.421575 213.598125 \nL 296.616222 213.598125 \nL 296.681105 213.212045 \nL 296.745987 214.370284 \nL 296.81087 213.598125 \nL 296.875752 213.984205 \nL 296.940635 211.667727 \nL 297.0704 214.756364 \nL 297.135282 213.984205 \nL 297.200164 214.756364 \nL 297.265047 210.895568 \nL 297.329929 214.756364 \nL 297.394812 214.370284 \nL 297.524577 214.756364 \nL 297.589459 214.756364 \nL 297.654342 214.370284 \nL 297.719224 214.756364 \nL 297.848989 213.598125 \nL 297.978754 214.756364 \nL 298.043637 213.598125 \nL 298.108519 214.756364 \nL 298.173401 212.053807 \nL 298.303166 214.756364 \nL 298.368049 214.756364 \nL 298.432931 213.212045 \nL 298.562696 214.756364 \nL 298.627579 214.370284 \nL 298.692461 213.212045 \nL 298.757344 214.370284 \nL 298.822226 213.984205 \nL 298.887109 213.984205 \nL 298.951991 212.053807 \nL 299.146638 214.370284 \nL 299.276403 214.756364 \nL 299.341286 213.984205 \nL 299.406168 214.756364 \nL 299.471051 214.370284 \nL 299.600816 214.756364 \nL 299.730581 213.984205 \nL 299.795463 214.756364 \nL 299.860345 213.984205 \nL 299.925228 214.756364 \nL 299.99011 214.370284 \nL 300.119875 214.756364 \nL 300.184758 214.756364 \nL 300.314523 213.984205 \nL 300.379405 213.984205 \nL 300.50917 214.756364 \nL 300.574053 214.370284 \nL 300.703818 214.756364 \nL 301.157995 214.756364 \nL 301.222877 213.212045 \nL 301.352642 214.370284 \nL 301.417525 214.370284 \nL 301.482407 214.756364 \nL 301.54729 211.667727 \nL 301.612172 213.598125 \nL 301.806819 214.756364 \nL 301.871702 214.756364 \nL 301.936584 208.96517 \nL 302.066349 214.756364 \nL 302.196114 214.756364 \nL 302.260997 214.370284 \nL 302.325879 214.756364 \nL 302.455644 213.984205 \nL 302.585409 214.756364 \nL 302.780056 214.756364 \nL 302.844939 213.598125 \nL 302.974704 214.756364 \nL 303.623528 214.756364 \nL 303.753293 213.984205 \nL 303.818176 214.756364 \nL 303.883058 214.370284 \nL 304.012823 214.756364 \nL 304.077706 214.756364 \nL 304.142588 213.598125 \nL 304.207471 214.756364 \nL 304.272353 214.370284 \nL 304.402118 214.756364 \nL 304.467 214.756364 \nL 304.531883 212.053807 \nL 304.661648 214.756364 \nL 305.050943 214.756364 \nL 305.115825 214.370284 \nL 305.180707 214.756364 \nL 305.24559 212.825966 \nL 305.375355 214.756364 \nL 305.634885 214.756364 \nL 305.699767 212.053807 \nL 305.829532 214.756364 \nL 305.894415 214.756364 \nL 306.02418 214.370284 \nL 306.089062 214.370284 \nL 306.218827 214.756364 \nL 306.348592 214.756364 \nL 306.413474 214.370284 \nL 306.543239 214.756364 \nL 306.673004 214.756364 \nL 306.737887 212.825966 \nL 306.867652 214.756364 \nL 306.932534 214.370284 \nL 306.997416 214.756364 \nL 307.062299 214.370284 \nL 307.127181 214.756364 \nL 307.192064 211.281648 \nL 307.256946 214.756364 \nL 307.321829 214.370284 \nL 307.386711 213.984205 \nL 307.451594 214.756364 \nL 307.516476 214.370284 \nL 307.581359 213.984205 \nL 307.711124 214.756364 \nL 308.165301 214.756364 \nL 308.230183 214.370284 \nL 308.295066 214.756364 \nL 308.359948 214.370284 \nL 308.424831 214.756364 \nL 308.554596 214.370284 \nL 308.619478 214.370284 \nL 308.749243 214.756364 \nL 309.138538 214.756364 \nL 309.268303 214.370284 \nL 309.333185 212.825966 \nL 309.46295 214.756364 \nL 309.527833 214.756364 \nL 309.592715 213.984205 \nL 309.657597 214.370284 \nL 309.72248 214.756364 \nL 309.787362 212.825966 \nL 309.917127 214.370284 \nL 310.24154 214.370284 \nL 310.306422 213.984205 \nL 310.436187 214.756364 \nL 310.825482 214.756364 \nL 310.890364 208.96517 \nL 310.955247 210.895568 \nL 311.085012 214.756364 \nL 311.214777 214.756364 \nL 311.279659 213.984205 \nL 311.344542 214.756364 \nL 311.409424 213.984205 \nL 311.539189 214.756364 \nL 311.604071 214.756364 \nL 311.668954 213.984205 \nL 311.798719 214.756364 \nL 311.863601 214.756364 \nL 311.928484 214.370284 \nL 311.993366 214.756364 \nL 312.123131 214.370284 \nL 312.252896 214.756364 \nL 312.317778 210.509489 \nL 312.382661 214.756364 \nL 312.447543 212.439886 \nL 312.512426 214.756364 \nL 312.577308 213.598125 \nL 312.642191 214.756364 \nL 312.771956 212.825966 \nL 312.836838 214.756364 \nL 312.901721 208.96517 \nL 312.966603 214.756364 \nL 313.031486 213.984205 \nL 313.096368 214.370284 \nL 313.161251 213.598125 \nL 313.291015 214.756364 \nL 313.355898 213.212045 \nL 313.42078 214.756364 \nL 313.485663 214.370284 \nL 313.550545 214.370284 \nL 313.68031 213.984205 \nL 313.810075 214.756364 \nL 314.004723 214.756364 \nL 314.069605 214.370284 \nL 314.19937 214.756364 \nL 314.329135 214.756364 \nL 314.394017 214.370284 \nL 314.523782 214.756364 \nL 314.588665 214.756364 \nL 314.71843 214.370284 \nL 314.848195 214.756364 \nL 314.977959 213.984205 \nL 315.107724 214.756364 \nL 315.367254 214.756364 \nL 315.432137 214.370284 \nL 315.561902 214.756364 \nL 315.626784 214.756364 \nL 315.821432 213.984205 \nL 315.886314 214.756364 \nL 315.951196 214.370284 \nL 316.016079 214.756364 \nL 316.080961 213.984205 \nL 316.145844 214.756364 \nL 316.210726 212.053807 \nL 316.340491 214.756364 \nL 316.470256 214.756364 \nL 316.535139 214.370284 \nL 316.600021 212.825966 \nL 316.729786 214.756364 \nL 316.794668 214.370284 \nL 316.924433 214.756364 \nL 317.119081 213.984205 \nL 317.183963 213.984205 \nL 317.248846 212.053807 \nL 317.378611 214.756364 \nL 317.443493 214.370284 \nL 317.508376 214.756364 \nL 317.573258 212.439886 \nL 317.703023 214.756364 \nL 317.767905 214.370284 \nL 317.89767 214.756364 \nL 318.092318 214.756364 \nL 318.1572 214.370284 \nL 318.222083 214.756364 \nL 318.286965 214.370284 \nL 318.41673 214.756364 \nL 318.611377 214.756364 \nL 318.67626 214.370284 \nL 318.741142 214.756364 \nL 318.806025 213.984205 \nL 318.93579 214.756364 \nL 319.000672 214.756364 \nL 319.065555 214.370284 \nL 319.19532 214.756364 \nL 319.260202 214.756364 \nL 319.325085 211.667727 \nL 319.454849 214.756364 \nL 319.584614 214.756364 \nL 319.649497 213.598125 \nL 319.779262 214.756364 \nL 319.844144 214.370284 \nL 319.909027 214.756364 \nL 319.973909 214.370284 \nL 320.103674 214.756364 \nL 320.168557 213.984205 \nL 320.298321 214.756364 \nL 320.363204 214.370284 \nL 320.428086 214.756364 \nL 320.492969 213.984205 \nL 320.622734 214.756364 \nL 320.687616 213.984205 \nL 320.817381 214.756364 \nL 320.882264 213.984205 \nL 321.012029 214.756364 \nL 321.141794 214.756364 \nL 321.206676 214.370284 \nL 321.271558 214.756364 \nL 321.336441 211.667727 \nL 321.466206 214.756364 \nL 321.985266 214.756364 \nL 322.050148 212.439886 \nL 322.179913 214.756364 \nL 322.244795 214.756364 \nL 322.309678 213.212045 \nL 322.439443 214.756364 \nL 322.828738 214.756364 \nL 322.89362 214.370284 \nL 323.023385 214.756364 \nL 323.15315 214.756364 \nL 323.282915 212.053807 \nL 323.41268 214.756364 \nL 323.607327 214.756364 \nL 323.67221 214.370284 \nL 323.801975 214.756364 \nL 323.866857 211.667727 \nL 323.996622 214.756364 \nL 324.061504 212.825966 \nL 324.126387 214.756364 \nL 324.191269 213.984205 \nL 324.256152 213.984205 \nL 324.385917 214.756364 \nL 324.580564 214.756364 \nL 324.645447 213.984205 \nL 324.775211 214.756364 \nL 324.840094 213.984205 \nL 324.969859 214.756364 \nL 325.164506 213.212045 \nL 325.229389 214.756364 \nL 325.294271 214.370284 \nL 325.359154 212.825966 \nL 325.488919 214.756364 \nL 325.683566 214.756364 \nL 325.748448 214.370284 \nL 325.878213 214.756364 \nL 325.943096 214.756364 \nL 326.007978 214.370284 \nL 326.072861 214.756364 \nL 326.202626 213.984205 \nL 326.332391 214.756364 \nL 326.397273 214.756364 \nL 326.462156 213.598125 \nL 326.527038 214.756364 \nL 326.59192 214.370284 \nL 326.656803 213.598125 \nL 326.786568 214.756364 \nL 326.85145 214.756364 \nL 326.916333 212.825966 \nL 326.981215 214.756364 \nL 327.046098 214.370284 \nL 327.11098 210.895568 \nL 327.175863 214.756364 \nL 327.240745 213.598125 \nL 327.37051 214.756364 \nL 327.435392 214.756364 \nL 327.500275 214.370284 \nL 327.565157 214.756364 \nL 327.63004 212.439886 \nL 327.694922 214.756364 \nL 327.759805 212.053807 \nL 327.954452 214.756364 \nL 328.019335 214.756364 \nL 328.084217 214.370284 \nL 328.213982 214.756364 \nL 328.538394 214.756364 \nL 328.603277 211.667727 \nL 328.733042 214.756364 \nL 328.862807 214.756364 \nL 328.927689 213.212045 \nL 329.057454 214.756364 \nL 329.122337 214.756364 \nL 329.187219 213.984205 \nL 329.252101 214.756364 \nL 329.316984 214.370284 \nL 329.446749 214.756364 \nL 329.836044 214.756364 \nL 329.900926 214.370284 \nL 330.030691 214.756364 \nL 330.225338 214.756364 \nL 330.290221 214.370284 \nL 330.419986 214.756364 \nL 331.133693 214.756364 \nL 331.263458 214.370284 \nL 331.393223 214.756364 \nL 331.458105 213.984205 \nL 331.58787 214.756364 \nL 331.652753 214.370284 \nL 331.782518 214.756364 \nL 332.236695 214.756364 \nL 332.36646 213.984205 \nL 332.431342 214.756364 \nL 332.496225 214.370284 \nL 332.62599 214.756364 \nL 332.755754 214.756364 \nL 332.820637 214.370284 \nL 332.950402 214.756364 \nL 333.145049 214.756364 \nL 333.209932 213.598125 \nL 333.274814 214.370284 \nL 333.339697 214.370284 \nL 333.404579 214.756364 \nL 333.469462 214.370284 \nL 333.599227 214.756364 \nL 333.664109 214.756364 \nL 333.728991 210.509489 \nL 333.858756 214.756364 \nL 333.988521 214.756364 \nL 334.118286 213.598125 \nL 334.183169 213.984205 \nL 334.312934 214.756364 \nL 334.442699 214.756364 \nL 334.507581 212.053807 \nL 334.572463 213.984205 \nL 334.637346 211.667727 \nL 334.702228 212.825966 \nL 334.831993 214.756364 \nL 334.896876 213.984205 \nL 334.961758 214.370284 \nL 335.091523 214.756364 \nL 335.156406 214.370284 \nL 335.286171 214.756364 \nL 335.351053 214.756364 \nL 335.415935 214.370284 \nL 335.5457 214.756364 \nL 335.610583 214.370284 \nL 335.740348 214.756364 \nL 335.870113 214.756364 \nL 335.934995 212.825966 \nL 336.06476 214.756364 \nL 336.194525 214.756364 \nL 336.389172 213.984205 \nL 336.454055 214.756364 \nL 336.518937 213.984205 \nL 336.648702 214.756364 \nL 336.84335 214.756364 \nL 336.908232 212.825966 \nL 336.973115 213.598125 \nL 337.10288 214.756364 \nL 337.167762 214.370284 \nL 337.232644 214.756364 \nL 337.297527 214.370284 \nL 337.427292 214.756364 \nL 337.881469 214.756364 \nL 337.946352 214.370284 \nL 338.011234 214.756364 \nL 338.140999 212.825966 \nL 338.205881 214.756364 \nL 338.270764 212.825966 \nL 338.400529 214.756364 \nL 339.114236 214.756364 \nL 339.179118 214.370284 \nL 339.244001 214.756364 \nL 339.308883 213.598125 \nL 339.438648 214.756364 \nL 339.503531 214.756364 \nL 339.568413 214.370284 \nL 339.698178 214.756364 \nL 339.763061 214.756364 \nL 339.827943 213.984205 \nL 339.957708 214.756364 \nL 340.02259 213.212045 \nL 340.152355 214.756364 \nL 340.217238 214.756364 \nL 340.28212 212.825966 \nL 340.411885 214.756364 \nL 340.476768 212.825966 \nL 340.606533 214.756364 \nL 340.671415 214.756364 \nL 340.736298 213.598125 \nL 340.80118 214.370284 \nL 340.930945 214.756364 \nL 341.450005 214.756364 \nL 341.514887 213.212045 \nL 341.644652 214.756364 \nL 342.358359 214.756364 \nL 342.488124 213.598125 \nL 342.617889 214.756364 \nL 342.682771 214.756364 \nL 342.747654 214.370284 \nL 342.877419 214.756364 \nL 343.331596 214.756364 \nL 343.396479 214.370284 \nL 343.526243 214.756364 \nL 343.656008 214.756364 \nL 343.785773 213.598125 \nL 343.915538 214.756364 \nL 344.434598 214.756364 \nL 344.49948 210.123409 \nL 344.564363 210.895568 \nL 344.694128 214.756364 \nL 344.823893 214.756364 \nL 344.953658 213.984205 \nL 345.01854 213.984205 \nL 345.148305 214.756364 \nL 345.472717 214.756364 \nL 345.5376 212.053807 \nL 345.667365 214.756364 \nL 345.732247 213.212045 \nL 345.79713 213.598125 \nL 345.926895 214.756364 \nL 345.991777 212.439886 \nL 346.121542 214.756364 \nL 346.186424 214.756364 \nL 346.251307 208.579091 \nL 346.381072 214.756364 \nL 346.445954 214.756364 \nL 346.510837 214.370284 \nL 346.640602 214.756364 \nL 347.159661 214.756364 \nL 347.289426 213.212045 \nL 347.419191 214.756364 \nL 347.484074 214.756364 \nL 347.613839 214.370284 \nL 347.743604 214.756364 \nL 347.808486 214.370284 \nL 347.938251 214.756364 \nL 348.003133 214.756364 \nL 348.132898 214.370284 \nL 348.262663 214.756364 \nL 348.587076 214.756364 \nL 348.651958 213.984205 \nL 348.781723 214.756364 \nL 348.846605 214.756364 \nL 348.911488 214.370284 \nL 348.97637 214.756364 \nL 349.041253 212.439886 \nL 349.171018 214.756364 \nL 349.2359 212.439886 \nL 349.300783 213.212045 \nL 349.430548 214.756364 \nL 350.27402 214.756364 \nL 350.338902 212.825966 \nL 350.468667 214.756364 \nL 352.285376 214.756364 \nL 352.350258 212.439886 \nL 352.415141 214.756364 \nL 352.480023 213.212045 \nL 352.544906 214.756364 \nL 352.609788 214.370284 \nL 352.739553 214.756364 \nL 352.869318 214.756364 \nL 352.869318 214.756364 \n\" style=\"fill:none;stroke:#1f77b4;stroke-linecap:square;stroke-width:1.5;\"/>\n   </g>\n   <g id=\"patch_3\">\n    <path d=\"M 33.2875 224.64 \nL 33.2875 7.2 \n\" style=\"fill:none;stroke:#000000;stroke-linecap:square;stroke-linejoin:miter;stroke-width:0.8;\"/>\n   </g>\n   <g id=\"patch_4\">\n    <path d=\"M 368.0875 224.64 \nL 368.0875 7.2 \n\" style=\"fill:none;stroke:#000000;stroke-linecap:square;stroke-linejoin:miter;stroke-width:0.8;\"/>\n   </g>\n   <g id=\"patch_5\">\n    <path d=\"M 33.2875 224.64 \nL 368.0875 224.64 \n\" style=\"fill:none;stroke:#000000;stroke-linecap:square;stroke-linejoin:miter;stroke-width:0.8;\"/>\n   </g>\n   <g id=\"patch_6\">\n    <path d=\"M 33.2875 7.2 \nL 368.0875 7.2 \n\" style=\"fill:none;stroke:#000000;stroke-linecap:square;stroke-linejoin:miter;stroke-width:0.8;\"/>\n   </g>\n  </g>\n </g>\n <defs>\n  <clipPath id=\"p0f195bf08c\">\n   <rect height=\"217.44\" width=\"334.8\" x=\"33.2875\" y=\"7.2\"/>\n  </clipPath>\n </defs>\n</svg>\n",
      "image/png": "[encoded data removed]"
     },
     "metadata": {
      "needs_background": "light"
     }
    }
   ],
   "source": [
    "plt.plot(freqList)"
   ]
  },
  {
   "cell_type": "code",
   "execution_count": 76,
   "metadata": {},
   "outputs": [],
   "source": [
    "# %matplotlib ipympl\n",
    "xs_t = tfidf.fit_transform(xs).toarray()"
   ]
  },
  {
   "cell_type": "code",
   "execution_count": 77,
   "metadata": {
    "tags": [
     "outputPrepend"
    ]
   },
   "outputs": [],
   "source": [
    "# print(counter.get_feature_names())\n",
    "ys = list(map(len,xs_t))"
   ]
  },
  {
   "cell_type": "code",
   "execution_count": 78,
   "metadata": {},
   "outputs": [
    {
     "output_type": "execute_result",
     "data": {
      "text/plain": "[<matplotlib.lines.Line2D at 0x14deda210>]"
     },
     "metadata": {},
     "execution_count": 78
    },
    {
     "output_type": "display_data",
     "data": {
      "text/plain": "<Figure size 432x288 with 1 Axes>",
      "image/svg+xml": "<?xml version=\"1.0\" encoding=\"utf-8\" standalone=\"no\"?>\n<!DOCTYPE svg PUBLIC \"-//W3C//DTD SVG 1.1//EN\"\n  \"http://www.w3.org/Graphics/SVG/1.1/DTD/svg11.dtd\">\n<!-- Created with matplotlib (https://matplotlib.org/) -->\n<svg height=\"251.666377pt\" version=\"1.1\" viewBox=\"0 0 381.65 251.666377\" width=\"381.65pt\" xmlns=\"http://www.w3.org/2000/svg\" xmlns:xlink=\"http://www.w3.org/1999/xlink\">\n <defs>\n  <style type=\"text/css\">\n*{stroke-linecap:butt;stroke-linejoin:round;}\n  </style>\n </defs>\n <g id=\"figure_1\">\n  <g id=\"patch_1\">\n   <path d=\"M -0 251.666377 \nL 381.65 251.666377 \nL 381.65 0 \nL -0 0 \nz\n\" style=\"fill:none;\"/>\n  </g>\n  <g id=\"axes_1\">\n   <g id=\"patch_2\">\n    <path d=\"M 39.65 227.788252 \nL 374.45 227.788252 \nL 374.45 10.348252 \nL 39.65 10.348252 \nz\n\" style=\"fill:#ffffff;\"/>\n   </g>\n   <g id=\"matplotlib.axis_1\">\n    <g id=\"xtick_1\">\n     <g id=\"line2d_1\">\n      <defs>\n       <path d=\"M 0 0 \nL 0 3.5 \n\" id=\"m6d55ab00a5\" style=\"stroke:#000000;stroke-width:0.8;\"/>\n      </defs>\n      <g>\n       <use style=\"stroke:#000000;stroke-width:0.8;\" x=\"54.868182\" xlink:href=\"#m6d55ab00a5\" y=\"227.788252\"/>\n      </g>\n     </g>\n     <g id=\"text_1\">\n      <!-- 0 -->\n      <defs>\n       <path d=\"M 31.78125 66.40625 \nQ 24.171875 66.40625 20.328125 58.90625 \nQ 16.5 51.421875 16.5 36.375 \nQ 16.5 21.390625 20.328125 13.890625 \nQ 24.171875 6.390625 31.78125 6.390625 \nQ 39.453125 6.390625 43.28125 13.890625 \nQ 47.125 21.390625 47.125 36.375 \nQ 47.125 51.421875 43.28125 58.90625 \nQ 39.453125 66.40625 31.78125 66.40625 \nz\nM 31.78125 74.21875 \nQ 44.046875 74.21875 50.515625 64.515625 \nQ 56.984375 54.828125 56.984375 36.375 \nQ 56.984375 17.96875 50.515625 8.265625 \nQ 44.046875 -1.421875 31.78125 -1.421875 \nQ 19.53125 -1.421875 13.0625 8.265625 \nQ 6.59375 17.96875 6.59375 36.375 \nQ 6.59375 54.828125 13.0625 64.515625 \nQ 19.53125 74.21875 31.78125 74.21875 \nz\n\" id=\"DejaVuSans-48\"/>\n      </defs>\n      <g transform=\"translate(51.686932 242.386689)scale(0.1 -0.1)\">\n       <use xlink:href=\"#DejaVuSans-48\"/>\n      </g>\n     </g>\n    </g>\n    <g id=\"xtick_2\">\n     <g id=\"line2d_2\">\n      <g>\n       <use style=\"stroke:#000000;stroke-width:0.8;\" x=\"112.295283\" xlink:href=\"#m6d55ab00a5\" y=\"227.788252\"/>\n      </g>\n     </g>\n     <g id=\"text_2\">\n      <!-- 50 -->\n      <defs>\n       <path d=\"M 10.796875 72.90625 \nL 49.515625 72.90625 \nL 49.515625 64.59375 \nL 19.828125 64.59375 \nL 19.828125 46.734375 \nQ 21.96875 47.46875 24.109375 47.828125 \nQ 26.265625 48.1875 28.421875 48.1875 \nQ 40.625 48.1875 47.75 41.5 \nQ 54.890625 34.8125 54.890625 23.390625 \nQ 54.890625 11.625 47.5625 5.09375 \nQ 40.234375 -1.421875 26.90625 -1.421875 \nQ 22.3125 -1.421875 17.546875 -0.640625 \nQ 12.796875 0.140625 7.71875 1.703125 \nL 7.71875 11.625 \nQ 12.109375 9.234375 16.796875 8.0625 \nQ 21.484375 6.890625 26.703125 6.890625 \nQ 35.15625 6.890625 40.078125 11.328125 \nQ 45.015625 15.765625 45.015625 23.390625 \nQ 45.015625 31 40.078125 35.4375 \nQ 35.15625 39.890625 26.703125 39.890625 \nQ 22.75 39.890625 18.8125 39.015625 \nQ 14.890625 38.140625 10.796875 36.28125 \nz\n\" id=\"DejaVuSans-53\"/>\n      </defs>\n      <g transform=\"translate(105.932783 242.386689)scale(0.1 -0.1)\">\n       <use xlink:href=\"#DejaVuSans-53\"/>\n       <use x=\"63.623047\" xlink:href=\"#DejaVuSans-48\"/>\n      </g>\n     </g>\n    </g>\n    <g id=\"xtick_3\">\n     <g id=\"line2d_3\">\n      <g>\n       <use style=\"stroke:#000000;stroke-width:0.8;\" x=\"169.722384\" xlink:href=\"#m6d55ab00a5\" y=\"227.788252\"/>\n      </g>\n     </g>\n     <g id=\"text_3\">\n      <!-- 100 -->\n      <defs>\n       <path d=\"M 12.40625 8.296875 \nL 28.515625 8.296875 \nL 28.515625 63.921875 \nL 10.984375 60.40625 \nL 10.984375 69.390625 \nL 28.421875 72.90625 \nL 38.28125 72.90625 \nL 38.28125 8.296875 \nL 54.390625 8.296875 \nL 54.390625 0 \nL 12.40625 0 \nz\n\" id=\"DejaVuSans-49\"/>\n      </defs>\n      <g transform=\"translate(160.178634 242.386689)scale(0.1 -0.1)\">\n       <use xlink:href=\"#DejaVuSans-49\"/>\n       <use x=\"63.623047\" xlink:href=\"#DejaVuSans-48\"/>\n       <use x=\"127.246094\" xlink:href=\"#DejaVuSans-48\"/>\n      </g>\n     </g>\n    </g>\n    <g id=\"xtick_4\">\n     <g id=\"line2d_4\">\n      <g>\n       <use style=\"stroke:#000000;stroke-width:0.8;\" x=\"227.149485\" xlink:href=\"#m6d55ab00a5\" y=\"227.788252\"/>\n      </g>\n     </g>\n     <g id=\"text_4\">\n      <!-- 150 -->\n      <g transform=\"translate(217.605735 242.386689)scale(0.1 -0.1)\">\n       <use xlink:href=\"#DejaVuSans-49\"/>\n       <use x=\"63.623047\" xlink:href=\"#DejaVuSans-53\"/>\n       <use x=\"127.246094\" xlink:href=\"#DejaVuSans-48\"/>\n      </g>\n     </g>\n    </g>\n    <g id=\"xtick_5\">\n     <g id=\"line2d_5\">\n      <g>\n       <use style=\"stroke:#000000;stroke-width:0.8;\" x=\"284.576587\" xlink:href=\"#m6d55ab00a5\" y=\"227.788252\"/>\n      </g>\n     </g>\n     <g id=\"text_5\">\n      <!-- 200 -->\n      <defs>\n       <path d=\"M 19.1875 8.296875 \nL 53.609375 8.296875 \nL 53.609375 0 \nL 7.328125 0 \nL 7.328125 8.296875 \nQ 12.9375 14.109375 22.625 23.890625 \nQ 32.328125 33.6875 34.8125 36.53125 \nQ 39.546875 41.84375 41.421875 45.53125 \nQ 43.3125 49.21875 43.3125 52.78125 \nQ 43.3125 58.59375 39.234375 62.25 \nQ 35.15625 65.921875 28.609375 65.921875 \nQ 23.96875 65.921875 18.8125 64.3125 \nQ 13.671875 62.703125 7.8125 59.421875 \nL 7.8125 69.390625 \nQ 13.765625 71.78125 18.9375 73 \nQ 24.125 74.21875 28.421875 74.21875 \nQ 39.75 74.21875 46.484375 68.546875 \nQ 53.21875 62.890625 53.21875 53.421875 \nQ 53.21875 48.921875 51.53125 44.890625 \nQ 49.859375 40.875 45.40625 35.40625 \nQ 44.1875 33.984375 37.640625 27.21875 \nQ 31.109375 20.453125 19.1875 8.296875 \nz\n\" id=\"DejaVuSans-50\"/>\n      </defs>\n      <g transform=\"translate(275.032837 242.386689)scale(0.1 -0.1)\">\n       <use xlink:href=\"#DejaVuSans-50\"/>\n       <use x=\"63.623047\" xlink:href=\"#DejaVuSans-48\"/>\n       <use x=\"127.246094\" xlink:href=\"#DejaVuSans-48\"/>\n      </g>\n     </g>\n    </g>\n    <g id=\"xtick_6\">\n     <g id=\"line2d_6\">\n      <g>\n       <use style=\"stroke:#000000;stroke-width:0.8;\" x=\"342.003688\" xlink:href=\"#m6d55ab00a5\" y=\"227.788252\"/>\n      </g>\n     </g>\n     <g id=\"text_6\">\n      <!-- 250 -->\n      <g transform=\"translate(332.459938 242.386689)scale(0.1 -0.1)\">\n       <use xlink:href=\"#DejaVuSans-50\"/>\n       <use x=\"63.623047\" xlink:href=\"#DejaVuSans-53\"/>\n       <use x=\"127.246094\" xlink:href=\"#DejaVuSans-48\"/>\n      </g>\n     </g>\n    </g>\n   </g>\n   <g id=\"matplotlib.axis_2\">\n    <g id=\"ytick_1\">\n     <g id=\"line2d_7\">\n      <defs>\n       <path d=\"M 0 0 \nL -3.5 0 \n\" id=\"m0659dcbf3c\" style=\"stroke:#000000;stroke-width:0.8;\"/>\n      </defs>\n      <g>\n       <use style=\"stroke:#000000;stroke-width:0.8;\" x=\"39.65\" xlink:href=\"#m0659dcbf3c\" y=\"223.733536\"/>\n      </g>\n     </g>\n     <g id=\"text_7\">\n      <!-- 4400 -->\n      <defs>\n       <path d=\"M 37.796875 64.3125 \nL 12.890625 25.390625 \nL 37.796875 25.390625 \nz\nM 35.203125 72.90625 \nL 47.609375 72.90625 \nL 47.609375 25.390625 \nL 58.015625 25.390625 \nL 58.015625 17.1875 \nL 47.609375 17.1875 \nL 47.609375 0 \nL 37.796875 0 \nL 37.796875 17.1875 \nL 4.890625 17.1875 \nL 4.890625 26.703125 \nz\n\" id=\"DejaVuSans-52\"/>\n      </defs>\n      <g transform=\"translate(7.2 227.532754)scale(0.1 -0.1)\">\n       <use xlink:href=\"#DejaVuSans-52\"/>\n       <use x=\"63.623047\" xlink:href=\"#DejaVuSans-52\"/>\n       <use x=\"127.246094\" xlink:href=\"#DejaVuSans-48\"/>\n       <use x=\"190.869141\" xlink:href=\"#DejaVuSans-48\"/>\n      </g>\n     </g>\n    </g>\n    <g id=\"ytick_2\">\n     <g id=\"line2d_8\">\n      <g>\n       <use style=\"stroke:#000000;stroke-width:0.8;\" x=\"39.65\" xlink:href=\"#m0659dcbf3c\" y=\"181.186672\"/>\n      </g>\n     </g>\n     <g id=\"text_8\">\n      <!-- 4500 -->\n      <g transform=\"translate(7.2 184.985891)scale(0.1 -0.1)\">\n       <use xlink:href=\"#DejaVuSans-52\"/>\n       <use x=\"63.623047\" xlink:href=\"#DejaVuSans-53\"/>\n       <use x=\"127.246094\" xlink:href=\"#DejaVuSans-48\"/>\n       <use x=\"190.869141\" xlink:href=\"#DejaVuSans-48\"/>\n      </g>\n     </g>\n    </g>\n    <g id=\"ytick_3\">\n     <g id=\"line2d_9\">\n      <g>\n       <use style=\"stroke:#000000;stroke-width:0.8;\" x=\"39.65\" xlink:href=\"#m0659dcbf3c\" y=\"138.639809\"/>\n      </g>\n     </g>\n     <g id=\"text_9\">\n      <!-- 4600 -->\n      <defs>\n       <path d=\"M 33.015625 40.375 \nQ 26.375 40.375 22.484375 35.828125 \nQ 18.609375 31.296875 18.609375 23.390625 \nQ 18.609375 15.53125 22.484375 10.953125 \nQ 26.375 6.390625 33.015625 6.390625 \nQ 39.65625 6.390625 43.53125 10.953125 \nQ 47.40625 15.53125 47.40625 23.390625 \nQ 47.40625 31.296875 43.53125 35.828125 \nQ 39.65625 40.375 33.015625 40.375 \nz\nM 52.59375 71.296875 \nL 52.59375 62.3125 \nQ 48.875 64.0625 45.09375 64.984375 \nQ 41.3125 65.921875 37.59375 65.921875 \nQ 27.828125 65.921875 22.671875 59.328125 \nQ 17.53125 52.734375 16.796875 39.40625 \nQ 19.671875 43.65625 24.015625 45.921875 \nQ 28.375 48.1875 33.59375 48.1875 \nQ 44.578125 48.1875 50.953125 41.515625 \nQ 57.328125 34.859375 57.328125 23.390625 \nQ 57.328125 12.15625 50.6875 5.359375 \nQ 44.046875 -1.421875 33.015625 -1.421875 \nQ 20.359375 -1.421875 13.671875 8.265625 \nQ 6.984375 17.96875 6.984375 36.375 \nQ 6.984375 53.65625 15.1875 63.9375 \nQ 23.390625 74.21875 37.203125 74.21875 \nQ 40.921875 74.21875 44.703125 73.484375 \nQ 48.484375 72.75 52.59375 71.296875 \nz\n\" id=\"DejaVuSans-54\"/>\n      </defs>\n      <g transform=\"translate(7.2 142.439028)scale(0.1 -0.1)\">\n       <use xlink:href=\"#DejaVuSans-52\"/>\n       <use x=\"63.623047\" xlink:href=\"#DejaVuSans-54\"/>\n       <use x=\"127.246094\" xlink:href=\"#DejaVuSans-48\"/>\n       <use x=\"190.869141\" xlink:href=\"#DejaVuSans-48\"/>\n      </g>\n     </g>\n    </g>\n    <g id=\"ytick_4\">\n     <g id=\"line2d_10\">\n      <g>\n       <use style=\"stroke:#000000;stroke-width:0.8;\" x=\"39.65\" xlink:href=\"#m0659dcbf3c\" y=\"96.092946\"/>\n      </g>\n     </g>\n     <g id=\"text_10\">\n      <!-- 4700 -->\n      <defs>\n       <path d=\"M 8.203125 72.90625 \nL 55.078125 72.90625 \nL 55.078125 68.703125 \nL 28.609375 0 \nL 18.3125 0 \nL 43.21875 64.59375 \nL 8.203125 64.59375 \nz\n\" id=\"DejaVuSans-55\"/>\n      </defs>\n      <g transform=\"translate(7.2 99.892164)scale(0.1 -0.1)\">\n       <use xlink:href=\"#DejaVuSans-52\"/>\n       <use x=\"63.623047\" xlink:href=\"#DejaVuSans-55\"/>\n       <use x=\"127.246094\" xlink:href=\"#DejaVuSans-48\"/>\n       <use x=\"190.869141\" xlink:href=\"#DejaVuSans-48\"/>\n      </g>\n     </g>\n    </g>\n    <g id=\"ytick_5\">\n     <g id=\"line2d_11\">\n      <g>\n       <use style=\"stroke:#000000;stroke-width:0.8;\" x=\"39.65\" xlink:href=\"#m0659dcbf3c\" y=\"53.546082\"/>\n      </g>\n     </g>\n     <g id=\"text_11\">\n      <!-- 4800 -->\n      <defs>\n       <path d=\"M 31.78125 34.625 \nQ 24.75 34.625 20.71875 30.859375 \nQ 16.703125 27.09375 16.703125 20.515625 \nQ 16.703125 13.921875 20.71875 10.15625 \nQ 24.75 6.390625 31.78125 6.390625 \nQ 38.8125 6.390625 42.859375 10.171875 \nQ 46.921875 13.96875 46.921875 20.515625 \nQ 46.921875 27.09375 42.890625 30.859375 \nQ 38.875 34.625 31.78125 34.625 \nz\nM 21.921875 38.8125 \nQ 15.578125 40.375 12.03125 44.71875 \nQ 8.5 49.078125 8.5 55.328125 \nQ 8.5 64.0625 14.71875 69.140625 \nQ 20.953125 74.21875 31.78125 74.21875 \nQ 42.671875 74.21875 48.875 69.140625 \nQ 55.078125 64.0625 55.078125 55.328125 \nQ 55.078125 49.078125 51.53125 44.71875 \nQ 48 40.375 41.703125 38.8125 \nQ 48.828125 37.15625 52.796875 32.3125 \nQ 56.78125 27.484375 56.78125 20.515625 \nQ 56.78125 9.90625 50.3125 4.234375 \nQ 43.84375 -1.421875 31.78125 -1.421875 \nQ 19.734375 -1.421875 13.25 4.234375 \nQ 6.78125 9.90625 6.78125 20.515625 \nQ 6.78125 27.484375 10.78125 32.3125 \nQ 14.796875 37.15625 21.921875 38.8125 \nz\nM 18.3125 54.390625 \nQ 18.3125 48.734375 21.84375 45.5625 \nQ 25.390625 42.390625 31.78125 42.390625 \nQ 38.140625 42.390625 41.71875 45.5625 \nQ 45.3125 48.734375 45.3125 54.390625 \nQ 45.3125 60.0625 41.71875 63.234375 \nQ 38.140625 66.40625 31.78125 66.40625 \nQ 25.390625 66.40625 21.84375 63.234375 \nQ 18.3125 60.0625 18.3125 54.390625 \nz\n\" id=\"DejaVuSans-56\"/>\n      </defs>\n      <g transform=\"translate(7.2 57.345301)scale(0.1 -0.1)\">\n       <use xlink:href=\"#DejaVuSans-52\"/>\n       <use x=\"63.623047\" xlink:href=\"#DejaVuSans-56\"/>\n       <use x=\"127.246094\" xlink:href=\"#DejaVuSans-48\"/>\n       <use x=\"190.869141\" xlink:href=\"#DejaVuSans-48\"/>\n      </g>\n     </g>\n    </g>\n    <g id=\"ytick_6\">\n     <g id=\"line2d_12\">\n      <g>\n       <use style=\"stroke:#000000;stroke-width:0.8;\" x=\"39.65\" xlink:href=\"#m0659dcbf3c\" y=\"10.999219\"/>\n      </g>\n     </g>\n     <g id=\"text_12\">\n      <!-- 4900 -->\n      <defs>\n       <path d=\"M 10.984375 1.515625 \nL 10.984375 10.5 \nQ 14.703125 8.734375 18.5 7.8125 \nQ 22.3125 6.890625 25.984375 6.890625 \nQ 35.75 6.890625 40.890625 13.453125 \nQ 46.046875 20.015625 46.78125 33.40625 \nQ 43.953125 29.203125 39.59375 26.953125 \nQ 35.25 24.703125 29.984375 24.703125 \nQ 19.046875 24.703125 12.671875 31.3125 \nQ 6.296875 37.9375 6.296875 49.421875 \nQ 6.296875 60.640625 12.9375 67.421875 \nQ 19.578125 74.21875 30.609375 74.21875 \nQ 43.265625 74.21875 49.921875 64.515625 \nQ 56.59375 54.828125 56.59375 36.375 \nQ 56.59375 19.140625 48.40625 8.859375 \nQ 40.234375 -1.421875 26.421875 -1.421875 \nQ 22.703125 -1.421875 18.890625 -0.6875 \nQ 15.09375 0.046875 10.984375 1.515625 \nz\nM 30.609375 32.421875 \nQ 37.25 32.421875 41.125 36.953125 \nQ 45.015625 41.5 45.015625 49.421875 \nQ 45.015625 57.28125 41.125 61.84375 \nQ 37.25 66.40625 30.609375 66.40625 \nQ 23.96875 66.40625 20.09375 61.84375 \nQ 16.21875 57.28125 16.21875 49.421875 \nQ 16.21875 41.5 20.09375 36.953125 \nQ 23.96875 32.421875 30.609375 32.421875 \nz\n\" id=\"DejaVuSans-57\"/>\n      </defs>\n      <g transform=\"translate(7.2 14.798438)scale(0.1 -0.1)\">\n       <use xlink:href=\"#DejaVuSans-52\"/>\n       <use x=\"63.623047\" xlink:href=\"#DejaVuSans-57\"/>\n       <use x=\"127.246094\" xlink:href=\"#DejaVuSans-48\"/>\n       <use x=\"190.869141\" xlink:href=\"#DejaVuSans-48\"/>\n      </g>\n     </g>\n    </g>\n   </g>\n   <g id=\"line2d_13\">\n    <path clip-path=\"url(#p9ce8d5b87e)\" d=\"M 54.868182 119.068252 \nL 359.231818 119.068252 \nL 359.231818 119.068252 \n\" style=\"fill:none;stroke:#1f77b4;stroke-linecap:square;stroke-width:1.5;\"/>\n   </g>\n   <g id=\"patch_3\">\n    <path d=\"M 39.65 227.788252 \nL 39.65 10.348252 \n\" style=\"fill:none;stroke:#000000;stroke-linecap:square;stroke-linejoin:miter;stroke-width:0.8;\"/>\n   </g>\n   <g id=\"patch_4\">\n    <path d=\"M 374.45 227.788252 \nL 374.45 10.348252 \n\" style=\"fill:none;stroke:#000000;stroke-linecap:square;stroke-linejoin:miter;stroke-width:0.8;\"/>\n   </g>\n   <g id=\"patch_5\">\n    <path d=\"M 39.65 227.788252 \nL 374.45 227.788252 \n\" style=\"fill:none;stroke:#000000;stroke-linecap:square;stroke-linejoin:miter;stroke-width:0.8;\"/>\n   </g>\n   <g id=\"patch_6\">\n    <path d=\"M 39.65 10.348252 \nL 374.45 10.348252 \n\" style=\"fill:none;stroke:#000000;stroke-linecap:square;stroke-linejoin:miter;stroke-width:0.8;\"/>\n   </g>\n  </g>\n </g>\n <defs>\n  <clipPath id=\"p9ce8d5b87e\">\n   <rect height=\"217.44\" width=\"334.8\" x=\"39.65\" y=\"10.348252\"/>\n  </clipPath>\n </defs>\n</svg>\n",
      "image/png": "[encoded data removed]"
     },
     "metadata": {
      "needs_background": "light"
     }
    }
   ],
   "source": [
    "plt.plot(ys)"
   ]
  },
  {
   "cell_type": "code",
   "execution_count": 85,
   "metadata": {},
   "outputs": [],
   "source": [
    "y_train = df_train['Y'].values\n",
    "x_train = xs_t"
   ]
  },
  {
   "cell_type": "code",
   "execution_count": 119,
   "metadata": {},
   "outputs": [],
   "source": [
    "# USING RANDOM FOREST CLASSIFIER\n",
    "from sklearn.ensemble import RandomForestClassifier\n",
    "rfc = RandomForestClassifier(max_depth =50,oob_score = True,criterion=\"entropy\",n_jobs=-1)\n"
   ]
  },
  {
   "cell_type": "code",
   "execution_count": 120,
   "metadata": {},
   "outputs": [
    {
     "output_type": "execute_result",
     "data": {
      "text/plain": "RandomForestClassifier(bootstrap=True, ccp_alpha=0.0, class_weight=None,\n                       criterion='entropy', max_depth=50, max_features='auto',\n                       max_leaf_nodes=None, max_samples=None,\n                       min_impurity_decrease=0.0, min_impurity_split=None,\n                       min_samples_leaf=1, min_samples_split=2,\n                       min_weight_fraction_leaf=0.0, n_estimators=100,\n                       n_jobs=-1, oob_score=True, random_state=None, verbose=0,\n                       warm_start=False)"
     },
     "metadata": {},
     "execution_count": 120
    }
   ],
   "source": [
    "rfc.fit(x_train,y_train)"
   ]
  },
  {
   "cell_type": "code",
   "execution_count": 36,
   "metadata": {},
   "outputs": [],
   "source": [
    "# Y_train = df_train['Y'].apply(toTensor).values"
   ]
  },
  {
   "cell_type": "code",
   "execution_count": 35,
   "metadata": {},
   "outputs": [],
   "source": [
    "model = LSTM_TE(EMBED_DIM, HIDDEN_DIM, VOCAB_SIZE, CLASS_SIZE)\n",
    "loss_function = nn.CrossEntropyLoss()\n",
    "optimizer = optim.SGD(model.parameters(),lr=0.001)"
   ]
  },
  {
   "cell_type": "code",
   "execution_count": 37,
   "metadata": {},
   "outputs": [
    {
     "output_type": "stream",
     "name": "stdout",
     "text": "358.9650790691376\n354.49069690704346\n353.1128478050232\n352.3536539077759\n653.7088289260864\n"
    }
   ],
   "source": [
    "for epoch in range(5):\n",
    "    epoch_loss = 0\n",
    "    st_time = time.time() \n",
    "    for i in range(len(x_trainx)):\n",
    "        model.zero_grad()\n",
    "        loss = loss_function( model( x_trainx[i] ).reshape((1,8)) , Y_train[i].reshape((1)) )\n",
    "        epoch_loss += loss.item()\n",
    "        loss.backward()\n",
    "        optimizer.step()\n",
    "    print( time.time() - st_time )"
   ]
  },
  {
   "cell_type": "code",
   "execution_count": 40,
   "metadata": {},
   "outputs": [],
   "source": [
    "df_test.columns = ['pmid', 'title', 'abstract', 'Belongs','Relevant Context', 'Y', 'c_title', 'c_abstract']"
   ]
  },
  {
   "cell_type": "code",
   "execution_count": null,
   "metadata": {},
   "outputs": [],
   "source": []
  },
  {
   "cell_type": "code",
   "execution_count": 80,
   "metadata": {},
   "outputs": [],
   "source": [
    "df_test['inp'] = df_test['c_title']  + df_test['c_abstract']"
   ]
  },
  {
   "cell_type": "code",
   "execution_count": 85,
   "metadata": {},
   "outputs": [],
   "source": [
    "x_test = df_test['inp'].values"
   ]
  },
  {
   "cell_type": "code",
   "execution_count": 86,
   "metadata": {},
   "outputs": [],
   "source": [
    "x_test = list(vectorizer.transform( x_test ).toarray())"
   ]
  },
  {
   "cell_type": "code",
   "execution_count": 88,
   "metadata": {},
   "outputs": [
    {
     "output_type": "execute_result",
     "data": {
      "text/plain": "array([0., 0., 0., ..., 0., 0., 0.])"
     },
     "metadata": {},
     "execution_count": 88
    }
   ],
   "source": [
    "x_test[0]"
   ]
  },
  {
   "cell_type": "code",
   "execution_count": 89,
   "metadata": {},
   "outputs": [],
   "source": [
    "df_test['inp2'] = x_test"
   ]
  },
  {
   "cell_type": "code",
   "execution_count": 104,
   "metadata": {},
   "outputs": [],
   "source": [
    "df_test['inp'] = df_test['c_title'] + df_test['c_abstract']\n",
    "df_test['Belongs'] = df_test['Belongs to RDoC construct?']\n",
    "gdf = df_test.groupby('Y')"
   ]
  },
  {
   "cell_type": "code",
   "execution_count": 105,
   "metadata": {},
   "outputs": [],
   "source": [
    "# gdf.groups\n",
    "construct_test = {}\n",
    "for i in range(8):\n",
    "  construct_test[i]= df_test.iloc[gdf.groups[i]]"
   ]
  },
  {
   "cell_type": "code",
   "execution_count": 117,
   "metadata": {},
   "outputs": [
    {
     "output_type": "stream",
     "name": "stdout",
     "text": "Loss 0.6044427301983917\nFrustrative_Nonreward 0.659893358313573\nSleep_Wakefulness 0.998197909388957\nSustained_Threat 0.5988373139249042\nPotential_Threat_Anxiety 0.964303629453986\nCircadian_Rhythms 1.0\nArousal 0.9362103088721436\nAcute_Threat_Fear 0.7729992238122487\nLoss 0.6044427301983917\nFrustrative_Nonreward 0.659893358313573\nSleep_Wakefulness 0.998197909388957\nSustained_Threat 0.5988373139249042\nPotential_Threat_Anxiety 0.964303629453986\nCircadian_Rhythms 1.0\nArousal 0.9362103088721436\nAcute_Threat_Fear 0.7729992238122487\nLoss 0.6044427301983917\nFrustrative_Nonreward 0.659893358313573\nSleep_Wakefulness 0.998197909388957\nSustained_Threat 0.5988373139249042\nPotential_Threat_Anxiety 0.964303629453986\nCircadian_Rhythms 1.0\nArousal 0.9362103088721436\nAcute_Threat_Fear 0.7729992238122487\nLoss 0.6044427301983917\nFrustrative_Nonreward 0.659893358313573\nSleep_Wakefulness 0.998197909388957\nSustained_Threat 0.5988373139249042\nPotential_Threat_Anxiety 0.964303629453986\nCircadian_Rhythms 1.0\nArousal 0.9362103088721436\nAcute_Threat_Fear 0.7729992238122487\nLoss 0.6044427301983917\nFrustrative_Nonreward 0.659893358313573\nSleep_Wakefulness 0.998197909388957\nSustained_Threat 0.5988373139249042\nPotential_Threat_Anxiety 0.964303629453986\nCircadian_Rhythms 1.0\nArousal 0.9362103088721436\nAcute_Threat_Fear 0.7729992238122487\nLoss 0.6044427301983917\nFrustrative_Nonreward 0.659893358313573\nSleep_Wakefulness 0.998197909388957\nSustained_Threat 0.5988373139249042\nPotential_Threat_Anxiety 0.964303629453986\nCircadian_Rhythms 1.0\nArousal 0.9362103088721436\nAcute_Threat_Fear 0.7729992238122487\nLoss 0.6044427301983917\nFrustrative_Nonreward 0.659893358313573\nSleep_Wakefulness 0.998197909388957\nSustained_Threat 0.5988373139249042\nPotential_Threat_Anxiety 0.964303629453986\nCircadian_Rhythms 1.0\nArousal 0.9362103088721436\nAcute_Threat_Fear 0.7729992238122487\nLoss 0.6044427301983917\nFrustrative_Nonreward 0.659893358313573\nSleep_Wakefulness 0.998197909388957\nSustained_Threat 0.5988373139249042\nPotential_Threat_Anxiety 0.964303629453986\nCircadian_Rhythms 1.0\nArousal 0.9362103088721436\nAcute_Threat_Fear 0.7729992238122487\nLoss 0.6044427301983917\nFrustrative_Nonreward 0.659893358313573\nSleep_Wakefulness 0.998197909388957\nSustained_Threat 0.5988373139249042\nPotential_Threat_Anxiety 0.964303629453986\nCircadian_Rhythms 1.0\nArousal 0.9362103088721436\nAcute_Threat_Fear 0.7729992238122487\nLoss 0.6044427301983917\nFrustrative_Nonreward 0.659893358313573\nSleep_Wakefulness 0.998197909388957\nSustained_Threat 0.5988373139249042\nPotential_Threat_Anxiety 0.964303629453986\nCircadian_Rhythms 1.0\nArousal 0.9362103088721436\nAcute_Threat_Fear 0.7729992238122487\n"
    }
   ],
   "source": [
    "map_list = []\n",
    "class_count = {}\n",
    "for _ in range(10):\n",
    "  aps = 0\n",
    "  for cl_ in construct_test.keys():\n",
    "    X_test = tfidf.transform(construct_test[cl_]['inp']).toarray()\n",
    "    y_pred = rfc.predict_proba(X_test)[:,cl_]\n",
    "    # print(y_pred.shape)\n",
    "    y_belongs = np.array(construct_test[cl_]['Belongs'].values).reshape(len(X_test),1)\n",
    "    # print(y_belongs.shape)\n",
    "    # print(np.concatenate((y_belongs,y_pred),axis =1 ))\n",
    "    t = ap(y_pred,y_belongs)\n",
    "    print(revLabels[cl_],t)\n",
    "    aps += t\n",
    "  # println()\n",
    "  map_list.append(aps/8)\n",
    "  # break\n",
    ""
   ]
  },
  {
   "cell_type": "code",
   "execution_count": 118,
   "metadata": {},
   "outputs": [
    {
     "output_type": "execute_result",
     "data": {
      "text/plain": "0.8168605592455256"
     },
     "metadata": {},
     "execution_count": 118
    }
   ],
   "source": [
    "np.mean(map_list)"
   ]
  },
  {
   "cell_type": "code",
   "execution_count": 98,
   "metadata": {},
   "outputs": [
    {
     "output_type": "error",
     "ename": "KeyError",
     "evalue": "0",
     "traceback": [
      "\u001b[0;31m---------------------------------------------------------------------------\u001b[0m",
      "\u001b[0;31mKeyError\u001b[0m                                  Traceback (most recent call last)",
      "\u001b[0;32m<ipython-input-98-c3dd0532462e>\u001b[0m in \u001b[0;36m<module>\u001b[0;34m\u001b[0m\n\u001b[1;32m     15\u001b[0m     \u001b[0;31m# print(np.concatenate((y_belongs,y_pred),axis =1 ))\u001b[0m\u001b[0;34m\u001b[0m\u001b[0;34m\u001b[0m\u001b[0;34m\u001b[0m\u001b[0m\n\u001b[1;32m     16\u001b[0m     \u001b[0mt\u001b[0m \u001b[0;34m=\u001b[0m \u001b[0map\u001b[0m\u001b[0;34m(\u001b[0m\u001b[0my_pred\u001b[0m\u001b[0;34m,\u001b[0m\u001b[0my_belongs\u001b[0m\u001b[0;34m)\u001b[0m\u001b[0;34m\u001b[0m\u001b[0;34m\u001b[0m\u001b[0m\n\u001b[0;32m---> 17\u001b[0;31m     \u001b[0mprint\u001b[0m\u001b[0;34m(\u001b[0m\u001b[0mlabels\u001b[0m\u001b[0;34m[\u001b[0m\u001b[0mcl_\u001b[0m\u001b[0;34m]\u001b[0m\u001b[0;34m,\u001b[0m\u001b[0mt\u001b[0m\u001b[0;34m)\u001b[0m\u001b[0;34m\u001b[0m\u001b[0;34m\u001b[0m\u001b[0m\n\u001b[0m\u001b[1;32m     18\u001b[0m     \u001b[0maps\u001b[0m \u001b[0;34m+=\u001b[0m \u001b[0mt\u001b[0m\u001b[0;34m\u001b[0m\u001b[0;34m\u001b[0m\u001b[0m\n\u001b[1;32m     19\u001b[0m   \u001b[0;31m# println()\u001b[0m\u001b[0;34m\u001b[0m\u001b[0;34m\u001b[0m\u001b[0;34m\u001b[0m\u001b[0m\n",
      "\u001b[0;31mKeyError\u001b[0m: 0"
     ]
    }
   ],
   "source": [
    "map_list = []\n",
    "class_count = {}\n",
    "for _ in range(1):\n",
    "  aps = 0\n",
    "  for cl_ in construct_test.keys():\n",
    "    X_test = construct_test[cl_]['inp2'].apply(toTensor).values\n",
    "    y_pred = torch.randn((len(X_test),1)).to(device)\n",
    "    class_count[cl_] = len(X_test)\n",
    "    for i in range(len(X_test)):\n",
    "      y_pred[i] = model(X_test[i].to(device))[cl_,0].reshape(1,1)\n",
    "    y_pred = y_pred.cpu().detach().numpy()\n",
    "    # print(y_pred.shape)\n",
    "    y_belongs = np.array(construct_test[cl_]['Belongs'].values).reshape(len(X_test),1)\n",
    "    # print(y_belongs.shape)\n",
    "    # print(np.concatenate((y_belongs,y_pred),axis =1 ))\n",
    "    t = ap(y_pred,y_belongs)\n",
    "    print(labels[cl_],t)\n",
    "    aps += t\n",
    "  # println()\n",
    "  map_list.append(aps/8)\n",
    "  # break\n",
    ""
   ]
  },
  {
   "cell_type": "code",
   "execution_count": null,
   "metadata": {},
   "outputs": [],
   "source": [
    "def ap(y_pred,y_belong):\n",
    "  y_pred = np.array(y_pred)\n",
    "  y_belong = np.array(y_belong)\n",
    "  y_pred = y_pred.reshape(-1,1)\n",
    "  y_belong = y_belong.reshape(-1,1)\n",
    "  arr = np.concatenate((y_pred,y_belong),axis=1)\n",
    "  \n",
    "  arr = sorted(arr,key = lambda x:x[0],reverse=True)\n",
    "  \n",
    "  ans = 0\n",
    "  rel = 0\n",
    "  num = 0\n",
    "  for i in range(len(y_pred)):\n",
    "    if arr[i][1] == 1:\n",
    "      rel = rel+1\n",
    "      ans += rel/(i+1)\n",
    "      num = num+1\n",
    "  return ans/num\n",
    "\n",
    "def map(y_pred,y,y_belong):\n",
    "  j = 0\n",
    "  j_prev = 0\n",
    "  ans = 0\n",
    "  for i in range(8):\n",
    "    while j<len(y) and y[j] == i:\n",
    "      j = j+1\n",
    "    ans = ans + ap(y_pred[j_prev:j],y_belong[j_prev:j])\n",
    "    j_prev = j\n",
    "  return ans/8\n"
   ]
  },
  {
   "cell_type": "code",
   "execution_count": null,
   "metadata": {},
   "outputs": [],
   "source": []
  },
  {
   "cell_type": "code",
   "execution_count": null,
   "metadata": {},
   "outputs": [],
   "source": []
  }
 ]
}